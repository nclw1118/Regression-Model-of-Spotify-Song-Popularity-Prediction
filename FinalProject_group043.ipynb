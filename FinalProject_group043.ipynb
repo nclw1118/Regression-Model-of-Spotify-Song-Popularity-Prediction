{
 "cells": [
  {
   "cell_type": "markdown",
   "metadata": {
    "id": "9KE27dVjpRmS"
   },
   "source": [
    "# COGS 118A- Project Checkpoint"
   ]
  },
  {
   "cell_type": "markdown",
   "metadata": {
    "id": "ShTUUXFOpRmV"
   },
   "source": [
    "# Names\n",
    "\n",
    "- Cain Chen\n",
    "- Zhigang Lin\n",
    "- Xue Wang\n",
    "- Hongxin Song\n",
    "- Jinghong Luo"
   ]
  },
  {
   "cell_type": "markdown",
   "metadata": {
    "id": "OHiqnHQFpRmW"
   },
   "source": [
    "# Abstract \n",
    "The aim of this project is to predict the popularity of a new track taking features such as artists, danceability and duration etc. by generating a model based on supervised machine learning algorithms. The data we choose to use is a dataset which contains audio and other features of more than 600,000 tracks extracted from spotify ranging from 1921 to 2022. We plan to first standardize features like duration, numbers of followers of the artists and date. Then we would take a close look at the features through EDA to determine further data preprocessing procedure of the dataset. Next step is to create a baseline model using linear regression with dancibility as the sole predictive parameter. In order to generate a high- accuracy model, we would use different supervised algorithms like SVR, random forest regressor and LASSO regression with engineered features and measure their performances using different metrics such as $R^2$ and MSE. We strive for a higher $R^2$ score and a lower MSE. We will also incorporate cross validation for tuning the hyperparameters. At the end, We plan to generate a simple neural network using keras to see whether this gives us higher accuracy. "
   ]
  },
  {
   "cell_type": "markdown",
   "metadata": {
    "id": "ggWJ6_qMpRmX"
   },
   "source": [
    "# Background\n",
    "\n",
    "Music has always been an important component of the entertainment industry. The emergence of pop music began with songs and pieces available as digital sound files. People's orientation to music has evolved with time, from country and rock of “the good old days”  to electronic and hip-hop styles that are nowadays popular. A variety of factors can determine the popularity of a track. Rhythm and lyrics are some of the most important features in determining the popularity as well as other features like the producer, energy and release date. Our goal is to predict the popularity<a name=\"ref_1\"></a>[<sup>[1]</sup>](#reference_1) of the track once it is released based on basic features of the track. Other data scientists have tried to use only the audio feature of the song itself to predict its popularity<a name=\"ref_2\"></a>[<sup>[2]</sup>](#reference_2). While they used primarily audio features to train their model, we have decided to tackle the problem from a different perspective, incorporating features such as the producer, the number of followers the artist has and the name of the track. We believe that our model enables us to predict the popularity of the track more effectively, i.e. without the need to listen to the whole track."
   ]
  },
  {
   "cell_type": "markdown",
   "metadata": {
    "id": "LL2wyxolpRmY"
   },
   "source": [
    "# Problem Statement\n",
    "\n",
    "After looking at the dataset, we find an interesting column called <b>popularity</b>. Based on the description from the source of the data(Kaggle), this column measures how popular the track is in a range of 0 to 100. We intend to understand how the values in the popularity column are obtained. More specifically, given other columns such as energy, danceability and #_followers, can we predict the popularity of the track? Additionally, based on domain knowledge, are there any other interesting features that we can engineer in order to improve our predictions? According to other data scientists, \"the genre, track lyrics, day of release, and artist are driving forces for predicting popularity.\"<a name=\"ref_3\"></a>[<sup>[3]</sup>](#reference_3) Also note that the duration of the track and the number of profane words used are correlated with the popularity<a name=\"ref_3\"></a>[<sup>[3]</sup>](#reference_3). It is clear that we have a regression problem here since the predicted values are continuous. If we take linear regression as an example, this problem can be expressed as  $popularity=w_0+w_1x_1+...+w_dx_d$ where $x_i$'s are features to be determined. Therefore our goal is to fit the best regression model with appropriate features in order to improve our prediction accuracy on popularity. "
   ]
  },
  {
   "cell_type": "markdown",
   "metadata": {
    "id": "r9dkGIYbpRma"
   },
   "source": [
    "# Original Data\n",
    "\n",
    "### Dataset Overview<a name=\"data\"></a>[<sup>[4]</sup>](#data_ref)\n",
    "The dataset consists of two separate sub-datasets which we will combine together in this project.\n",
    "* The first sub-dataset, which is based on artists' popularity, has a shape of **(1162095, 5)**, meaning we will have **1162095** observations and **5** variables.\n",
    "* The second sub-dataset, which is on features of tracks, has a shape of **(586672, 20)**, meaning we will have **586672** observations and **20** variables.\n",
    "\n",
    "### Features of the First sub-dataset\n",
    "* Id: unique id of artist\n",
    "* followers: number of followers for that artist\n",
    "* genres: the genres associated with artist in list\n",
    "* name: the name of artist\n",
    "* popularity: the popularity of artist in range 0 to 100\n",
    "\n",
    "### Features of the Second sub-dataset\n",
    "* Id: unique id of track from the artist(s)\n",
    "* name: name of track\n",
    "* popularity: popularity of track in range 0 and 100\n",
    "* duration_ms: duration of songs in milisecond\n",
    "* explicit: whether it contains explicit content or not, using 1 to represent explicit and 0 otherwise.\n",
    "* artists: artist(s) who created the track\n",
    "* id_artists: id of artists who created the track\n",
    "* release_date: date of release for the track\n",
    "* danceability: how danceable a song is in range 0 to 1\n",
    "* energy: how energized a song is in range 0 to 1\n",
    "* key: major note of track\n",
    "* loudness: how loud a song is in db\n",
    "* mode: the modality of track, using 1 to represent major and 0 for minor\n",
    "* speechiness: the presence of spoken words in track in range 0 to 1\n",
    "* acousticness: how acoustic a track is in range 0 and 1\n",
    "* instrumentalness: the absence of vocal sounds in track in range 0 to 1\n",
    "* liveness: the presence of audience in track in range 0 to 1\n",
    "* valence: the positiveness of the track in range 0 to 1\n",
    "* tempo: the overall tempo of track in BPM\n",
    "* time_signature: the time signature of the track in range 0 to 5. \n",
    "\n",
    "### Critical Variable Representations\n",
    "* popularity (in both dataset): represented in floats in the range 0 to 100\n",
    "* release_date: date of release for the track\n",
    "* danceability: how danceable a song is in range 0 to 1\n",
    "* energy: how energized a song is in range 0 to 1\n",
    "* key: major note of track\n",
    "* loudness: how loud a song is in db\n",
    "* mode: the modality of track, using 1 to represent major and 0 for minor\n",
    "* speechiness: the presence of spoken words in track in range 0 to 1\n",
    "* acousticness: how acoustic a track is in range 0 and 1\n",
    "instrumentalness: the absence of vocal sounds in track in range 0 to 1\n",
    "* liveness: the presence of audience in track in range 0 to 1\n",
    "* valence: the positiveness of the track in range 0 to 1\n",
    "* tempo: the overall tempo of track in BPM\n",
    "* time_signature: the time signature of the track in range 0 to 5\n",
    "\n",
    "<b>Any special handling, transformations, cleaning etc will be needed:</b><br>\n",
    "We will make sure to clean up the dataset to remove any unwanted duplicating observations.<br>\n",
    "We will also make sure to take good care of missing data by implementing appropriate data imputation methods.\n"
   ]
  },
  {
   "cell_type": "markdown",
   "metadata": {
    "id": "ij6M_65OpRmb"
   },
   "source": [
    "## Data Cleaning"
   ]
  },
  {
   "cell_type": "code",
   "execution_count": 1,
   "metadata": {
    "id": "F4TobVVQpRmc"
   },
   "outputs": [],
   "source": [
    "import pandas as pd\n",
    "import numpy as np\n",
    "from tqdm.auto import tqdm\n",
    "from sklearn.preprocessing import MinMaxScaler"
   ]
  },
  {
   "cell_type": "code",
   "execution_count": null,
   "metadata": {
    "id": "6BsndR2lpRmd"
   },
   "outputs": [],
   "source": [
    "artists=pd.read_csv('data/artists.csv')\n",
    "tracks=pd.read_csv('data/tracks.csv')"
   ]
  },
  {
   "cell_type": "code",
   "execution_count": null,
   "metadata": {
    "id": "R1p1wkDrpRme",
    "outputId": "bcb99ea3-9a67-4e2f-cf94-11b7b97d772b"
   },
   "outputs": [
    {
     "data": {
      "text/html": [
       "<div>\n",
       "<style scoped>\n",
       "    .dataframe tbody tr th:only-of-type {\n",
       "        vertical-align: middle;\n",
       "    }\n",
       "\n",
       "    .dataframe tbody tr th {\n",
       "        vertical-align: top;\n",
       "    }\n",
       "\n",
       "    .dataframe thead th {\n",
       "        text-align: right;\n",
       "    }\n",
       "</style>\n",
       "<table border=\"1\" class=\"dataframe\">\n",
       "  <thead>\n",
       "    <tr style=\"text-align: right;\">\n",
       "      <th></th>\n",
       "      <th>id</th>\n",
       "      <th>name</th>\n",
       "      <th>popularity</th>\n",
       "      <th>duration_ms</th>\n",
       "      <th>explicit</th>\n",
       "      <th>artists</th>\n",
       "      <th>id_artists</th>\n",
       "      <th>release_date</th>\n",
       "      <th>danceability</th>\n",
       "      <th>energy</th>\n",
       "      <th>key</th>\n",
       "      <th>loudness</th>\n",
       "      <th>mode</th>\n",
       "      <th>speechiness</th>\n",
       "      <th>acousticness</th>\n",
       "      <th>instrumentalness</th>\n",
       "      <th>liveness</th>\n",
       "      <th>valence</th>\n",
       "      <th>tempo</th>\n",
       "      <th>time_signature</th>\n",
       "    </tr>\n",
       "  </thead>\n",
       "  <tbody>\n",
       "    <tr>\n",
       "      <th>0</th>\n",
       "      <td>35iwgR4jXetI318WEWsa1Q</td>\n",
       "      <td>Carve</td>\n",
       "      <td>6</td>\n",
       "      <td>126903</td>\n",
       "      <td>0</td>\n",
       "      <td>['Uli']</td>\n",
       "      <td>['45tIt06XoI0Iio4LBEVpls']</td>\n",
       "      <td>1922-02-22</td>\n",
       "      <td>0.645</td>\n",
       "      <td>0.4450</td>\n",
       "      <td>0</td>\n",
       "      <td>-13.338</td>\n",
       "      <td>1</td>\n",
       "      <td>0.4510</td>\n",
       "      <td>0.674</td>\n",
       "      <td>0.7440</td>\n",
       "      <td>0.151</td>\n",
       "      <td>0.127</td>\n",
       "      <td>104.851</td>\n",
       "      <td>3</td>\n",
       "    </tr>\n",
       "    <tr>\n",
       "      <th>1</th>\n",
       "      <td>021ht4sdgPcrDgSk7JTbKY</td>\n",
       "      <td>Capítulo 2.16 - Banquero Anarquista</td>\n",
       "      <td>0</td>\n",
       "      <td>98200</td>\n",
       "      <td>0</td>\n",
       "      <td>['Fernando Pessoa']</td>\n",
       "      <td>['14jtPCOoNZwquk5wd9DxrY']</td>\n",
       "      <td>1922-06-01</td>\n",
       "      <td>0.695</td>\n",
       "      <td>0.2630</td>\n",
       "      <td>0</td>\n",
       "      <td>-22.136</td>\n",
       "      <td>1</td>\n",
       "      <td>0.9570</td>\n",
       "      <td>0.797</td>\n",
       "      <td>0.0000</td>\n",
       "      <td>0.148</td>\n",
       "      <td>0.655</td>\n",
       "      <td>102.009</td>\n",
       "      <td>1</td>\n",
       "    </tr>\n",
       "    <tr>\n",
       "      <th>2</th>\n",
       "      <td>07A5yehtSnoedViJAZkNnc</td>\n",
       "      <td>Vivo para Quererte - Remasterizado</td>\n",
       "      <td>0</td>\n",
       "      <td>181640</td>\n",
       "      <td>0</td>\n",
       "      <td>['Ignacio Corsini']</td>\n",
       "      <td>['5LiOoJbxVSAMkBS2fUm3X2']</td>\n",
       "      <td>1922-03-21</td>\n",
       "      <td>0.434</td>\n",
       "      <td>0.1770</td>\n",
       "      <td>1</td>\n",
       "      <td>-21.180</td>\n",
       "      <td>1</td>\n",
       "      <td>0.0512</td>\n",
       "      <td>0.994</td>\n",
       "      <td>0.0218</td>\n",
       "      <td>0.212</td>\n",
       "      <td>0.457</td>\n",
       "      <td>130.418</td>\n",
       "      <td>5</td>\n",
       "    </tr>\n",
       "    <tr>\n",
       "      <th>3</th>\n",
       "      <td>08FmqUhxtyLTn6pAh6bk45</td>\n",
       "      <td>El Prisionero - Remasterizado</td>\n",
       "      <td>0</td>\n",
       "      <td>176907</td>\n",
       "      <td>0</td>\n",
       "      <td>['Ignacio Corsini']</td>\n",
       "      <td>['5LiOoJbxVSAMkBS2fUm3X2']</td>\n",
       "      <td>1922-03-21</td>\n",
       "      <td>0.321</td>\n",
       "      <td>0.0946</td>\n",
       "      <td>7</td>\n",
       "      <td>-27.961</td>\n",
       "      <td>1</td>\n",
       "      <td>0.0504</td>\n",
       "      <td>0.995</td>\n",
       "      <td>0.9180</td>\n",
       "      <td>0.104</td>\n",
       "      <td>0.397</td>\n",
       "      <td>169.980</td>\n",
       "      <td>3</td>\n",
       "    </tr>\n",
       "    <tr>\n",
       "      <th>4</th>\n",
       "      <td>08y9GfoqCWfOGsKdwojr5e</td>\n",
       "      <td>Lady of the Evening</td>\n",
       "      <td>0</td>\n",
       "      <td>163080</td>\n",
       "      <td>0</td>\n",
       "      <td>['Dick Haymes']</td>\n",
       "      <td>['3BiJGZsyX9sJchTqcSA7Su']</td>\n",
       "      <td>1922</td>\n",
       "      <td>0.402</td>\n",
       "      <td>0.1580</td>\n",
       "      <td>3</td>\n",
       "      <td>-16.900</td>\n",
       "      <td>0</td>\n",
       "      <td>0.0390</td>\n",
       "      <td>0.989</td>\n",
       "      <td>0.1300</td>\n",
       "      <td>0.311</td>\n",
       "      <td>0.196</td>\n",
       "      <td>103.220</td>\n",
       "      <td>4</td>\n",
       "    </tr>\n",
       "  </tbody>\n",
       "</table>\n",
       "</div>"
      ],
      "text/plain": [
       "                       id                                 name  popularity  \\\n",
       "0  35iwgR4jXetI318WEWsa1Q                                Carve           6   \n",
       "1  021ht4sdgPcrDgSk7JTbKY  Capítulo 2.16 - Banquero Anarquista           0   \n",
       "2  07A5yehtSnoedViJAZkNnc   Vivo para Quererte - Remasterizado           0   \n",
       "3  08FmqUhxtyLTn6pAh6bk45        El Prisionero - Remasterizado           0   \n",
       "4  08y9GfoqCWfOGsKdwojr5e                  Lady of the Evening           0   \n",
       "\n",
       "   duration_ms  explicit              artists                  id_artists  \\\n",
       "0       126903         0              ['Uli']  ['45tIt06XoI0Iio4LBEVpls']   \n",
       "1        98200         0  ['Fernando Pessoa']  ['14jtPCOoNZwquk5wd9DxrY']   \n",
       "2       181640         0  ['Ignacio Corsini']  ['5LiOoJbxVSAMkBS2fUm3X2']   \n",
       "3       176907         0  ['Ignacio Corsini']  ['5LiOoJbxVSAMkBS2fUm3X2']   \n",
       "4       163080         0      ['Dick Haymes']  ['3BiJGZsyX9sJchTqcSA7Su']   \n",
       "\n",
       "  release_date  danceability  energy  key  loudness  mode  speechiness  \\\n",
       "0   1922-02-22         0.645  0.4450    0   -13.338     1       0.4510   \n",
       "1   1922-06-01         0.695  0.2630    0   -22.136     1       0.9570   \n",
       "2   1922-03-21         0.434  0.1770    1   -21.180     1       0.0512   \n",
       "3   1922-03-21         0.321  0.0946    7   -27.961     1       0.0504   \n",
       "4         1922         0.402  0.1580    3   -16.900     0       0.0390   \n",
       "\n",
       "   acousticness  instrumentalness  liveness  valence    tempo  time_signature  \n",
       "0         0.674            0.7440     0.151    0.127  104.851               3  \n",
       "1         0.797            0.0000     0.148    0.655  102.009               1  \n",
       "2         0.994            0.0218     0.212    0.457  130.418               5  \n",
       "3         0.995            0.9180     0.104    0.397  169.980               3  \n",
       "4         0.989            0.1300     0.311    0.196  103.220               4  "
      ]
     },
     "execution_count": 4,
     "metadata": {},
     "output_type": "execute_result"
    }
   ],
   "source": [
    "tracks.head()"
   ]
  },
  {
   "cell_type": "code",
   "execution_count": null,
   "metadata": {
    "id": "OTDeYlAUpRmg",
    "outputId": "2957472b-eac2-418d-81d0-2977a751f2dc"
   },
   "outputs": [
    {
     "data": {
      "text/html": [
       "<div>\n",
       "<style scoped>\n",
       "    .dataframe tbody tr th:only-of-type {\n",
       "        vertical-align: middle;\n",
       "    }\n",
       "\n",
       "    .dataframe tbody tr th {\n",
       "        vertical-align: top;\n",
       "    }\n",
       "\n",
       "    .dataframe thead th {\n",
       "        text-align: right;\n",
       "    }\n",
       "</style>\n",
       "<table border=\"1\" class=\"dataframe\">\n",
       "  <thead>\n",
       "    <tr style=\"text-align: right;\">\n",
       "      <th></th>\n",
       "      <th>id</th>\n",
       "      <th>followers</th>\n",
       "      <th>genres</th>\n",
       "      <th>name</th>\n",
       "      <th>popularity</th>\n",
       "    </tr>\n",
       "  </thead>\n",
       "  <tbody>\n",
       "    <tr>\n",
       "      <th>0</th>\n",
       "      <td>0DheY5irMjBUeLybbCUEZ2</td>\n",
       "      <td>0.0</td>\n",
       "      <td>[]</td>\n",
       "      <td>Armid &amp; Amir Zare Pashai feat. Sara Rouzbehani</td>\n",
       "      <td>0</td>\n",
       "    </tr>\n",
       "    <tr>\n",
       "      <th>1</th>\n",
       "      <td>0DlhY15l3wsrnlfGio2bjU</td>\n",
       "      <td>5.0</td>\n",
       "      <td>[]</td>\n",
       "      <td>ปูนา ภาวิณี</td>\n",
       "      <td>0</td>\n",
       "    </tr>\n",
       "    <tr>\n",
       "      <th>2</th>\n",
       "      <td>0DmRESX2JknGPQyO15yxg7</td>\n",
       "      <td>0.0</td>\n",
       "      <td>[]</td>\n",
       "      <td>Sadaa</td>\n",
       "      <td>0</td>\n",
       "    </tr>\n",
       "    <tr>\n",
       "      <th>3</th>\n",
       "      <td>0DmhnbHjm1qw6NCYPeZNgJ</td>\n",
       "      <td>0.0</td>\n",
       "      <td>[]</td>\n",
       "      <td>Tra'gruda</td>\n",
       "      <td>0</td>\n",
       "    </tr>\n",
       "    <tr>\n",
       "      <th>4</th>\n",
       "      <td>0Dn11fWM7vHQ3rinvWEl4E</td>\n",
       "      <td>2.0</td>\n",
       "      <td>[]</td>\n",
       "      <td>Ioannis Panoutsopoulos</td>\n",
       "      <td>0</td>\n",
       "    </tr>\n",
       "  </tbody>\n",
       "</table>\n",
       "</div>"
      ],
      "text/plain": [
       "                       id  followers genres  \\\n",
       "0  0DheY5irMjBUeLybbCUEZ2        0.0     []   \n",
       "1  0DlhY15l3wsrnlfGio2bjU        5.0     []   \n",
       "2  0DmRESX2JknGPQyO15yxg7        0.0     []   \n",
       "3  0DmhnbHjm1qw6NCYPeZNgJ        0.0     []   \n",
       "4  0Dn11fWM7vHQ3rinvWEl4E        2.0     []   \n",
       "\n",
       "                                             name  popularity  \n",
       "0  Armid & Amir Zare Pashai feat. Sara Rouzbehani           0  \n",
       "1                                     ปูนา ภาวิณี           0  \n",
       "2                                           Sadaa           0  \n",
       "3                                       Tra'gruda           0  \n",
       "4                          Ioannis Panoutsopoulos           0  "
      ]
     },
     "execution_count": 5,
     "metadata": {},
     "output_type": "execute_result"
    }
   ],
   "source": [
    "artists.head()"
   ]
  },
  {
   "cell_type": "code",
   "execution_count": null,
   "metadata": {
    "id": "hprpP4i9pRmh"
   },
   "outputs": [],
   "source": [
    "def clean_text(x):\n",
    "    \"\"\"clean the text for aritists name, genres, and id\"\"\"\n",
    "    out=x.replace('[','').\\\n",
    "            replace(']','').\\\n",
    "            replace(\"'\",'').\\\n",
    "            replace(' ','').\\\n",
    "            strip().split(',')\n",
    "    if(len(out)==1 and out[0]==''):\n",
    "        return []\n",
    "    else:\n",
    "        return out\n"
   ]
  },
  {
   "cell_type": "code",
   "execution_count": null,
   "metadata": {
    "id": "Rv3vXwVxpRmh"
   },
   "outputs": [],
   "source": [
    "tracks['artists']=tracks['artists'].apply(clean_text)\n",
    "tracks['id_artists']=tracks['id_artists'].apply(clean_text)\n",
    "artists['genres']=artists['genres'].apply(clean_text)"
   ]
  },
  {
   "cell_type": "markdown",
   "metadata": {
    "id": "oy7kA1YQpRmi"
   },
   "source": [
    "## Feature Engineering"
   ]
  },
  {
   "cell_type": "markdown",
   "metadata": {
    "id": "S7G94zXfpRmi"
   },
   "source": [
    "##### Note:\n",
    "We included two new features which were outputs from the combinations of *id_artists* from **tracks** dataset and *popularity* and *followers* column in **artists** dataset.<br>\n",
    "The process of running and debugging the below two functions took 2 days, so we instead of presenting the whole process, we decided to use a completed version of the data, which will be uploaded to our group repo as well."
   ]
  },
  {
   "cell_type": "code",
   "execution_count": null,
   "metadata": {
    "id": "mjIubnKkpRmi"
   },
   "outputs": [],
   "source": [
    "def max_pop(x):\n",
    "    \"\"\"\n",
    "    'artists_popularity' column\n",
    "    \n",
    "    input: a list of ids of artists contributed to a single track\n",
    "    \n",
    "    output: the maximum of popularity of the artists in the input\n",
    "    \"\"\"\n",
    "    out=[]\n",
    "    if(len(x)>0):\n",
    "        for i in x:\n",
    "            if len(artists[artists['id']==i]['popularity'])>0:\n",
    "                out.append(artists[artists['id']==i]['popularity'].iloc[0])\n",
    "    else:\n",
    "        out.append(0)\n",
    "    if len(out)!=0:\n",
    "        return np.max(out)\n",
    "    else:\n",
    "        return 0\n",
    "\n",
    "    \n",
    "def tot_follower(x):\n",
    "    \"\"\"\n",
    "    'artists_follower' column\n",
    "    \n",
    "    input: a list of ids of artists contributed to a single track\n",
    "    \n",
    "    output: the sum of followers of the artists in the input\n",
    "    \"\"\"\n",
    "    out=[]\n",
    "    if(len(x)>0):\n",
    "        for i in x:\n",
    "            if len(artists[artists['id']==i]['followers'])>0:\n",
    "                out.append(artists[artists['id']==i]['followers'].iloc[0])\n",
    "    else:\n",
    "        out.append(0)\n",
    "    if len(out)!=0:\n",
    "        return np.sum(out)\n",
    "    else:\n",
    "        return 0"
   ]
  },
  {
   "cell_type": "code",
   "execution_count": null,
   "metadata": {
    "id": "4qUpb6onpRmj"
   },
   "outputs": [],
   "source": [
    "engineered=pd.read_csv('data/tracks_pop_follower.csv')\n",
    "tracks['artists_popularity']=engineered['artists_popularity']\n",
    "tracks['artists_follower']=engineered['artists_follower']"
   ]
  },
  {
   "cell_type": "code",
   "execution_count": null,
   "metadata": {
    "id": "0X8jp9jgpRmj"
   },
   "outputs": [],
   "source": [
    "tracks['release_date'] = [pd.Timestamp(x) for x in tracks['release_date']]\n",
    "tracks['release_weekday'] = tracks['release_date'].dt.dayofweek\n",
    "tracks['release_year'] = [x.year for x in tracks['release_date']]"
   ]
  },
  {
   "cell_type": "code",
   "execution_count": null,
   "metadata": {
    "id": "BZN91b7dpRmk",
    "outputId": "8eb4ea12-7dac-43ed-adb6-306d52021bec"
   },
   "outputs": [
    {
     "data": {
      "text/html": [
       "<div>\n",
       "<style scoped>\n",
       "    .dataframe tbody tr th:only-of-type {\n",
       "        vertical-align: middle;\n",
       "    }\n",
       "\n",
       "    .dataframe tbody tr th {\n",
       "        vertical-align: top;\n",
       "    }\n",
       "\n",
       "    .dataframe thead th {\n",
       "        text-align: right;\n",
       "    }\n",
       "</style>\n",
       "<table border=\"1\" class=\"dataframe\">\n",
       "  <thead>\n",
       "    <tr style=\"text-align: right;\">\n",
       "      <th></th>\n",
       "      <th>id</th>\n",
       "      <th>name</th>\n",
       "      <th>popularity</th>\n",
       "      <th>duration_ms</th>\n",
       "      <th>explicit</th>\n",
       "      <th>artists</th>\n",
       "      <th>id_artists</th>\n",
       "      <th>release_date</th>\n",
       "      <th>danceability</th>\n",
       "      <th>energy</th>\n",
       "      <th>...</th>\n",
       "      <th>acousticness</th>\n",
       "      <th>instrumentalness</th>\n",
       "      <th>liveness</th>\n",
       "      <th>valence</th>\n",
       "      <th>tempo</th>\n",
       "      <th>time_signature</th>\n",
       "      <th>artists_popularity</th>\n",
       "      <th>artists_follower</th>\n",
       "      <th>release_weekday</th>\n",
       "      <th>release_year</th>\n",
       "    </tr>\n",
       "  </thead>\n",
       "  <tbody>\n",
       "    <tr>\n",
       "      <th>0</th>\n",
       "      <td>35iwgR4jXetI318WEWsa1Q</td>\n",
       "      <td>Carve</td>\n",
       "      <td>6</td>\n",
       "      <td>0.021994</td>\n",
       "      <td>0</td>\n",
       "      <td>[Uli]</td>\n",
       "      <td>[45tIt06XoI0Iio4LBEVpls]</td>\n",
       "      <td>1922-02-22</td>\n",
       "      <td>0.645</td>\n",
       "      <td>0.4450</td>\n",
       "      <td>...</td>\n",
       "      <td>0.674</td>\n",
       "      <td>0.7440</td>\n",
       "      <td>0.151</td>\n",
       "      <td>0.127</td>\n",
       "      <td>0.425564</td>\n",
       "      <td>3</td>\n",
       "      <td>4</td>\n",
       "      <td>91.0</td>\n",
       "      <td>2</td>\n",
       "      <td>1922</td>\n",
       "    </tr>\n",
       "    <tr>\n",
       "      <th>1</th>\n",
       "      <td>021ht4sdgPcrDgSk7JTbKY</td>\n",
       "      <td>Capítulo 2.16 - Banquero Anarquista</td>\n",
       "      <td>0</td>\n",
       "      <td>0.016885</td>\n",
       "      <td>0</td>\n",
       "      <td>[FernandoPessoa]</td>\n",
       "      <td>[14jtPCOoNZwquk5wd9DxrY]</td>\n",
       "      <td>1922-06-01</td>\n",
       "      <td>0.695</td>\n",
       "      <td>0.2630</td>\n",
       "      <td>...</td>\n",
       "      <td>0.797</td>\n",
       "      <td>0.0000</td>\n",
       "      <td>0.148</td>\n",
       "      <td>0.655</td>\n",
       "      <td>0.414029</td>\n",
       "      <td>1</td>\n",
       "      <td>0</td>\n",
       "      <td>3.0</td>\n",
       "      <td>3</td>\n",
       "      <td>1922</td>\n",
       "    </tr>\n",
       "    <tr>\n",
       "      <th>2</th>\n",
       "      <td>07A5yehtSnoedViJAZkNnc</td>\n",
       "      <td>Vivo para Quererte - Remasterizado</td>\n",
       "      <td>0</td>\n",
       "      <td>0.031737</td>\n",
       "      <td>0</td>\n",
       "      <td>[IgnacioCorsini]</td>\n",
       "      <td>[5LiOoJbxVSAMkBS2fUm3X2]</td>\n",
       "      <td>1922-03-21</td>\n",
       "      <td>0.434</td>\n",
       "      <td>0.1770</td>\n",
       "      <td>...</td>\n",
       "      <td>0.994</td>\n",
       "      <td>0.0218</td>\n",
       "      <td>0.212</td>\n",
       "      <td>0.457</td>\n",
       "      <td>0.529335</td>\n",
       "      <td>5</td>\n",
       "      <td>23</td>\n",
       "      <td>3528.0</td>\n",
       "      <td>1</td>\n",
       "      <td>1922</td>\n",
       "    </tr>\n",
       "    <tr>\n",
       "      <th>3</th>\n",
       "      <td>08FmqUhxtyLTn6pAh6bk45</td>\n",
       "      <td>El Prisionero - Remasterizado</td>\n",
       "      <td>0</td>\n",
       "      <td>0.030895</td>\n",
       "      <td>0</td>\n",
       "      <td>[IgnacioCorsini]</td>\n",
       "      <td>[5LiOoJbxVSAMkBS2fUm3X2]</td>\n",
       "      <td>1922-03-21</td>\n",
       "      <td>0.321</td>\n",
       "      <td>0.0946</td>\n",
       "      <td>...</td>\n",
       "      <td>0.995</td>\n",
       "      <td>0.9180</td>\n",
       "      <td>0.104</td>\n",
       "      <td>0.397</td>\n",
       "      <td>0.689907</td>\n",
       "      <td>3</td>\n",
       "      <td>23</td>\n",
       "      <td>3528.0</td>\n",
       "      <td>1</td>\n",
       "      <td>1922</td>\n",
       "    </tr>\n",
       "    <tr>\n",
       "      <th>4</th>\n",
       "      <td>08y9GfoqCWfOGsKdwojr5e</td>\n",
       "      <td>Lady of the Evening</td>\n",
       "      <td>0</td>\n",
       "      <td>0.028434</td>\n",
       "      <td>0</td>\n",
       "      <td>[DickHaymes]</td>\n",
       "      <td>[3BiJGZsyX9sJchTqcSA7Su]</td>\n",
       "      <td>1922-01-01</td>\n",
       "      <td>0.402</td>\n",
       "      <td>0.1580</td>\n",
       "      <td>...</td>\n",
       "      <td>0.989</td>\n",
       "      <td>0.1300</td>\n",
       "      <td>0.311</td>\n",
       "      <td>0.196</td>\n",
       "      <td>0.418945</td>\n",
       "      <td>4</td>\n",
       "      <td>35</td>\n",
       "      <td>11327.0</td>\n",
       "      <td>6</td>\n",
       "      <td>1922</td>\n",
       "    </tr>\n",
       "  </tbody>\n",
       "</table>\n",
       "<p>5 rows × 24 columns</p>\n",
       "</div>"
      ],
      "text/plain": [
       "                       id                                 name  popularity  \\\n",
       "0  35iwgR4jXetI318WEWsa1Q                                Carve           6   \n",
       "1  021ht4sdgPcrDgSk7JTbKY  Capítulo 2.16 - Banquero Anarquista           0   \n",
       "2  07A5yehtSnoedViJAZkNnc   Vivo para Quererte - Remasterizado           0   \n",
       "3  08FmqUhxtyLTn6pAh6bk45        El Prisionero - Remasterizado           0   \n",
       "4  08y9GfoqCWfOGsKdwojr5e                  Lady of the Evening           0   \n",
       "\n",
       "   duration_ms  explicit           artists                id_artists  \\\n",
       "0     0.021994         0             [Uli]  [45tIt06XoI0Iio4LBEVpls]   \n",
       "1     0.016885         0  [FernandoPessoa]  [14jtPCOoNZwquk5wd9DxrY]   \n",
       "2     0.031737         0  [IgnacioCorsini]  [5LiOoJbxVSAMkBS2fUm3X2]   \n",
       "3     0.030895         0  [IgnacioCorsini]  [5LiOoJbxVSAMkBS2fUm3X2]   \n",
       "4     0.028434         0      [DickHaymes]  [3BiJGZsyX9sJchTqcSA7Su]   \n",
       "\n",
       "  release_date  danceability  energy  ...  acousticness  instrumentalness  \\\n",
       "0   1922-02-22         0.645  0.4450  ...         0.674            0.7440   \n",
       "1   1922-06-01         0.695  0.2630  ...         0.797            0.0000   \n",
       "2   1922-03-21         0.434  0.1770  ...         0.994            0.0218   \n",
       "3   1922-03-21         0.321  0.0946  ...         0.995            0.9180   \n",
       "4   1922-01-01         0.402  0.1580  ...         0.989            0.1300   \n",
       "\n",
       "   liveness  valence     tempo  time_signature  artists_popularity  \\\n",
       "0     0.151    0.127  0.425564               3                   4   \n",
       "1     0.148    0.655  0.414029               1                   0   \n",
       "2     0.212    0.457  0.529335               5                  23   \n",
       "3     0.104    0.397  0.689907               3                  23   \n",
       "4     0.311    0.196  0.418945               4                  35   \n",
       "\n",
       "   artists_follower  release_weekday  release_year  \n",
       "0              91.0                2          1922  \n",
       "1               3.0                3          1922  \n",
       "2            3528.0                1          1922  \n",
       "3            3528.0                1          1922  \n",
       "4           11327.0                6          1922  \n",
       "\n",
       "[5 rows x 24 columns]"
      ]
     },
     "execution_count": 11,
     "metadata": {},
     "output_type": "execute_result"
    }
   ],
   "source": [
    "scaler = MinMaxScaler()\n",
    "scaled = scaler.fit_transform(tracks[['duration_ms','loudness','tempo']])\n",
    "tracks['duration_ms']=scaled[:,0]\n",
    "tracks['loudness']=scaled[:,1]\n",
    "tracks['tempo']=scaled[:,2]\n",
    "raw=tracks.copy()\n",
    "raw.head()"
   ]
  },
  {
   "cell_type": "markdown",
   "metadata": {
    "id": "KcNSc1XrpRmk"
   },
   "source": [
    "## Missingness Handling"
   ]
  },
  {
   "cell_type": "code",
   "execution_count": null,
   "metadata": {
    "id": "yj3pPgdNpRml"
   },
   "outputs": [],
   "source": [
    "from sklearn.impute import SimpleImputer"
   ]
  },
  {
   "cell_type": "code",
   "execution_count": null,
   "metadata": {
    "id": "niqdgtyNpRml",
    "outputId": "c1f7f656-5a35-41fd-e968-67f0c0188356"
   },
   "outputs": [
    {
     "data": {
      "text/plain": [
       "id                     0\n",
       "name                  71\n",
       "popularity             0\n",
       "duration_ms            0\n",
       "explicit               0\n",
       "artists                0\n",
       "id_artists             0\n",
       "release_date           0\n",
       "danceability           0\n",
       "energy                 0\n",
       "key                    0\n",
       "loudness               0\n",
       "mode                   0\n",
       "speechiness            0\n",
       "acousticness           0\n",
       "instrumentalness       0\n",
       "liveness               0\n",
       "valence                0\n",
       "tempo                  0\n",
       "time_signature         0\n",
       "artists_popularity     0\n",
       "artists_follower       2\n",
       "release_weekday        0\n",
       "release_year           0\n",
       "dtype: int64"
      ]
     },
     "execution_count": 13,
     "metadata": {},
     "output_type": "execute_result"
    }
   ],
   "source": [
    "raw.isnull().sum()"
   ]
  },
  {
   "cell_type": "markdown",
   "metadata": {
    "id": "W4UZLWJ_pRml"
   },
   "source": [
    "We found missing values in the *name* and *artists_follower* columns. Based on our knowledege of the dataset, missing names of the tracks should be dropped and missing artists_followers should be imputed as 0."
   ]
  },
  {
   "cell_type": "code",
   "execution_count": null,
   "metadata": {
    "id": "J4gabFDDpRmm",
    "outputId": "0f069bc6-ada2-4ce9-824f-6163123444c7"
   },
   "outputs": [
    {
     "data": {
      "text/html": [
       "<div>\n",
       "<style scoped>\n",
       "    .dataframe tbody tr th:only-of-type {\n",
       "        vertical-align: middle;\n",
       "    }\n",
       "\n",
       "    .dataframe tbody tr th {\n",
       "        vertical-align: top;\n",
       "    }\n",
       "\n",
       "    .dataframe thead th {\n",
       "        text-align: right;\n",
       "    }\n",
       "</style>\n",
       "<table border=\"1\" class=\"dataframe\">\n",
       "  <thead>\n",
       "    <tr style=\"text-align: right;\">\n",
       "      <th></th>\n",
       "      <th>id</th>\n",
       "      <th>name</th>\n",
       "      <th>popularity</th>\n",
       "      <th>duration_ms</th>\n",
       "      <th>explicit</th>\n",
       "      <th>artists</th>\n",
       "      <th>id_artists</th>\n",
       "      <th>release_date</th>\n",
       "      <th>danceability</th>\n",
       "      <th>energy</th>\n",
       "      <th>...</th>\n",
       "      <th>acousticness</th>\n",
       "      <th>instrumentalness</th>\n",
       "      <th>liveness</th>\n",
       "      <th>valence</th>\n",
       "      <th>tempo</th>\n",
       "      <th>time_signature</th>\n",
       "      <th>artists_popularity</th>\n",
       "      <th>artists_follower</th>\n",
       "      <th>release_weekday</th>\n",
       "      <th>release_year</th>\n",
       "    </tr>\n",
       "  </thead>\n",
       "  <tbody>\n",
       "    <tr>\n",
       "      <th>0</th>\n",
       "      <td>35iwgR4jXetI318WEWsa1Q</td>\n",
       "      <td>Carve</td>\n",
       "      <td>6</td>\n",
       "      <td>0.021994</td>\n",
       "      <td>0</td>\n",
       "      <td>[Uli]</td>\n",
       "      <td>[45tIt06XoI0Iio4LBEVpls]</td>\n",
       "      <td>1922-02-22</td>\n",
       "      <td>0.645</td>\n",
       "      <td>0.4450</td>\n",
       "      <td>...</td>\n",
       "      <td>0.674</td>\n",
       "      <td>0.7440</td>\n",
       "      <td>0.151</td>\n",
       "      <td>0.127</td>\n",
       "      <td>0.425564</td>\n",
       "      <td>3</td>\n",
       "      <td>4</td>\n",
       "      <td>91.0</td>\n",
       "      <td>2</td>\n",
       "      <td>1922</td>\n",
       "    </tr>\n",
       "    <tr>\n",
       "      <th>1</th>\n",
       "      <td>021ht4sdgPcrDgSk7JTbKY</td>\n",
       "      <td>Capítulo 2.16 - Banquero Anarquista</td>\n",
       "      <td>0</td>\n",
       "      <td>0.016885</td>\n",
       "      <td>0</td>\n",
       "      <td>[FernandoPessoa]</td>\n",
       "      <td>[14jtPCOoNZwquk5wd9DxrY]</td>\n",
       "      <td>1922-06-01</td>\n",
       "      <td>0.695</td>\n",
       "      <td>0.2630</td>\n",
       "      <td>...</td>\n",
       "      <td>0.797</td>\n",
       "      <td>0.0000</td>\n",
       "      <td>0.148</td>\n",
       "      <td>0.655</td>\n",
       "      <td>0.414029</td>\n",
       "      <td>1</td>\n",
       "      <td>0</td>\n",
       "      <td>3.0</td>\n",
       "      <td>3</td>\n",
       "      <td>1922</td>\n",
       "    </tr>\n",
       "    <tr>\n",
       "      <th>2</th>\n",
       "      <td>07A5yehtSnoedViJAZkNnc</td>\n",
       "      <td>Vivo para Quererte - Remasterizado</td>\n",
       "      <td>0</td>\n",
       "      <td>0.031737</td>\n",
       "      <td>0</td>\n",
       "      <td>[IgnacioCorsini]</td>\n",
       "      <td>[5LiOoJbxVSAMkBS2fUm3X2]</td>\n",
       "      <td>1922-03-21</td>\n",
       "      <td>0.434</td>\n",
       "      <td>0.1770</td>\n",
       "      <td>...</td>\n",
       "      <td>0.994</td>\n",
       "      <td>0.0218</td>\n",
       "      <td>0.212</td>\n",
       "      <td>0.457</td>\n",
       "      <td>0.529335</td>\n",
       "      <td>5</td>\n",
       "      <td>23</td>\n",
       "      <td>3528.0</td>\n",
       "      <td>1</td>\n",
       "      <td>1922</td>\n",
       "    </tr>\n",
       "    <tr>\n",
       "      <th>3</th>\n",
       "      <td>08FmqUhxtyLTn6pAh6bk45</td>\n",
       "      <td>El Prisionero - Remasterizado</td>\n",
       "      <td>0</td>\n",
       "      <td>0.030895</td>\n",
       "      <td>0</td>\n",
       "      <td>[IgnacioCorsini]</td>\n",
       "      <td>[5LiOoJbxVSAMkBS2fUm3X2]</td>\n",
       "      <td>1922-03-21</td>\n",
       "      <td>0.321</td>\n",
       "      <td>0.0946</td>\n",
       "      <td>...</td>\n",
       "      <td>0.995</td>\n",
       "      <td>0.9180</td>\n",
       "      <td>0.104</td>\n",
       "      <td>0.397</td>\n",
       "      <td>0.689907</td>\n",
       "      <td>3</td>\n",
       "      <td>23</td>\n",
       "      <td>3528.0</td>\n",
       "      <td>1</td>\n",
       "      <td>1922</td>\n",
       "    </tr>\n",
       "    <tr>\n",
       "      <th>4</th>\n",
       "      <td>08y9GfoqCWfOGsKdwojr5e</td>\n",
       "      <td>Lady of the Evening</td>\n",
       "      <td>0</td>\n",
       "      <td>0.028434</td>\n",
       "      <td>0</td>\n",
       "      <td>[DickHaymes]</td>\n",
       "      <td>[3BiJGZsyX9sJchTqcSA7Su]</td>\n",
       "      <td>1922-01-01</td>\n",
       "      <td>0.402</td>\n",
       "      <td>0.1580</td>\n",
       "      <td>...</td>\n",
       "      <td>0.989</td>\n",
       "      <td>0.1300</td>\n",
       "      <td>0.311</td>\n",
       "      <td>0.196</td>\n",
       "      <td>0.418945</td>\n",
       "      <td>4</td>\n",
       "      <td>35</td>\n",
       "      <td>11327.0</td>\n",
       "      <td>6</td>\n",
       "      <td>1922</td>\n",
       "    </tr>\n",
       "  </tbody>\n",
       "</table>\n",
       "<p>5 rows × 24 columns</p>\n",
       "</div>"
      ],
      "text/plain": [
       "                       id                                 name  popularity  \\\n",
       "0  35iwgR4jXetI318WEWsa1Q                                Carve           6   \n",
       "1  021ht4sdgPcrDgSk7JTbKY  Capítulo 2.16 - Banquero Anarquista           0   \n",
       "2  07A5yehtSnoedViJAZkNnc   Vivo para Quererte - Remasterizado           0   \n",
       "3  08FmqUhxtyLTn6pAh6bk45        El Prisionero - Remasterizado           0   \n",
       "4  08y9GfoqCWfOGsKdwojr5e                  Lady of the Evening           0   \n",
       "\n",
       "   duration_ms  explicit           artists                id_artists  \\\n",
       "0     0.021994         0             [Uli]  [45tIt06XoI0Iio4LBEVpls]   \n",
       "1     0.016885         0  [FernandoPessoa]  [14jtPCOoNZwquk5wd9DxrY]   \n",
       "2     0.031737         0  [IgnacioCorsini]  [5LiOoJbxVSAMkBS2fUm3X2]   \n",
       "3     0.030895         0  [IgnacioCorsini]  [5LiOoJbxVSAMkBS2fUm3X2]   \n",
       "4     0.028434         0      [DickHaymes]  [3BiJGZsyX9sJchTqcSA7Su]   \n",
       "\n",
       "  release_date  danceability  energy  ...  acousticness  instrumentalness  \\\n",
       "0   1922-02-22         0.645  0.4450  ...         0.674            0.7440   \n",
       "1   1922-06-01         0.695  0.2630  ...         0.797            0.0000   \n",
       "2   1922-03-21         0.434  0.1770  ...         0.994            0.0218   \n",
       "3   1922-03-21         0.321  0.0946  ...         0.995            0.9180   \n",
       "4   1922-01-01         0.402  0.1580  ...         0.989            0.1300   \n",
       "\n",
       "   liveness  valence     tempo  time_signature  artists_popularity  \\\n",
       "0     0.151    0.127  0.425564               3                   4   \n",
       "1     0.148    0.655  0.414029               1                   0   \n",
       "2     0.212    0.457  0.529335               5                  23   \n",
       "3     0.104    0.397  0.689907               3                  23   \n",
       "4     0.311    0.196  0.418945               4                  35   \n",
       "\n",
       "   artists_follower  release_weekday  release_year  \n",
       "0              91.0                2          1922  \n",
       "1               3.0                3          1922  \n",
       "2            3528.0                1          1922  \n",
       "3            3528.0                1          1922  \n",
       "4           11327.0                6          1922  \n",
       "\n",
       "[5 rows x 24 columns]"
      ]
     },
     "execution_count": 14,
     "metadata": {},
     "output_type": "execute_result"
    }
   ],
   "source": [
    "# drop observations with null track name\n",
    "raw=raw.dropna(subset=['name'])\n",
    "# impute observations with null artists_follower with 0\n",
    "imputer=SimpleImputer(missing_values=np.nan, strategy='constant',fill_value=0)\n",
    "raw['artists_follower']=imputer.fit_transform(raw[['artists_follower']])[:,0]\n",
    "raw.head()"
   ]
  },
  {
   "cell_type": "code",
   "execution_count": null,
   "metadata": {
    "id": "7oR9l3srpRmm",
    "outputId": "0ffde01a-73a7-453f-bcca-76dae3d9e941"
   },
   "outputs": [
    {
     "data": {
      "text/html": [
       "<div>\n",
       "<style scoped>\n",
       "    .dataframe tbody tr th:only-of-type {\n",
       "        vertical-align: middle;\n",
       "    }\n",
       "\n",
       "    .dataframe tbody tr th {\n",
       "        vertical-align: top;\n",
       "    }\n",
       "\n",
       "    .dataframe thead th {\n",
       "        text-align: right;\n",
       "    }\n",
       "</style>\n",
       "<table border=\"1\" class=\"dataframe\">\n",
       "  <thead>\n",
       "    <tr style=\"text-align: right;\">\n",
       "      <th></th>\n",
       "      <th>id</th>\n",
       "      <th>name</th>\n",
       "      <th>popularity</th>\n",
       "      <th>duration_ms</th>\n",
       "      <th>explicit</th>\n",
       "      <th>artists</th>\n",
       "      <th>id_artists</th>\n",
       "      <th>release_date</th>\n",
       "      <th>danceability</th>\n",
       "      <th>energy</th>\n",
       "      <th>...</th>\n",
       "      <th>acousticness</th>\n",
       "      <th>instrumentalness</th>\n",
       "      <th>liveness</th>\n",
       "      <th>valence</th>\n",
       "      <th>tempo</th>\n",
       "      <th>time_signature</th>\n",
       "      <th>artists_popularity</th>\n",
       "      <th>artists_follower</th>\n",
       "      <th>release_weekday</th>\n",
       "      <th>release_year</th>\n",
       "    </tr>\n",
       "  </thead>\n",
       "  <tbody>\n",
       "    <tr>\n",
       "      <th>0</th>\n",
       "      <td>35iwgR4jXetI318WEWsa1Q</td>\n",
       "      <td>Carve</td>\n",
       "      <td>6</td>\n",
       "      <td>0.021994</td>\n",
       "      <td>0</td>\n",
       "      <td>[Uli]</td>\n",
       "      <td>[45tIt06XoI0Iio4LBEVpls]</td>\n",
       "      <td>1922-02-22</td>\n",
       "      <td>0.645</td>\n",
       "      <td>0.4450</td>\n",
       "      <td>...</td>\n",
       "      <td>0.674</td>\n",
       "      <td>0.744000</td>\n",
       "      <td>0.1510</td>\n",
       "      <td>0.1270</td>\n",
       "      <td>0.425564</td>\n",
       "      <td>3</td>\n",
       "      <td>4</td>\n",
       "      <td>91.0</td>\n",
       "      <td>2</td>\n",
       "      <td>1922</td>\n",
       "    </tr>\n",
       "    <tr>\n",
       "      <th>1</th>\n",
       "      <td>021ht4sdgPcrDgSk7JTbKY</td>\n",
       "      <td>Capítulo 2.16 - Banquero Anarquista</td>\n",
       "      <td>0</td>\n",
       "      <td>0.016885</td>\n",
       "      <td>0</td>\n",
       "      <td>[FernandoPessoa]</td>\n",
       "      <td>[14jtPCOoNZwquk5wd9DxrY]</td>\n",
       "      <td>1922-06-01</td>\n",
       "      <td>0.695</td>\n",
       "      <td>0.2630</td>\n",
       "      <td>...</td>\n",
       "      <td>0.797</td>\n",
       "      <td>0.000000</td>\n",
       "      <td>0.1480</td>\n",
       "      <td>0.6550</td>\n",
       "      <td>0.414029</td>\n",
       "      <td>1</td>\n",
       "      <td>0</td>\n",
       "      <td>3.0</td>\n",
       "      <td>3</td>\n",
       "      <td>1922</td>\n",
       "    </tr>\n",
       "    <tr>\n",
       "      <th>2</th>\n",
       "      <td>07A5yehtSnoedViJAZkNnc</td>\n",
       "      <td>Vivo para Quererte - Remasterizado</td>\n",
       "      <td>0</td>\n",
       "      <td>0.031737</td>\n",
       "      <td>0</td>\n",
       "      <td>[IgnacioCorsini]</td>\n",
       "      <td>[5LiOoJbxVSAMkBS2fUm3X2]</td>\n",
       "      <td>1922-03-21</td>\n",
       "      <td>0.434</td>\n",
       "      <td>0.1770</td>\n",
       "      <td>...</td>\n",
       "      <td>0.994</td>\n",
       "      <td>0.021800</td>\n",
       "      <td>0.2120</td>\n",
       "      <td>0.4570</td>\n",
       "      <td>0.529335</td>\n",
       "      <td>5</td>\n",
       "      <td>23</td>\n",
       "      <td>3528.0</td>\n",
       "      <td>1</td>\n",
       "      <td>1922</td>\n",
       "    </tr>\n",
       "    <tr>\n",
       "      <th>3</th>\n",
       "      <td>08FmqUhxtyLTn6pAh6bk45</td>\n",
       "      <td>El Prisionero - Remasterizado</td>\n",
       "      <td>0</td>\n",
       "      <td>0.030895</td>\n",
       "      <td>0</td>\n",
       "      <td>[IgnacioCorsini]</td>\n",
       "      <td>[5LiOoJbxVSAMkBS2fUm3X2]</td>\n",
       "      <td>1922-03-21</td>\n",
       "      <td>0.321</td>\n",
       "      <td>0.0946</td>\n",
       "      <td>...</td>\n",
       "      <td>0.995</td>\n",
       "      <td>0.918000</td>\n",
       "      <td>0.1040</td>\n",
       "      <td>0.3970</td>\n",
       "      <td>0.689907</td>\n",
       "      <td>3</td>\n",
       "      <td>23</td>\n",
       "      <td>3528.0</td>\n",
       "      <td>1</td>\n",
       "      <td>1922</td>\n",
       "    </tr>\n",
       "    <tr>\n",
       "      <th>4</th>\n",
       "      <td>08y9GfoqCWfOGsKdwojr5e</td>\n",
       "      <td>Lady of the Evening</td>\n",
       "      <td>0</td>\n",
       "      <td>0.028434</td>\n",
       "      <td>0</td>\n",
       "      <td>[DickHaymes]</td>\n",
       "      <td>[3BiJGZsyX9sJchTqcSA7Su]</td>\n",
       "      <td>1922-01-01</td>\n",
       "      <td>0.402</td>\n",
       "      <td>0.1580</td>\n",
       "      <td>...</td>\n",
       "      <td>0.989</td>\n",
       "      <td>0.130000</td>\n",
       "      <td>0.3110</td>\n",
       "      <td>0.1960</td>\n",
       "      <td>0.418945</td>\n",
       "      <td>4</td>\n",
       "      <td>35</td>\n",
       "      <td>11327.0</td>\n",
       "      <td>6</td>\n",
       "      <td>1922</td>\n",
       "    </tr>\n",
       "    <tr>\n",
       "      <th>...</th>\n",
       "      <td>...</td>\n",
       "      <td>...</td>\n",
       "      <td>...</td>\n",
       "      <td>...</td>\n",
       "      <td>...</td>\n",
       "      <td>...</td>\n",
       "      <td>...</td>\n",
       "      <td>...</td>\n",
       "      <td>...</td>\n",
       "      <td>...</td>\n",
       "      <td>...</td>\n",
       "      <td>...</td>\n",
       "      <td>...</td>\n",
       "      <td>...</td>\n",
       "      <td>...</td>\n",
       "      <td>...</td>\n",
       "      <td>...</td>\n",
       "      <td>...</td>\n",
       "      <td>...</td>\n",
       "      <td>...</td>\n",
       "      <td>...</td>\n",
       "    </tr>\n",
       "    <tr>\n",
       "      <th>586667</th>\n",
       "      <td>5rgu12WBIHQtvej2MdHSH0</td>\n",
       "      <td>云与海</td>\n",
       "      <td>50</td>\n",
       "      <td>0.045377</td>\n",
       "      <td>0</td>\n",
       "      <td>[阿YueYue]</td>\n",
       "      <td>[1QLBXKM5GCpyQQSVMNZqrZ]</td>\n",
       "      <td>2020-09-26</td>\n",
       "      <td>0.560</td>\n",
       "      <td>0.5180</td>\n",
       "      <td>...</td>\n",
       "      <td>0.785</td>\n",
       "      <td>0.000000</td>\n",
       "      <td>0.0648</td>\n",
       "      <td>0.2110</td>\n",
       "      <td>0.535333</td>\n",
       "      <td>4</td>\n",
       "      <td>38</td>\n",
       "      <td>896.0</td>\n",
       "      <td>5</td>\n",
       "      <td>2020</td>\n",
       "    </tr>\n",
       "    <tr>\n",
       "      <th>586668</th>\n",
       "      <td>0NuWgxEp51CutD2pJoF4OM</td>\n",
       "      <td>blind</td>\n",
       "      <td>72</td>\n",
       "      <td>0.026691</td>\n",
       "      <td>0</td>\n",
       "      <td>[ROLEMODEL]</td>\n",
       "      <td>[1dy5WNgIKQU6ezkpZs4y8z]</td>\n",
       "      <td>2020-10-21</td>\n",
       "      <td>0.765</td>\n",
       "      <td>0.6630</td>\n",
       "      <td>...</td>\n",
       "      <td>0.141</td>\n",
       "      <td>0.000297</td>\n",
       "      <td>0.0924</td>\n",
       "      <td>0.6860</td>\n",
       "      <td>0.609183</td>\n",
       "      <td>4</td>\n",
       "      <td>67</td>\n",
       "      <td>245944.0</td>\n",
       "      <td>2</td>\n",
       "      <td>2020</td>\n",
       "    </tr>\n",
       "    <tr>\n",
       "      <th>586669</th>\n",
       "      <td>27Y1N4Q4U3EfDU5Ubw8ws2</td>\n",
       "      <td>What They'll Say About Us</td>\n",
       "      <td>70</td>\n",
       "      <td>0.032798</td>\n",
       "      <td>0</td>\n",
       "      <td>[FINNEAS]</td>\n",
       "      <td>[37M5pPGs6V1fchFJSgCguX]</td>\n",
       "      <td>2020-09-02</td>\n",
       "      <td>0.535</td>\n",
       "      <td>0.3140</td>\n",
       "      <td>...</td>\n",
       "      <td>0.895</td>\n",
       "      <td>0.000150</td>\n",
       "      <td>0.0874</td>\n",
       "      <td>0.0663</td>\n",
       "      <td>0.588905</td>\n",
       "      <td>4</td>\n",
       "      <td>77</td>\n",
       "      <td>1168213.0</td>\n",
       "      <td>2</td>\n",
       "      <td>2020</td>\n",
       "    </tr>\n",
       "    <tr>\n",
       "      <th>586670</th>\n",
       "      <td>45XJsGpFTyzbzeWK8VzR8S</td>\n",
       "      <td>A Day At A Time</td>\n",
       "      <td>58</td>\n",
       "      <td>0.024682</td>\n",
       "      <td>0</td>\n",
       "      <td>[GentleBones, ClaraBenin]</td>\n",
       "      <td>[4jGPdu95icCKVF31CcFKbS, 5ebPSE9YI5aLeZ1Z2gkqjn]</td>\n",
       "      <td>2021-03-05</td>\n",
       "      <td>0.696</td>\n",
       "      <td>0.6150</td>\n",
       "      <td>...</td>\n",
       "      <td>0.206</td>\n",
       "      <td>0.000003</td>\n",
       "      <td>0.3050</td>\n",
       "      <td>0.4380</td>\n",
       "      <td>0.365406</td>\n",
       "      <td>4</td>\n",
       "      <td>58</td>\n",
       "      <td>139106.0</td>\n",
       "      <td>4</td>\n",
       "      <td>2021</td>\n",
       "    </tr>\n",
       "    <tr>\n",
       "      <th>586671</th>\n",
       "      <td>5Ocn6dZ3BJFPWh4ylwFXtn</td>\n",
       "      <td>Mar de Emociones</td>\n",
       "      <td>38</td>\n",
       "      <td>0.037562</td>\n",
       "      <td>0</td>\n",
       "      <td>[Afrosound]</td>\n",
       "      <td>[0i4Qda0k4nf7jnNHmSNpYv]</td>\n",
       "      <td>2015-07-01</td>\n",
       "      <td>0.686</td>\n",
       "      <td>0.7230</td>\n",
       "      <td>...</td>\n",
       "      <td>0.105</td>\n",
       "      <td>0.000000</td>\n",
       "      <td>0.2640</td>\n",
       "      <td>0.9750</td>\n",
       "      <td>0.455408</td>\n",
       "      <td>4</td>\n",
       "      <td>41</td>\n",
       "      <td>19634.0</td>\n",
       "      <td>2</td>\n",
       "      <td>2015</td>\n",
       "    </tr>\n",
       "  </tbody>\n",
       "</table>\n",
       "<p>586601 rows × 24 columns</p>\n",
       "</div>"
      ],
      "text/plain": [
       "                            id                                 name  \\\n",
       "0       35iwgR4jXetI318WEWsa1Q                                Carve   \n",
       "1       021ht4sdgPcrDgSk7JTbKY  Capítulo 2.16 - Banquero Anarquista   \n",
       "2       07A5yehtSnoedViJAZkNnc   Vivo para Quererte - Remasterizado   \n",
       "3       08FmqUhxtyLTn6pAh6bk45        El Prisionero - Remasterizado   \n",
       "4       08y9GfoqCWfOGsKdwojr5e                  Lady of the Evening   \n",
       "...                        ...                                  ...   \n",
       "586667  5rgu12WBIHQtvej2MdHSH0                                  云与海   \n",
       "586668  0NuWgxEp51CutD2pJoF4OM                                blind   \n",
       "586669  27Y1N4Q4U3EfDU5Ubw8ws2            What They'll Say About Us   \n",
       "586670  45XJsGpFTyzbzeWK8VzR8S                      A Day At A Time   \n",
       "586671  5Ocn6dZ3BJFPWh4ylwFXtn                     Mar de Emociones   \n",
       "\n",
       "        popularity  duration_ms  explicit                    artists  \\\n",
       "0                6     0.021994         0                      [Uli]   \n",
       "1                0     0.016885         0           [FernandoPessoa]   \n",
       "2                0     0.031737         0           [IgnacioCorsini]   \n",
       "3                0     0.030895         0           [IgnacioCorsini]   \n",
       "4                0     0.028434         0               [DickHaymes]   \n",
       "...            ...          ...       ...                        ...   \n",
       "586667          50     0.045377         0                  [阿YueYue]   \n",
       "586668          72     0.026691         0                [ROLEMODEL]   \n",
       "586669          70     0.032798         0                  [FINNEAS]   \n",
       "586670          58     0.024682         0  [GentleBones, ClaraBenin]   \n",
       "586671          38     0.037562         0                [Afrosound]   \n",
       "\n",
       "                                              id_artists release_date  \\\n",
       "0                               [45tIt06XoI0Iio4LBEVpls]   1922-02-22   \n",
       "1                               [14jtPCOoNZwquk5wd9DxrY]   1922-06-01   \n",
       "2                               [5LiOoJbxVSAMkBS2fUm3X2]   1922-03-21   \n",
       "3                               [5LiOoJbxVSAMkBS2fUm3X2]   1922-03-21   \n",
       "4                               [3BiJGZsyX9sJchTqcSA7Su]   1922-01-01   \n",
       "...                                                  ...          ...   \n",
       "586667                          [1QLBXKM5GCpyQQSVMNZqrZ]   2020-09-26   \n",
       "586668                          [1dy5WNgIKQU6ezkpZs4y8z]   2020-10-21   \n",
       "586669                          [37M5pPGs6V1fchFJSgCguX]   2020-09-02   \n",
       "586670  [4jGPdu95icCKVF31CcFKbS, 5ebPSE9YI5aLeZ1Z2gkqjn]   2021-03-05   \n",
       "586671                          [0i4Qda0k4nf7jnNHmSNpYv]   2015-07-01   \n",
       "\n",
       "        danceability  energy  ...  acousticness  instrumentalness  liveness  \\\n",
       "0              0.645  0.4450  ...         0.674          0.744000    0.1510   \n",
       "1              0.695  0.2630  ...         0.797          0.000000    0.1480   \n",
       "2              0.434  0.1770  ...         0.994          0.021800    0.2120   \n",
       "3              0.321  0.0946  ...         0.995          0.918000    0.1040   \n",
       "4              0.402  0.1580  ...         0.989          0.130000    0.3110   \n",
       "...              ...     ...  ...           ...               ...       ...   \n",
       "586667         0.560  0.5180  ...         0.785          0.000000    0.0648   \n",
       "586668         0.765  0.6630  ...         0.141          0.000297    0.0924   \n",
       "586669         0.535  0.3140  ...         0.895          0.000150    0.0874   \n",
       "586670         0.696  0.6150  ...         0.206          0.000003    0.3050   \n",
       "586671         0.686  0.7230  ...         0.105          0.000000    0.2640   \n",
       "\n",
       "        valence     tempo  time_signature  artists_popularity  \\\n",
       "0        0.1270  0.425564               3                   4   \n",
       "1        0.6550  0.414029               1                   0   \n",
       "2        0.4570  0.529335               5                  23   \n",
       "3        0.3970  0.689907               3                  23   \n",
       "4        0.1960  0.418945               4                  35   \n",
       "...         ...       ...             ...                 ...   \n",
       "586667   0.2110  0.535333               4                  38   \n",
       "586668   0.6860  0.609183               4                  67   \n",
       "586669   0.0663  0.588905               4                  77   \n",
       "586670   0.4380  0.365406               4                  58   \n",
       "586671   0.9750  0.455408               4                  41   \n",
       "\n",
       "        artists_follower  release_weekday  release_year  \n",
       "0                   91.0                2          1922  \n",
       "1                    3.0                3          1922  \n",
       "2                 3528.0                1          1922  \n",
       "3                 3528.0                1          1922  \n",
       "4                11327.0                6          1922  \n",
       "...                  ...              ...           ...  \n",
       "586667             896.0                5          2020  \n",
       "586668          245944.0                2          2020  \n",
       "586669         1168213.0                2          2020  \n",
       "586670          139106.0                4          2021  \n",
       "586671           19634.0                2          2015  \n",
       "\n",
       "[586601 rows x 24 columns]"
      ]
     },
     "execution_count": 15,
     "metadata": {},
     "output_type": "execute_result"
    }
   ],
   "source": [
    "raw"
   ]
  },
  {
   "cell_type": "markdown",
   "metadata": {
    "id": "D3618WrkpRmn"
   },
   "source": [
    "# Cleaned Data\n",
    "\n",
    "### Dataset Overview\n",
    "The datasets after cleaning are joined to one dataset.\n",
    "* The cleaned dataset consists of **586601** observations and **24** features.\n",
    "* The features now are imputed and scaled.\n",
    "* Newly added features:\n",
    "    1. **artists_popularity**: the maximum of popularity of the artists of the track\n",
    "    2. **artists_follower**: the sum of followers of the artists of the track\n",
    "    3. **release_weekday**: the week day extracted from the **release_date** column\n",
    "    4. **release_year**: the year extracted from the **release_date** column\n"
   ]
  },
  {
   "cell_type": "markdown",
   "metadata": {
    "id": "hwjXSm9VpRmn"
   },
   "source": [
    "# EDA"
   ]
  },
  {
   "cell_type": "markdown",
   "metadata": {
    "id": "KuNIqypqpRmo"
   },
   "source": [
    "##### Dataset Overview - Histograms of distribution of each columns in the dataset"
   ]
  },
  {
   "cell_type": "code",
   "execution_count": 15,
   "metadata": {
    "id": "D26sKvYJpRmo"
   },
   "outputs": [],
   "source": [
    "import matplotlib.pyplot as plt\n",
    "import seaborn as sns"
   ]
  },
  {
   "cell_type": "code",
   "execution_count": null,
   "metadata": {
    "id": "0xpMXMdsJi8_",
    "outputId": "829269c9-edae-4fd4-8fdc-ba11d1884e22"
   },
   "outputs": [
    {
     "data": {
      "text/html": [
       "<div>\n",
       "<style scoped>\n",
       "    .dataframe tbody tr th:only-of-type {\n",
       "        vertical-align: middle;\n",
       "    }\n",
       "\n",
       "    .dataframe tbody tr th {\n",
       "        vertical-align: top;\n",
       "    }\n",
       "\n",
       "    .dataframe thead th {\n",
       "        text-align: right;\n",
       "    }\n",
       "</style>\n",
       "<table border=\"1\" class=\"dataframe\">\n",
       "  <thead>\n",
       "    <tr style=\"text-align: right;\">\n",
       "      <th></th>\n",
       "      <th>popularity</th>\n",
       "      <th>duration_ms</th>\n",
       "      <th>explicit</th>\n",
       "      <th>danceability</th>\n",
       "      <th>energy</th>\n",
       "      <th>key</th>\n",
       "      <th>loudness</th>\n",
       "      <th>mode</th>\n",
       "      <th>speechiness</th>\n",
       "      <th>acousticness</th>\n",
       "      <th>instrumentalness</th>\n",
       "      <th>liveness</th>\n",
       "      <th>valence</th>\n",
       "      <th>tempo</th>\n",
       "      <th>time_signature</th>\n",
       "      <th>artists_popularity</th>\n",
       "      <th>artists_follower</th>\n",
       "      <th>release_weekday</th>\n",
       "      <th>release_year</th>\n",
       "    </tr>\n",
       "  </thead>\n",
       "  <tbody>\n",
       "    <tr>\n",
       "      <th>popularity</th>\n",
       "      <td>1.000000</td>\n",
       "      <td>0.027638</td>\n",
       "      <td>0.211749</td>\n",
       "      <td>0.186878</td>\n",
       "      <td>0.302178</td>\n",
       "      <td>0.015306</td>\n",
       "      <td>0.327001</td>\n",
       "      <td>-0.033652</td>\n",
       "      <td>-0.047415</td>\n",
       "      <td>-0.370723</td>\n",
       "      <td>-0.236403</td>\n",
       "      <td>-0.048735</td>\n",
       "      <td>0.004558</td>\n",
       "      <td>0.071223</td>\n",
       "      <td>0.086713</td>\n",
       "      <td>0.520237</td>\n",
       "      <td>0.238253</td>\n",
       "      <td>-0.055148</td>\n",
       "      <td>0.590796</td>\n",
       "    </tr>\n",
       "    <tr>\n",
       "      <th>duration_ms</th>\n",
       "      <td>0.027638</td>\n",
       "      <td>1.000000</td>\n",
       "      <td>-0.016753</td>\n",
       "      <td>-0.120411</td>\n",
       "      <td>0.024782</td>\n",
       "      <td>0.004625</td>\n",
       "      <td>0.000314</td>\n",
       "      <td>-0.027604</td>\n",
       "      <td>-0.125783</td>\n",
       "      <td>-0.064394</td>\n",
       "      <td>0.069327</td>\n",
       "      <td>0.002139</td>\n",
       "      <td>-0.163233</td>\n",
       "      <td>-0.001249</td>\n",
       "      <td>0.037553</td>\n",
       "      <td>0.015081</td>\n",
       "      <td>0.026794</td>\n",
       "      <td>-0.015532</td>\n",
       "      <td>0.054084</td>\n",
       "    </tr>\n",
       "    <tr>\n",
       "      <th>explicit</th>\n",
       "      <td>0.211749</td>\n",
       "      <td>-0.016753</td>\n",
       "      <td>1.000000</td>\n",
       "      <td>0.150216</td>\n",
       "      <td>0.123060</td>\n",
       "      <td>0.010933</td>\n",
       "      <td>0.134598</td>\n",
       "      <td>-0.051757</td>\n",
       "      <td>0.102251</td>\n",
       "      <td>-0.149001</td>\n",
       "      <td>-0.067510</td>\n",
       "      <td>-0.013113</td>\n",
       "      <td>-0.016551</td>\n",
       "      <td>0.005723</td>\n",
       "      <td>0.044442</td>\n",
       "      <td>0.126733</td>\n",
       "      <td>0.131067</td>\n",
       "      <td>0.009177</td>\n",
       "      <td>0.208475</td>\n",
       "    </tr>\n",
       "    <tr>\n",
       "      <th>danceability</th>\n",
       "      <td>0.186878</td>\n",
       "      <td>-0.120411</td>\n",
       "      <td>0.150216</td>\n",
       "      <td>1.000000</td>\n",
       "      <td>0.241464</td>\n",
       "      <td>0.018837</td>\n",
       "      <td>0.251394</td>\n",
       "      <td>-0.044726</td>\n",
       "      <td>0.199291</td>\n",
       "      <td>-0.242838</td>\n",
       "      <td>-0.225831</td>\n",
       "      <td>-0.106175</td>\n",
       "      <td>0.528136</td>\n",
       "      <td>-0.040896</td>\n",
       "      <td>0.146166</td>\n",
       "      <td>0.004443</td>\n",
       "      <td>0.035566</td>\n",
       "      <td>-0.003721</td>\n",
       "      <td>0.226596</td>\n",
       "    </tr>\n",
       "    <tr>\n",
       "      <th>energy</th>\n",
       "      <td>0.302178</td>\n",
       "      <td>0.024782</td>\n",
       "      <td>0.123060</td>\n",
       "      <td>0.241464</td>\n",
       "      <td>1.000000</td>\n",
       "      <td>0.036303</td>\n",
       "      <td>0.764744</td>\n",
       "      <td>-0.065238</td>\n",
       "      <td>-0.053560</td>\n",
       "      <td>-0.715366</td>\n",
       "      <td>-0.195727</td>\n",
       "      <td>0.124636</td>\n",
       "      <td>0.372224</td>\n",
       "      <td>0.230006</td>\n",
       "      <td>0.188971</td>\n",
       "      <td>0.110150</td>\n",
       "      <td>0.088325</td>\n",
       "      <td>-0.040121</td>\n",
       "      <td>0.460131</td>\n",
       "    </tr>\n",
       "    <tr>\n",
       "      <th>key</th>\n",
       "      <td>0.015306</td>\n",
       "      <td>0.004625</td>\n",
       "      <td>0.010933</td>\n",
       "      <td>0.018837</td>\n",
       "      <td>0.036303</td>\n",
       "      <td>1.000000</td>\n",
       "      <td>0.027106</td>\n",
       "      <td>-0.129495</td>\n",
       "      <td>-0.001034</td>\n",
       "      <td>-0.027427</td>\n",
       "      <td>-0.006788</td>\n",
       "      <td>-0.006763</td>\n",
       "      <td>0.019998</td>\n",
       "      <td>0.004912</td>\n",
       "      <td>0.008871</td>\n",
       "      <td>0.002484</td>\n",
       "      <td>0.002572</td>\n",
       "      <td>0.000689</td>\n",
       "      <td>0.023678</td>\n",
       "    </tr>\n",
       "    <tr>\n",
       "      <th>loudness</th>\n",
       "      <td>0.327001</td>\n",
       "      <td>0.000314</td>\n",
       "      <td>0.134598</td>\n",
       "      <td>0.251394</td>\n",
       "      <td>0.764744</td>\n",
       "      <td>0.027106</td>\n",
       "      <td>1.000000</td>\n",
       "      <td>-0.040456</td>\n",
       "      <td>-0.167140</td>\n",
       "      <td>-0.519423</td>\n",
       "      <td>-0.329255</td>\n",
       "      <td>0.029509</td>\n",
       "      <td>0.275416</td>\n",
       "      <td>0.189252</td>\n",
       "      <td>0.164376</td>\n",
       "      <td>0.088852</td>\n",
       "      <td>0.115858</td>\n",
       "      <td>-0.030250</td>\n",
       "      <td>0.447057</td>\n",
       "    </tr>\n",
       "    <tr>\n",
       "      <th>mode</th>\n",
       "      <td>-0.033652</td>\n",
       "      <td>-0.027604</td>\n",
       "      <td>-0.051757</td>\n",
       "      <td>-0.044726</td>\n",
       "      <td>-0.065238</td>\n",
       "      <td>-0.129495</td>\n",
       "      <td>-0.040456</td>\n",
       "      <td>1.000000</td>\n",
       "      <td>-0.017992</td>\n",
       "      <td>0.058914</td>\n",
       "      <td>-0.010023</td>\n",
       "      <td>0.007025</td>\n",
       "      <td>0.011494</td>\n",
       "      <td>0.007877</td>\n",
       "      <td>-0.015899</td>\n",
       "      <td>0.000496</td>\n",
       "      <td>-0.012043</td>\n",
       "      <td>-0.004084</td>\n",
       "      <td>-0.081315</td>\n",
       "    </tr>\n",
       "    <tr>\n",
       "      <th>speechiness</th>\n",
       "      <td>-0.047415</td>\n",
       "      <td>-0.125783</td>\n",
       "      <td>0.102251</td>\n",
       "      <td>0.199291</td>\n",
       "      <td>-0.053560</td>\n",
       "      <td>-0.001034</td>\n",
       "      <td>-0.167140</td>\n",
       "      <td>-0.017992</td>\n",
       "      <td>1.000000</td>\n",
       "      <td>0.069121</td>\n",
       "      <td>-0.102425</td>\n",
       "      <td>0.207062</td>\n",
       "      <td>0.046481</td>\n",
       "      <td>-0.086950</td>\n",
       "      <td>-0.114211</td>\n",
       "      <td>0.051690</td>\n",
       "      <td>-0.020338</td>\n",
       "      <td>0.009051</td>\n",
       "      <td>-0.081996</td>\n",
       "    </tr>\n",
       "    <tr>\n",
       "      <th>acousticness</th>\n",
       "      <td>-0.370723</td>\n",
       "      <td>-0.064394</td>\n",
       "      <td>-0.149001</td>\n",
       "      <td>-0.242838</td>\n",
       "      <td>-0.715366</td>\n",
       "      <td>-0.027427</td>\n",
       "      <td>-0.519423</td>\n",
       "      <td>0.058914</td>\n",
       "      <td>0.069121</td>\n",
       "      <td>1.000000</td>\n",
       "      <td>0.204312</td>\n",
       "      <td>-0.004742</td>\n",
       "      <td>-0.180878</td>\n",
       "      <td>-0.195117</td>\n",
       "      <td>-0.173920</td>\n",
       "      <td>-0.150316</td>\n",
       "      <td>-0.109524</td>\n",
       "      <td>0.045587</td>\n",
       "      <td>-0.527429</td>\n",
       "    </tr>\n",
       "    <tr>\n",
       "      <th>instrumentalness</th>\n",
       "      <td>-0.236403</td>\n",
       "      <td>0.069327</td>\n",
       "      <td>-0.067510</td>\n",
       "      <td>-0.225831</td>\n",
       "      <td>-0.195727</td>\n",
       "      <td>-0.006788</td>\n",
       "      <td>-0.329255</td>\n",
       "      <td>-0.010023</td>\n",
       "      <td>-0.102425</td>\n",
       "      <td>0.204312</td>\n",
       "      <td>1.000000</td>\n",
       "      <td>-0.038836</td>\n",
       "      <td>-0.175195</td>\n",
       "      <td>-0.055380</td>\n",
       "      <td>-0.042209</td>\n",
       "      <td>-0.109542</td>\n",
       "      <td>-0.050084</td>\n",
       "      <td>0.008998</td>\n",
       "      <td>-0.221888</td>\n",
       "    </tr>\n",
       "    <tr>\n",
       "      <th>liveness</th>\n",
       "      <td>-0.048735</td>\n",
       "      <td>0.002139</td>\n",
       "      <td>-0.013113</td>\n",
       "      <td>-0.106175</td>\n",
       "      <td>0.124636</td>\n",
       "      <td>-0.006763</td>\n",
       "      <td>0.029509</td>\n",
       "      <td>0.007025</td>\n",
       "      <td>0.207062</td>\n",
       "      <td>-0.004742</td>\n",
       "      <td>-0.038836</td>\n",
       "      <td>1.000000</td>\n",
       "      <td>-0.000052</td>\n",
       "      <td>-0.014923</td>\n",
       "      <td>-0.024171</td>\n",
       "      <td>0.052211</td>\n",
       "      <td>0.001932</td>\n",
       "      <td>-0.003318</td>\n",
       "      <td>-0.020992</td>\n",
       "    </tr>\n",
       "    <tr>\n",
       "      <th>valence</th>\n",
       "      <td>0.004558</td>\n",
       "      <td>-0.163233</td>\n",
       "      <td>-0.016551</td>\n",
       "      <td>0.528136</td>\n",
       "      <td>0.372224</td>\n",
       "      <td>0.019998</td>\n",
       "      <td>0.275416</td>\n",
       "      <td>0.011494</td>\n",
       "      <td>0.046481</td>\n",
       "      <td>-0.180878</td>\n",
       "      <td>-0.175195</td>\n",
       "      <td>-0.000052</td>\n",
       "      <td>1.000000</td>\n",
       "      <td>0.135198</td>\n",
       "      <td>0.105508</td>\n",
       "      <td>-0.072807</td>\n",
       "      <td>-0.033036</td>\n",
       "      <td>-0.007113</td>\n",
       "      <td>-0.024842</td>\n",
       "    </tr>\n",
       "    <tr>\n",
       "      <th>tempo</th>\n",
       "      <td>0.071223</td>\n",
       "      <td>-0.001249</td>\n",
       "      <td>0.005723</td>\n",
       "      <td>-0.040896</td>\n",
       "      <td>0.230006</td>\n",
       "      <td>0.004912</td>\n",
       "      <td>0.189252</td>\n",
       "      <td>0.007877</td>\n",
       "      <td>-0.086950</td>\n",
       "      <td>-0.195117</td>\n",
       "      <td>-0.055380</td>\n",
       "      <td>-0.014923</td>\n",
       "      <td>0.135198</td>\n",
       "      <td>1.000000</td>\n",
       "      <td>0.031861</td>\n",
       "      <td>-0.005058</td>\n",
       "      <td>0.011318</td>\n",
       "      <td>-0.005984</td>\n",
       "      <td>0.120456</td>\n",
       "    </tr>\n",
       "    <tr>\n",
       "      <th>time_signature</th>\n",
       "      <td>0.086713</td>\n",
       "      <td>0.037553</td>\n",
       "      <td>0.044442</td>\n",
       "      <td>0.146166</td>\n",
       "      <td>0.188971</td>\n",
       "      <td>0.008871</td>\n",
       "      <td>0.164376</td>\n",
       "      <td>-0.015899</td>\n",
       "      <td>-0.114211</td>\n",
       "      <td>-0.173920</td>\n",
       "      <td>-0.042209</td>\n",
       "      <td>-0.024171</td>\n",
       "      <td>0.105508</td>\n",
       "      <td>0.031861</td>\n",
       "      <td>1.000000</td>\n",
       "      <td>0.015213</td>\n",
       "      <td>0.028588</td>\n",
       "      <td>-0.005447</td>\n",
       "      <td>0.116377</td>\n",
       "    </tr>\n",
       "    <tr>\n",
       "      <th>artists_popularity</th>\n",
       "      <td>0.520237</td>\n",
       "      <td>0.015081</td>\n",
       "      <td>0.126733</td>\n",
       "      <td>0.004443</td>\n",
       "      <td>0.110150</td>\n",
       "      <td>0.002484</td>\n",
       "      <td>0.088852</td>\n",
       "      <td>0.000496</td>\n",
       "      <td>0.051690</td>\n",
       "      <td>-0.150316</td>\n",
       "      <td>-0.109542</td>\n",
       "      <td>0.052211</td>\n",
       "      <td>-0.072807</td>\n",
       "      <td>-0.005058</td>\n",
       "      <td>0.015213</td>\n",
       "      <td>1.000000</td>\n",
       "      <td>0.406363</td>\n",
       "      <td>-0.032445</td>\n",
       "      <td>0.217133</td>\n",
       "    </tr>\n",
       "    <tr>\n",
       "      <th>artists_follower</th>\n",
       "      <td>0.238253</td>\n",
       "      <td>0.026794</td>\n",
       "      <td>0.131067</td>\n",
       "      <td>0.035566</td>\n",
       "      <td>0.088325</td>\n",
       "      <td>0.002572</td>\n",
       "      <td>0.115858</td>\n",
       "      <td>-0.012043</td>\n",
       "      <td>-0.020338</td>\n",
       "      <td>-0.109524</td>\n",
       "      <td>-0.050084</td>\n",
       "      <td>0.001932</td>\n",
       "      <td>-0.033036</td>\n",
       "      <td>0.011318</td>\n",
       "      <td>0.028588</td>\n",
       "      <td>0.406363</td>\n",
       "      <td>1.000000</td>\n",
       "      <td>-0.005954</td>\n",
       "      <td>0.131864</td>\n",
       "    </tr>\n",
       "    <tr>\n",
       "      <th>release_weekday</th>\n",
       "      <td>-0.055148</td>\n",
       "      <td>-0.015532</td>\n",
       "      <td>0.009177</td>\n",
       "      <td>-0.003721</td>\n",
       "      <td>-0.040121</td>\n",
       "      <td>0.000689</td>\n",
       "      <td>-0.030250</td>\n",
       "      <td>-0.004084</td>\n",
       "      <td>0.009051</td>\n",
       "      <td>0.045587</td>\n",
       "      <td>0.008998</td>\n",
       "      <td>-0.003318</td>\n",
       "      <td>-0.007113</td>\n",
       "      <td>-0.005984</td>\n",
       "      <td>-0.005447</td>\n",
       "      <td>-0.032445</td>\n",
       "      <td>-0.005954</td>\n",
       "      <td>1.000000</td>\n",
       "      <td>-0.046666</td>\n",
       "    </tr>\n",
       "    <tr>\n",
       "      <th>release_year</th>\n",
       "      <td>0.590796</td>\n",
       "      <td>0.054084</td>\n",
       "      <td>0.208475</td>\n",
       "      <td>0.226596</td>\n",
       "      <td>0.460131</td>\n",
       "      <td>0.023678</td>\n",
       "      <td>0.447057</td>\n",
       "      <td>-0.081315</td>\n",
       "      <td>-0.081996</td>\n",
       "      <td>-0.527429</td>\n",
       "      <td>-0.221888</td>\n",
       "      <td>-0.020992</td>\n",
       "      <td>-0.024842</td>\n",
       "      <td>0.120456</td>\n",
       "      <td>0.116377</td>\n",
       "      <td>0.217133</td>\n",
       "      <td>0.131864</td>\n",
       "      <td>-0.046666</td>\n",
       "      <td>1.000000</td>\n",
       "    </tr>\n",
       "  </tbody>\n",
       "</table>\n",
       "</div>"
      ],
      "text/plain": [
       "                    popularity  duration_ms  explicit  danceability    energy  \\\n",
       "popularity            1.000000     0.027638  0.211749      0.186878  0.302178   \n",
       "duration_ms           0.027638     1.000000 -0.016753     -0.120411  0.024782   \n",
       "explicit              0.211749    -0.016753  1.000000      0.150216  0.123060   \n",
       "danceability          0.186878    -0.120411  0.150216      1.000000  0.241464   \n",
       "energy                0.302178     0.024782  0.123060      0.241464  1.000000   \n",
       "key                   0.015306     0.004625  0.010933      0.018837  0.036303   \n",
       "loudness              0.327001     0.000314  0.134598      0.251394  0.764744   \n",
       "mode                 -0.033652    -0.027604 -0.051757     -0.044726 -0.065238   \n",
       "speechiness          -0.047415    -0.125783  0.102251      0.199291 -0.053560   \n",
       "acousticness         -0.370723    -0.064394 -0.149001     -0.242838 -0.715366   \n",
       "instrumentalness     -0.236403     0.069327 -0.067510     -0.225831 -0.195727   \n",
       "liveness             -0.048735     0.002139 -0.013113     -0.106175  0.124636   \n",
       "valence               0.004558    -0.163233 -0.016551      0.528136  0.372224   \n",
       "tempo                 0.071223    -0.001249  0.005723     -0.040896  0.230006   \n",
       "time_signature        0.086713     0.037553  0.044442      0.146166  0.188971   \n",
       "artists_popularity    0.520237     0.015081  0.126733      0.004443  0.110150   \n",
       "artists_follower      0.238253     0.026794  0.131067      0.035566  0.088325   \n",
       "release_weekday      -0.055148    -0.015532  0.009177     -0.003721 -0.040121   \n",
       "release_year          0.590796     0.054084  0.208475      0.226596  0.460131   \n",
       "\n",
       "                         key  loudness      mode  speechiness  acousticness  \\\n",
       "popularity          0.015306  0.327001 -0.033652    -0.047415     -0.370723   \n",
       "duration_ms         0.004625  0.000314 -0.027604    -0.125783     -0.064394   \n",
       "explicit            0.010933  0.134598 -0.051757     0.102251     -0.149001   \n",
       "danceability        0.018837  0.251394 -0.044726     0.199291     -0.242838   \n",
       "energy              0.036303  0.764744 -0.065238    -0.053560     -0.715366   \n",
       "key                 1.000000  0.027106 -0.129495    -0.001034     -0.027427   \n",
       "loudness            0.027106  1.000000 -0.040456    -0.167140     -0.519423   \n",
       "mode               -0.129495 -0.040456  1.000000    -0.017992      0.058914   \n",
       "speechiness        -0.001034 -0.167140 -0.017992     1.000000      0.069121   \n",
       "acousticness       -0.027427 -0.519423  0.058914     0.069121      1.000000   \n",
       "instrumentalness   -0.006788 -0.329255 -0.010023    -0.102425      0.204312   \n",
       "liveness           -0.006763  0.029509  0.007025     0.207062     -0.004742   \n",
       "valence             0.019998  0.275416  0.011494     0.046481     -0.180878   \n",
       "tempo               0.004912  0.189252  0.007877    -0.086950     -0.195117   \n",
       "time_signature      0.008871  0.164376 -0.015899    -0.114211     -0.173920   \n",
       "artists_popularity  0.002484  0.088852  0.000496     0.051690     -0.150316   \n",
       "artists_follower    0.002572  0.115858 -0.012043    -0.020338     -0.109524   \n",
       "release_weekday     0.000689 -0.030250 -0.004084     0.009051      0.045587   \n",
       "release_year        0.023678  0.447057 -0.081315    -0.081996     -0.527429   \n",
       "\n",
       "                    instrumentalness  liveness   valence     tempo  \\\n",
       "popularity                 -0.236403 -0.048735  0.004558  0.071223   \n",
       "duration_ms                 0.069327  0.002139 -0.163233 -0.001249   \n",
       "explicit                   -0.067510 -0.013113 -0.016551  0.005723   \n",
       "danceability               -0.225831 -0.106175  0.528136 -0.040896   \n",
       "energy                     -0.195727  0.124636  0.372224  0.230006   \n",
       "key                        -0.006788 -0.006763  0.019998  0.004912   \n",
       "loudness                   -0.329255  0.029509  0.275416  0.189252   \n",
       "mode                       -0.010023  0.007025  0.011494  0.007877   \n",
       "speechiness                -0.102425  0.207062  0.046481 -0.086950   \n",
       "acousticness                0.204312 -0.004742 -0.180878 -0.195117   \n",
       "instrumentalness            1.000000 -0.038836 -0.175195 -0.055380   \n",
       "liveness                   -0.038836  1.000000 -0.000052 -0.014923   \n",
       "valence                    -0.175195 -0.000052  1.000000  0.135198   \n",
       "tempo                      -0.055380 -0.014923  0.135198  1.000000   \n",
       "time_signature             -0.042209 -0.024171  0.105508  0.031861   \n",
       "artists_popularity         -0.109542  0.052211 -0.072807 -0.005058   \n",
       "artists_follower           -0.050084  0.001932 -0.033036  0.011318   \n",
       "release_weekday             0.008998 -0.003318 -0.007113 -0.005984   \n",
       "release_year               -0.221888 -0.020992 -0.024842  0.120456   \n",
       "\n",
       "                    time_signature  artists_popularity  artists_follower  \\\n",
       "popularity                0.086713            0.520237          0.238253   \n",
       "duration_ms               0.037553            0.015081          0.026794   \n",
       "explicit                  0.044442            0.126733          0.131067   \n",
       "danceability              0.146166            0.004443          0.035566   \n",
       "energy                    0.188971            0.110150          0.088325   \n",
       "key                       0.008871            0.002484          0.002572   \n",
       "loudness                  0.164376            0.088852          0.115858   \n",
       "mode                     -0.015899            0.000496         -0.012043   \n",
       "speechiness              -0.114211            0.051690         -0.020338   \n",
       "acousticness             -0.173920           -0.150316         -0.109524   \n",
       "instrumentalness         -0.042209           -0.109542         -0.050084   \n",
       "liveness                 -0.024171            0.052211          0.001932   \n",
       "valence                   0.105508           -0.072807         -0.033036   \n",
       "tempo                     0.031861           -0.005058          0.011318   \n",
       "time_signature            1.000000            0.015213          0.028588   \n",
       "artists_popularity        0.015213            1.000000          0.406363   \n",
       "artists_follower          0.028588            0.406363          1.000000   \n",
       "release_weekday          -0.005447           -0.032445         -0.005954   \n",
       "release_year              0.116377            0.217133          0.131864   \n",
       "\n",
       "                    release_weekday  release_year  \n",
       "popularity                -0.055148      0.590796  \n",
       "duration_ms               -0.015532      0.054084  \n",
       "explicit                   0.009177      0.208475  \n",
       "danceability              -0.003721      0.226596  \n",
       "energy                    -0.040121      0.460131  \n",
       "key                        0.000689      0.023678  \n",
       "loudness                  -0.030250      0.447057  \n",
       "mode                      -0.004084     -0.081315  \n",
       "speechiness                0.009051     -0.081996  \n",
       "acousticness               0.045587     -0.527429  \n",
       "instrumentalness           0.008998     -0.221888  \n",
       "liveness                  -0.003318     -0.020992  \n",
       "valence                   -0.007113     -0.024842  \n",
       "tempo                     -0.005984      0.120456  \n",
       "time_signature            -0.005447      0.116377  \n",
       "artists_popularity        -0.032445      0.217133  \n",
       "artists_follower          -0.005954      0.131864  \n",
       "release_weekday            1.000000     -0.046666  \n",
       "release_year              -0.046666      1.000000  "
      ]
     },
     "execution_count": 17,
     "metadata": {},
     "output_type": "execute_result"
    }
   ],
   "source": [
    "raw.corr()"
   ]
  },
  {
   "cell_type": "code",
   "execution_count": null,
   "metadata": {
    "id": "_tQgfe_FJi9A",
    "outputId": "73e9e6ca-40a4-4447-9945-533366f95225"
   },
   "outputs": [
    {
     "data": {
      "image/png": "[encoded data removed]",
      "text/plain": [
       "<Figure size 1080x360 with 2 Axes>"
      ]
     },
     "metadata": {
      "needs_background": "light"
     },
     "output_type": "display_data"
    }
   ],
   "source": [
    "#Creating mask for dropping upper triangle of the heat map \n",
    "heatM = np.triu(raw.corr())\n",
    "\n",
    "#Setting up the plot\n",
    "fig, ax = plt.subplots(figsize=(15,5))\n",
    "plt.title(\"Correclation between Popularity and other factors in a song\", fontsize=20, loc='left')\n",
    "\n",
    "#Showing heatmap\n",
    "ax = sns.heatmap(raw.corr(), vmin = -1, vmax = 1, center = 0, cmap = 'coolwarm', annot = False, mask = heatM)\n",
    "#adjusting the text on x-axis so that it does not overlap\n",
    "plt.xticks(\n",
    "    rotation=45, \n",
    "    horizontalalignment='right',\n",
    "    fontweight='light',\n",
    "    fontsize='x-large'  \n",
    ")\n",
    "plt.show()"
   ]
  },
  {
   "cell_type": "markdown",
   "metadata": {
    "id": "Puf4AqW4Ji9B"
   },
   "source": [
    "The color of the heatmap gets more red as the correlation between two factors are higher, and the color gets more blue as the correlation between two factors are low. As we can see from the above correlation table and heatmap between popularity and other variables in a song, some of the top factors in a song that has a strong correlation with popularity are: release year, artists popularity, loudness, energy, daceability. "
   ]
  },
  {
   "cell_type": "code",
   "execution_count": null,
   "metadata": {
    "id": "meZWxOqCJi9C",
    "outputId": "ec93b3bc-9f10-472d-87f2-0a9020192846"
   },
   "outputs": [
    {
     "data": {
      "image/png": "[encoded data removed]",
      "text/plain": [
       "<Figure size 1080x1440 with 20 Axes>"
      ]
     },
     "metadata": {
      "needs_background": "light"
     },
     "output_type": "display_data"
    }
   ],
   "source": [
    "fig, ax =plt.subplots(5,4)\n",
    "fig.set_size_inches(15, 20, forward=True)\n",
    "\n",
    "# Visualizing outliers of each variable using boxplots\n",
    "sns.boxplot(y=raw['popularity'], ax=ax[0,0]).set(title=\"popularity\")\n",
    "sns.boxplot(y=raw['release_year'], ax=ax[0,1]).set(title=\"release_year\")\n",
    "sns.boxplot(y=raw['artists_popularity'], ax=ax[0,2]).set(title=\"artists_popularity\")\n",
    "sns.boxplot(y=raw['loudness'], ax=ax[0,3]).set(title=\"loudness\")\n",
    "sns.boxplot(y=raw['energy'], ax=ax[1,0]).set(title=\"energy\")\n",
    "sns.boxplot(y=raw['duration_ms'], ax=ax[1,1]).set(title=\"duration_ms\")\n",
    "sns.boxplot(y=raw['explicit'], ax=ax[1,2]).set(title=\"explicit\")\n",
    "sns.boxplot(y=raw['key'], ax=ax[1,3]).set(title=\"key\")\n",
    "sns.boxplot(y=raw['mode'], ax=ax[2,0]).set(title=\"mode\")\n",
    "sns.boxplot(y=raw['speechiness'], ax=ax[2,1]).set(title=\"speechiness\")\n",
    "sns.boxplot(y=raw['acousticness'], ax=ax[2,2]).set(title=\"acousticness\")\n",
    "sns.boxplot(y=raw['instrumentalness'], ax=ax[2,3]).set(title=\"instrumentalness\")\n",
    "sns.boxplot(y=raw['liveness'], ax=ax[3,0]).set(title=\"liveness\")\n",
    "sns.boxplot(y=raw['valence'], ax=ax[3,1]).set(title=\"valence\")\n",
    "sns.boxplot(y=raw['tempo'], ax=ax[3,2]).set(title=\"tempo\")\n",
    "sns.boxplot(y=raw['time_signature'], ax=ax[3,3]).set(title=\"time_signature\")\n",
    "sns.boxplot(y=raw['artists_follower'], ax=ax[4,0]).set(title=\"artists_follower\")\n",
    "sns.boxplot(y=raw['release_weekday'], ax=ax[4,1]).set(title=\"release_weekday\")\n",
    "plt.show()"
   ]
  },
  {
   "cell_type": "code",
   "execution_count": null,
   "metadata": {
    "id": "4j6R2jg9pRmo",
    "outputId": "e8ed2412-8ce8-49f5-e6e9-68b79da2514f"
   },
   "outputs": [
    {
     "data": {
      "image/png": "[encoded data removed]",
      "text/plain": [
       "<Figure size 1080x720 with 20 Axes>"
      ]
     },
     "metadata": {
      "needs_background": "light"
     },
     "output_type": "display_data"
    }
   ],
   "source": [
    "raw.hist(figsize=(15,10))\n",
    "plt.tight_layout()\n",
    "plt.show()"
   ]
  },
  {
   "cell_type": "markdown",
   "metadata": {
    "id": "M08kC9EJJi9F"
   },
   "source": [
    "We have plotted the distribution and box plot of each variables in our dataset. We saw that some variable's data are not normally distributed and had significant outliers. Some are because of the type of data, for example \"explicit\" are a boolean value and therefore the distribution and box plot are not normal. "
   ]
  },
  {
   "cell_type": "markdown",
   "metadata": {
    "id": "p62smLx6pRmp"
   },
   "source": [
    "As mentioned in the problem statement above, the **genre, track lyrics, day of release, and artist** are proven by other data scientists to be useful for predicting the popularity of the track. So we attempt to plot the release date of the track vs. the popularity of the track. "
   ]
  },
  {
   "cell_type": "markdown",
   "metadata": {
    "id": "jAb7SNn-pRmp"
   },
   "source": [
    "![date_pop](edas/date_pop.png)"
   ]
  },
  {
   "cell_type": "markdown",
   "metadata": {
    "id": "d7PPKpf5pRmq"
   },
   "source": [
    "As shown in the plot, more recently released tracks tend to be more popular. We can also see that the color of the lines are determined by the Key column, which represents the major note of the track. We can observe that keys such as 0 and 7 are more popular in general and keys such as 3 and 8 are less popular. From the plot, we can see that people generally prefer more recently released tracks with 0 or 7 as the major key. We can see that the release year of the track has a correlation with the popularity of the track."
   ]
  },
  {
   "cell_type": "code",
   "execution_count": null,
   "metadata": {
    "id": "NEkxLkAhpRmq",
    "outputId": "05462432-5411-4575-8e23-362998fa02a3"
   },
   "outputs": [
    {
     "data": {
      "image/png": "[encoded data removed]",
      "text/plain": [
       "<Figure size 720x432 with 1 Axes>"
      ]
     },
     "metadata": {
      "needs_background": "light"
     },
     "output_type": "display_data"
    }
   ],
   "source": [
    "plt.figure(figsize=(10,6))\n",
    "sns.barplot(x = 'key', y = 'popularity', data = raw)\n",
    "plt.title('Popularity Based on Key')\n",
    "plt.show()"
   ]
  },
  {
   "cell_type": "markdown",
   "metadata": {
    "id": "R8RWwmY3pRmr"
   },
   "source": [
    "From the mean popularity of each key group, we can tell that people prefer songs with keys 1, 6 and 11 over the others whereas the songs with 3 as key are less preferred."
   ]
  },
  {
   "cell_type": "markdown",
   "metadata": {
    "id": "P4Om8MgfpRmr"
   },
   "source": [
    "Let’s further examine the dataset and plot **Energy vs. Popularity**."
   ]
  },
  {
   "cell_type": "markdown",
   "metadata": {
    "id": "AGc2rNJJpRms"
   },
   "source": [
    "![energy_pop](edas/energy_pop.png)"
   ]
  },
  {
   "cell_type": "markdown",
   "metadata": {
    "id": "UE234aMspRms"
   },
   "source": [
    "**Energy** is defined as how energized a track is between 0 and 1. From the plot we can see that people don’t like tracks that are too dampened or too energized. Instead, they prefer somewhere in the middle. We can see that people prefer tracks that are between 65% and 75% energized. It seems like there is a **quadratic** relationship between Energy and Popularity."
   ]
  },
  {
   "cell_type": "markdown",
   "metadata": {
    "id": "dXvTI_Y4pRms"
   },
   "source": [
    "We see that there is another column called **Loudness** which means how loud a track is between 0 and 1. Intuitively, we can think of Energy and Loudness as interchangeable, i.e. as energy increases, loudness increases. Additionally, Energy and Loudness are on the same scale, thus let’s try to plot Loudness vs. Popularity. "
   ]
  },
  {
   "cell_type": "markdown",
   "metadata": {
    "id": "xksPkezwpRms"
   },
   "source": [
    "![loud_pop](edas/loud_pop.png)"
   ]
  },
  {
   "cell_type": "markdown",
   "metadata": {
    "id": "npaaHOMHpRmt"
   },
   "source": [
    "We see that the trend is similar to the previous plot. This shows that people prefer tracks with a loudness between 0.75 and 0.85. Since these two plots look quite similar, it might be an indicator that we might need to perform PCA."
   ]
  },
  {
   "cell_type": "markdown",
   "metadata": {
    "id": "mO6KUrUWpRmt"
   },
   "source": [
    "We can find another column which may have similar relationship to Popularity as the previous two. "
   ]
  },
  {
   "cell_type": "markdown",
   "metadata": {
    "id": "kgRZY1mmpRmt"
   },
   "source": [
    "![dance_pop](edas/dance_pop.png)"
   ]
  },
  {
   "cell_type": "markdown",
   "metadata": {
    "id": "RxZh0HhqpRmu"
   },
   "source": [
    "As shown above, we see that the relationship between **danceability** and **popularity** is similar to the previous two. People prefer tracks that are 60% to 70% danceable. "
   ]
  },
  {
   "cell_type": "markdown",
   "metadata": {
    "id": "wuWc7dpZpRmu"
   },
   "source": [
    "Intuitively, we would think that the **artist** of the track has an impact on the **popularity** of that track. For example, if I wrote a song versus Drake wrote a song, we would predict that the track that Drake wrote is more popular. Let’s see if that’s the case."
   ]
  },
  {
   "cell_type": "markdown",
   "metadata": {
    "id": "m2NJtt9apRmu"
   },
   "source": [
    "![pop_pop_fo](edas/pop_pop_fo.png)"
   ]
  },
  {
   "cell_type": "markdown",
   "metadata": {
    "id": "xW5hRMDUpRmu"
   },
   "source": [
    "We see that the x-axis represents the maximum number of **popolarity** among artists that produced the track. The data points are sized by the **total number of followers** among artists that produced the track. As shown in the plot, popularity of the track increases as the maximum number of popularity among artists that produced the track increases. Additionally,  popularity of the track increases as the **total number of followers** among artists that produced the track increases. This confirms our guess that the artist of the track has a positive correlation to the popularity of that track."
   ]
  },
  {
   "cell_type": "markdown",
   "metadata": {
    "id": "4O0DKcH-pRmv"
   },
   "source": [
    "Now we want to further investigate the relationship of other columns with popularity.<br>\n",
    "First, we will take a closer look at the ***time_signiture*** column"
   ]
  },
  {
   "cell_type": "code",
   "execution_count": null,
   "metadata": {
    "id": "EvObfiDipRmv",
    "outputId": "31a0fbce-fef4-45f8-86bd-c549b30a1cfe"
   },
   "outputs": [
    {
     "data": {
      "image/png": "[encoded data removed]",
      "text/plain": [
       "<Figure size 720x432 with 1 Axes>"
      ]
     },
     "metadata": {
      "needs_background": "light"
     },
     "output_type": "display_data"
    }
   ],
   "source": [
    "plt.figure(figsize=(10,6))\n",
    "ax=sns.barplot(x = 'time_signature', y = 'popularity', data = raw)\n",
    "plt.title('Popularity v.s. Signature')\n",
    "plt.show()"
   ]
  },
  {
   "cell_type": "markdown",
   "metadata": {
    "id": "wHYszsY_pRmw"
   },
   "source": [
    "We can see that the songs with **0** as time signature have the highest mean popularity whereas the songs with **1** as time signature have the lowest mean popularity score. People prefer songs with time signature 0 and 4 significantly over songs with 1, 3, 5 as time signature. "
   ]
  },
  {
   "cell_type": "code",
   "execution_count": null,
   "metadata": {
    "id": "n0lkcc5qpRmw",
    "outputId": "b6c9f101-fc58-4cfd-92b7-0e7e7518749d"
   },
   "outputs": [
    {
     "data": {
      "image/png": "[encoded data removed]",
      "text/plain": [
       "<Figure size 720x432 with 1 Axes>"
      ]
     },
     "metadata": {
      "needs_background": "light"
     },
     "output_type": "display_data"
    }
   ],
   "source": [
    "plt.figure(figsize=(10,6))\n",
    "sns.barplot(x = 'release_weekday', y = 'popularity', data = raw)\n",
    "plt.title('Popularity v.s. Weekday')\n",
    "plt.show()"
   ]
  },
  {
   "cell_type": "markdown",
   "metadata": {
    "id": "NMQfRpcwpRmx"
   },
   "source": [
    "We can see that songs released on Sunday have the lowest popularity score and songs released on Friday have the highest popularity.  If we were to predict two song’s popularity based purely on the week they are released, we would predict that songs released on Tuesday and Friday would have a higher popularity compared to songs released on Sunday. "
   ]
  },
  {
   "cell_type": "markdown",
   "metadata": {
    "id": "dCgCE2AhJi9P"
   },
   "source": [
    "Next, we examine the relationship between the number of followers the artist has vs the artist's popularity. "
   ]
  },
  {
   "cell_type": "code",
   "execution_count": null,
   "metadata": {
    "id": "w8yv32F1Ji9P",
    "outputId": "486985aa-74d1-49d1-8884-c4485619aebc",
    "scrolled": false
   },
   "outputs": [
    {
     "data": {
      "image/png": "[encoded data removed]",
      "text/plain": [
       "<Figure size 720x432 with 1 Axes>"
      ]
     },
     "metadata": {
      "needs_background": "light"
     },
     "output_type": "display_data"
    }
   ],
   "source": [
    "plt.figure(figsize=(10,6))\n",
    "dfSample = raw.copy() \n",
    "dfSample = dfSample.sample(500)\n",
    "sns.regplot(x = 'artists_follower', y = 'popularity', data = dfSample)\n",
    "plt.title(\"Popularity v.s. Artists' Followers\")\n",
    "plt.show()"
   ]
  },
  {
   "cell_type": "markdown",
   "metadata": {
    "id": "RFvFqZXXJi9Q"
   },
   "source": [
    "Due to the number of data points we have, we first randomly sampled 500 unique data points and plot the relationship using a regression plot. Based on the positive regression line, we can safely say that as the number of followers increases, the popularity rate also tends to increase, but due to some of the outliers, we cannot get a clear view on what the scatter plot looks like. So we have decided to further examine the relationship by removing the outliers using the interquartile range method. The reason why we are using the interquartile range method to remove outliers is because we can clearly observe that the distribution of artists' follower does not follow the Gaussian distribution, rather it is skewed left."
   ]
  },
  {
   "cell_type": "code",
   "execution_count": null,
   "metadata": {
    "id": "zfz7Buy9Ji9Q",
    "outputId": "ff346bb4-1ce5-4dac-a128-664cc7165a3a",
    "scrolled": false
   },
   "outputs": [
    {
     "data": {
      "image/png": "[encoded data removed]",
      "text/plain": [
       "<Figure size 720x432 with 1 Axes>"
      ]
     },
     "metadata": {
      "needs_background": "light"
     },
     "output_type": "display_data"
    }
   ],
   "source": [
    "plt.figure(figsize=(10,6))\n",
    "dfSample = raw.copy() \n",
    "dfSample = dfSample[(dfSample[\"artists_follower\"] < dfSample[\"artists_follower\"].quantile(0.60))]\n",
    "dfSample = dfSample.sample(500)\n",
    "sns.regplot(x = 'artists_follower', y = 'popularity', data = dfSample)\n",
    "plt.title(\"Popularity v.s. Artists' Followers\")\n",
    "plt.show()"
   ]
  },
  {
   "cell_type": "markdown",
   "metadata": {
    "id": "G5MomBbhJi9R"
   },
   "source": [
    "We apply the interquartile range method to filter out the number of followers that are greater than the 60% percentile. Now, we can see a clear trend of correlation that as the artist's follower increases, the popularity tends to also increase."
   ]
  },
  {
   "cell_type": "code",
   "execution_count": null,
   "metadata": {
    "id": "EUv-j7gGJi9S"
   },
   "outputs": [],
   "source": []
  },
  {
   "cell_type": "markdown",
   "metadata": {
    "id": "sdYbw4dgpRmx"
   },
   "source": [
    "# Proposed Solution\n",
    "\n",
    "We have two datasets for this project, tracks.csv and artists.csv. We see that these datasets can be joined on the column artist_id which serves as the primary key in artists.csv and as the foreign key in tracks.csv. We will first perform a left join on these datasets.\n",
    "\n",
    "We will use the subset of the dataset where both tracks_name and artist_name only contain English characters. We anticipate that the cardinality will be smaller after this procedure but still satisfies the requirement.\n",
    "\n",
    "We intend to build a regression model to predict the popularity of a song using pipeline-engineered features from the cleaned and processed data combined from the two datasets mentioned above.\n",
    "\n",
    "\n",
    "**Baseline Model** $$Popularity=w_{Dancibility}*Dancibility + w_0$$\n",
    "The intention of the baseline model is to set a basic standard of the performance of the model for further improvement. This means that the performance of our final model cannot be worse than this one.\n",
    "\n",
    "\n",
    "**Improved Model** $$Popularity=w_1X_1+w_2X_2+...+w_dX_d+w_0$$\n",
    "The improved Model would contain all of the engineered features with statistical significance.\n",
    "\n",
    "\n",
    "**Final Model**<br>\n",
    "**K-nearnest neighbors Regressor** model with all of the numerical features.\n"
   ]
  },
  {
   "cell_type": "markdown",
   "metadata": {
    "id": "yfa7ahxipRmy"
   },
   "source": [
    "# Evaluation Metrics\n",
    "\n",
    "intuitive evaluation metric is the **mean squared error(MSE)**,$\\frac{1}{n}\\sum\\limits _{i=1} ^{n}(y_{pred}-y_{actural})^2 $. MSE measures how much our predictions are away from the actual targets, which means that we seek a relatively low value of MSE.\n",
    "\n",
    "\n",
    "\n",
    "* Since our solutions include a baseline model, we would like to have an evaluation metric for the improvements of performance for different models. We plan to use the **R-squared** metric, i.e. $R^2=1-  \\frac{\\sum\\limits_{i=1}^{n}(y_{pred}-y_{actural})^2}{\\sum\\limits_{i=1}^{n}(y_{bar}-y_{i})^2}$. $R^2$ measures how much of the variance in y can be explained by x. This way, we will have an idea of how much our model improved by comparing the R2 value of different models .\n",
    "\n",
    "\n",
    "\n",
    "* In order to tune our hyperparameters and avoid overfitting, we plan to use the classical **k-fold cross validation** strategy. k-fold cross validation allows us to test different hyperparameters on a validation set. By introducing a validation set, we believe that our model will be less susceptible to overfitting.\n",
    "\n"
   ]
  },
  {
   "cell_type": "markdown",
   "metadata": {
    "id": "pEV-aZeYpRmy"
   },
   "source": [
    "# Preliminary results"
   ]
  },
  {
   "cell_type": "code",
   "execution_count": 2,
   "metadata": {
    "id": "LX7Gyv60pRmy"
   },
   "outputs": [],
   "source": [
    "from sklearn.model_selection import train_test_split, cross_val_score, cross_validate, GridSearchCV,learning_curve\n",
    "from sklearn.pipeline import Pipeline\n",
    "import warnings\n",
    "warnings.filterwarnings(\"ignore\")"
   ]
  },
  {
   "cell_type": "code",
   "execution_count": 4,
   "metadata": {
    "id": "-x9PyoOaJ8hv"
   },
   "outputs": [],
   "source": [
    "raw = pd.read_csv('raw.csv')"
   ]
  },
  {
   "cell_type": "code",
   "execution_count": 5,
   "metadata": {
    "id": "OF-11XotpRmz"
   },
   "outputs": [],
   "source": [
    "X=raw.drop(['popularity'],axis=1)\n",
    "y=raw['popularity']\n",
    "X_train, X_test, y_train, y_test = train_test_split(X, \n",
    "                                                    y, \n",
    "                                                    test_size=0.33, \n",
    "                                                    random_state=42)\n"
   ]
  },
  {
   "cell_type": "code",
   "execution_count": 6,
   "metadata": {
    "id": "iB4MaUxRpRmz"
   },
   "outputs": [],
   "source": [
    "def print_scores(scores):\n",
    "    print()\n",
    "    print('CV scores: ')\n",
    "    print('Mean Trianing R2: ',np.mean(scores['train_r2']))\n",
    "    print('Mean Trianing MSE: ',np.mean(-scores['train_neg_mean_squared_error']))\n",
    "    print('Mean Testing R2: ',np.mean(scores['test_r2']))\n",
    "    print('Mean Testing MSE: ',np.mean(-scores['test_neg_mean_squared_error']))\n",
    "    print()"
   ]
  },
  {
   "cell_type": "markdown",
   "metadata": {
    "id": "SRAR-IKipRm0"
   },
   "source": [
    "##### We fitted a total of five models. The first one is a simple linear regerssion model including only the Danceability feature. "
   ]
  },
  {
   "cell_type": "markdown",
   "metadata": {
    "id": "YhNsa9PppRm0"
   },
   "source": [
    "### Baseline Model"
   ]
  },
  {
   "cell_type": "code",
   "execution_count": null,
   "metadata": {
    "id": "vuc3sg3_pRm0",
    "outputId": "0d8bd70c-24aa-41f6-84fb-7b47ff0589f0"
   },
   "outputs": [
    {
     "name": "stderr",
     "output_type": "stream",
     "text": [
      "[Parallel(n_jobs=-1)]: Using backend LokyBackend with 8 concurrent workers.\n"
     ]
    },
    {
     "name": "stdout",
     "output_type": "stream",
     "text": [
      "\n",
      "CV scores: \n",
      "Mean Trianing R2:  0.034934547677855955\n",
      "Mean Trianing MSE:  326.2643654613989\n",
      "Mean Testing R2:  0.03492648127834792\n",
      "Mean Testing MSE:  326.2659288157718\n",
      "\n",
      "Test Socres:\n",
      "Test MSE:  324.40426376992116\n",
      "Test R2: 0.034899221497143196\n"
     ]
    },
    {
     "name": "stderr",
     "output_type": "stream",
     "text": [
      "[Parallel(n_jobs=-1)]: Done   2 out of   5 | elapsed:    1.5s remaining:    2.3s\n",
      "[Parallel(n_jobs=-1)]: Done   5 out of   5 | elapsed:    1.5s finished\n"
     ]
    }
   ],
   "source": [
    "from sklearn.linear_model import LinearRegression\n",
    "linreg = LinearRegression()\n",
    "scores=cross_validate(linreg, \n",
    "                X_train[['danceability']], \n",
    "                y_train, cv=5,\n",
    "                scoring=['neg_mean_squared_error','r2'],\n",
    "                verbose=3,\n",
    "                n_jobs=-1,\n",
    "              return_train_score=True)\n",
    "\n",
    "print_scores(scores)\n",
    "print('Test Socres:')\n",
    "print('Test MSE: ',\n",
    "      np.mean((linreg.fit(X_train[['danceability']],y_train).predict(X_test[['danceability']])-y_test)**2))\n",
    "print('Test R2:',linreg.score(X_test[['danceability']],y_test))"
   ]
  },
  {
   "cell_type": "markdown",
   "metadata": {
    "id": "TVj9VZs2pRm1"
   },
   "source": [
    "Our baseline model  $Popularity=w_{Dancibility}*Dancibility + w_0$ gives a Test MSE of *324.4*, and a Test *$R^2$* of 0.035, which means there is still spaces for improvement."
   ]
  },
  {
   "cell_type": "code",
   "execution_count": null,
   "metadata": {
    "id": "sBxNqF6SpRm1",
    "outputId": "233b9699-471b-4aae-a5da-ca045a7757ee"
   },
   "outputs": [
    {
     "data": {
      "image/png": "[encoded data removed]",
      "text/plain": [
       "<Figure size 576x360 with 1 Axes>"
      ]
     },
     "metadata": {
      "needs_background": "light"
     },
     "output_type": "display_data"
    }
   ],
   "source": [
    "train_score=scores['train_neg_mean_squared_error']\n",
    "test_score=scores['test_neg_mean_squared_error']\n",
    "plt.figure(figsize=(8,5))\n",
    "plt.plot([1,2,3,4,5],-train_score,label='train')\n",
    "plt.plot([1,2,3,4,5],-test_score,label='test')\n",
    "plt.legend()\n",
    "plt.title('CV error for Linear Regression with Danceability')\n",
    "plt.xlabel('Folds')\n",
    "plt.ylabel('MSE')\n",
    "plt.show()"
   ]
  },
  {
   "cell_type": "markdown",
   "metadata": {
    "id": "CGDvXxGXpRm1"
   },
   "source": [
    "As shown from the plot, our first baseline model needs improvement. Since we included only one feature in this model, the next step is to add additional features and evaluate the performance of the updated model."
   ]
  },
  {
   "cell_type": "markdown",
   "metadata": {
    "id": "svvGcPV9pRm2"
   },
   "source": [
    "### All-inclusive Model"
   ]
  },
  {
   "cell_type": "markdown",
   "metadata": {
    "id": "WUmqsuHTpRm2"
   },
   "source": [
    "##### The second model is a multi-variate regression including all of the numeric features\n",
    "$$Popularity=w_1X_1+w_2X_2+...+w_dX_d+w_0$$\n",
    "where X's are all of the scaled and engineered features."
   ]
  },
  {
   "cell_type": "code",
   "execution_count": null,
   "metadata": {
    "id": "zh2HF-kipRm2",
    "outputId": "c790cca2-2d44-4e52-9c85-5ecef1160fbe"
   },
   "outputs": [
    {
     "name": "stderr",
     "output_type": "stream",
     "text": [
      "[Parallel(n_jobs=-1)]: Using backend LokyBackend with 8 concurrent workers.\n",
      "[Parallel(n_jobs=-1)]: Done   2 out of   5 | elapsed:    0.8s remaining:    1.3s\n",
      "[Parallel(n_jobs=-1)]: Done   5 out of   5 | elapsed:    1.3s finished\n"
     ]
    },
    {
     "name": "stdout",
     "output_type": "stream",
     "text": [
      "\n",
      "CV scores: \n",
      "Mean Trianing R2:  0.5313361158871603\n",
      "Mean Trianing MSE:  158.44336972290898\n",
      "Mean Testing R2:  0.5312529641705244\n",
      "Mean Testing MSE:  158.46931717498614\n",
      "\n",
      "Test Socres:\n",
      "Test MSE:  157.24647018379198\n",
      "Test R2: 0.5321926751898443\n"
     ]
    }
   ],
   "source": [
    "X_train=X_train.select_dtypes(include=np.number)\n",
    "X_test=X_test.select_dtypes(include=np.number)\n",
    "linreg = LinearRegression()\n",
    "scores=cross_validate(linreg, \n",
    "                X_train, \n",
    "                y_train, cv=5,\n",
    "                scoring=['neg_mean_squared_error','r2'],\n",
    "                verbose=3,\n",
    "                n_jobs=-1,\n",
    "              return_train_score=True)\n",
    "\n",
    "print_scores(scores)\n",
    "print('Test Socres:')\n",
    "print('Test MSE: ',\n",
    "      np.mean((linreg.fit(X_train,y_train).predict(X_test)-y_test)**2))\n",
    "print('Test R2:',linreg.score(X_test,y_test))"
   ]
  },
  {
   "cell_type": "markdown",
   "metadata": {
    "id": "xfYWwalopRm2"
   },
   "source": [
    "Our second model  $Popularity=w_1X_1+w_2X_2+...+w_dX_d+w_0$ gives a Test MSE of *157.2*, and a Test $R^2$\n",
    "of 0.53, which means improvement of the model performance to some extent:\n",
    "<ul>\n",
    "    <li>MSE decreased 166</li>\n",
    "    <li>$R^2$ increased 50%</li>\n",
    "</ul>"
   ]
  },
  {
   "cell_type": "code",
   "execution_count": null,
   "metadata": {
    "id": "f4ZFhK6bpRm3",
    "outputId": "e6c27335-ed32-49ef-ace1-7bdac98a65cf"
   },
   "outputs": [
    {
     "data": {
      "image/png": "[encoded data removed]",
      "text/plain": [
       "<Figure size 576x360 with 1 Axes>"
      ]
     },
     "metadata": {
      "needs_background": "light"
     },
     "output_type": "display_data"
    }
   ],
   "source": [
    "train_score=scores['train_neg_mean_squared_error']\n",
    "test_score=scores['test_neg_mean_squared_error']\n",
    "plt.figure(figsize=(8,5))\n",
    "plt.plot([1,2,3,4,5],-train_score,label='train')\n",
    "plt.plot([1,2,3,4,5],-test_score,label='test')\n",
    "plt.legend()\n",
    "plt.title('CV error for Linear Regression with Danceability')\n",
    "plt.xlabel('Folds')\n",
    "plt.ylabel('MSE')\n",
    "plt.show()"
   ]
  },
  {
   "cell_type": "markdown",
   "metadata": {
    "id": "7gOYb8avpRm3"
   },
   "source": [
    "As shown in the plot, our second model exhibits a more stable performance than the first one. However, the training and testing MSE are still high and we look forward for further improvement with more complex models."
   ]
  },
  {
   "cell_type": "markdown",
   "metadata": {
    "id": "a-JsXRXZpRm3"
   },
   "source": [
    "We will try some non-linear models in the next step. The first one we tried is the **KNN regressor**. There are many advantages of the KNN models including but not limited to simplicity, non-parametric, and versatility. We hope to improve our predictions by using this model. We will be using GridSearchCV to tune the number of k."
   ]
  },
  {
   "cell_type": "markdown",
   "metadata": {
    "id": "DmXNruBupRm4"
   },
   "source": [
    "### KNN Regressor"
   ]
  },
  {
   "cell_type": "code",
   "execution_count": null,
   "metadata": {
    "colab": {
     "base_uri": "https://localhost:8080/",
     "height": 412
    },
    "id": "D7u6RZWwpRm4",
    "outputId": "5c81df4b-08f1-4d0b-cffe-a8ad32d4f57b"
   },
   "outputs": [
    {
     "name": "stdout",
     "output_type": "stream",
     "text": [
      "Fitting 5 folds for each of 5 candidates, totalling 25 fits\n"
     ]
    },
    {
     "name": "stderr",
     "output_type": "stream",
     "text": [
      "[Parallel(n_jobs=-1)]: Using backend LokyBackend with 8 concurrent workers.\n",
      "[Parallel(n_jobs=-1)]: Done  19 out of  25 | elapsed:   31.0s remaining:    9.8s\n",
      "[Parallel(n_jobs=-1)]: Done  25 out of  25 | elapsed:   35.0s finished\n"
     ]
    },
    {
     "name": "stdout",
     "output_type": "stream",
     "text": [
      "Test Socres:\n",
      "Test MSE:  120.0593461067536\n",
      "Test R2: 0.6428241508059764\n"
     ]
    }
   ],
   "source": [
    "from sklearn.neighbors import KNeighborsRegressor\n",
    "\n",
    "X_train=X_train.select_dtypes(include=np.number)\n",
    "X_test=X_test.select_dtypes(include=np.number)\n",
    "\n",
    "knn = KNeighborsRegressor(n_jobs=-1)\n",
    "\n",
    "\n",
    "reg = GridSearchCV(knn, \n",
    "                    {'n_neighbors':[1,3,5,7,9]}, \n",
    "                    cv=5,\n",
    "                    scoring='neg_mean_squared_error',\n",
    "                    verbose=3,\n",
    "                    n_jobs=-1,\n",
    "                    return_train_score=True)\n",
    "\n",
    "reg.fit(X_train,y_train)\n",
    "\n",
    "print('Test Socres:')\n",
    "print('Test MSE: ',\n",
    "      np.mean((reg.best_estimator_.fit(X_train,y_train).predict(X_test)-y_test)**2))\n",
    "print('Test R2:',reg.best_estimator_.score(X_test,y_test))"
   ]
  },
  {
   "cell_type": "code",
   "execution_count": null,
   "metadata": {
    "id": "-o8R-oFYpRm5",
    "outputId": "f85229f8-84b4-476e-d1fc-a1600c45f3e6",
    "scrolled": true
   },
   "outputs": [
    {
     "data": {
      "image/png": "[encoded data removed]",
      "text/plain": [
       "<Figure size 576x360 with 1 Axes>"
      ]
     },
     "metadata": {
      "needs_background": "light"
     },
     "output_type": "display_data"
    }
   ],
   "source": [
    "train_score=reg.cv_results_['mean_train_score']\n",
    "test_score=reg.cv_results_['mean_test_score']\n",
    "plt.figure(figsize=(8,5))\n",
    "plt.plot([1,3,5,7,9],-train_score,label='train')\n",
    "plt.plot([1,3,5,7,9],-test_score,label='test')\n",
    "best_k=reg.best_params_['n_neighbors']\n",
    "plt.scatter(best_k,-train_score[2],c='r')\n",
    "plt.scatter(best_k,-test_score[2],c='r')\n",
    "plt.legend()\n",
    "plt.title('Best KNN Regressor by GridSearchCV: K=5')\n",
    "plt.xlabel('n_neighbors(k)')\n",
    "plt.ylabel('MSE')\n",
    "plt.show()"
   ]
  },
  {
   "cell_type": "markdown",
   "metadata": {
    "id": "4N7zSK7GpRm5"
   },
   "source": [
    "As shown in the plot, the best number of k picked by GridSearchCV is **5**. <br>\n",
    "The test MSE asscociated with it is **120.06**. Even though this might still seem a bit high, we decreased the test MSE by 37.14, which is about **24%** better than our previous model. <br>\n",
    "To further improve our model, we think that PCA and polynomial features might help us. In EDA we looked at different features and some of them seem quite similar. Additionally, quite a few features exhibit quardratic relationship to the track popularity. Therefore we will be taking these steps next."
   ]
  },
  {
   "cell_type": "markdown",
   "metadata": {
    "id": "8xG5THlMQjGi"
   },
   "source": [
    "### XGBoost"
   ]
  },
  {
   "cell_type": "code",
   "execution_count": 21,
   "metadata": {
    "id": "aEz8SOof89DG"
   },
   "outputs": [],
   "source": [
    "from sklearn.ensemble import GradientBoostingRegressor\n",
    "reg_xgb = GradientBoostingRegressor(verbose=3,n_estimators= 400,max_depth=None)"
   ]
  },
  {
   "cell_type": "code",
   "execution_count": 23,
   "metadata": {
    "colab": {
     "base_uri": "https://localhost:8080/"
    },
    "id": "8XG3cLaZQmhy",
    "outputId": "1e10f797-4a7f-41ab-9a81-bacfcbc4b9da"
   },
   "outputs": [
    {
     "name": "stdout",
     "output_type": "stream",
     "text": [
      "      Iter       Train Loss   Remaining Time \n",
      "         1         273.8407          111.00m\n",
      "         2         221.8110           96.28m\n",
      "         3         179.6669           90.40m\n",
      "         4         145.5302           87.30m\n",
      "         5         117.8794           85.46m\n",
      "         6          95.4823           83.97m\n",
      "         7          77.3407           82.96m\n",
      "         8          62.6460           82.39m\n",
      "         9          50.7432           82.35m\n",
      "        10          41.1020           82.10m\n",
      "        11          33.2926           81.32m\n",
      "        12          26.9670           80.34m\n",
      "        13          21.8433           79.58m\n",
      "        14          17.6931           79.00m\n",
      "        15          14.3314           78.60m\n",
      "        16          11.6084           78.12m\n",
      "        17           9.4028           77.50m\n",
      "        18           7.6163           77.28m\n",
      "        19           6.1692           76.95m\n",
      "        20           4.9970           76.38m\n",
      "        21           4.0476           76.05m\n",
      "        22           3.2786           75.56m\n",
      "        23           2.6556           75.09m\n",
      "        24           2.1511           74.70m\n",
      "        25           1.7424           74.39m\n",
      "        26           1.4113           73.89m\n",
      "        27           1.1432           73.42m\n",
      "        28           0.9260           73.00m\n",
      "        29           0.7500           72.76m\n",
      "        30           0.6075           72.45m\n",
      "        31           0.4921           72.11m\n",
      "        32           0.3986           71.82m\n",
      "        33           0.3229           71.71m\n",
      "        34           0.2615           71.51m\n",
      "        35           0.2118           71.26m\n",
      "        36           0.1716           71.06m\n",
      "        37           0.1390           70.92m\n",
      "        38           0.1126           70.77m\n",
      "        39           0.0912           70.70m\n",
      "        40           0.0739           70.72m\n",
      "        41           0.0598           70.49m\n",
      "        42           0.0485           70.18m\n",
      "        43           0.0393           69.86m\n",
      "        44           0.0318           69.56m\n",
      "        45           0.0258           69.39m\n",
      "        46           0.0209           69.18m\n",
      "        47           0.0169           68.93m\n",
      "        48           0.0137           68.64m\n",
      "        49           0.0111           68.46m\n",
      "        50           0.0090           68.21m\n",
      "        51           0.0073           67.98m\n",
      "        52           0.0059           67.69m\n",
      "        53           0.0048           67.47m\n",
      "        54           0.0039           67.22m\n",
      "        55           0.0031           67.00m\n",
      "        56           0.0025           66.73m\n",
      "        57           0.0021           66.51m\n",
      "        58           0.0017           66.29m\n",
      "        59           0.0013           66.05m\n",
      "        60           0.0011           65.78m\n",
      "        61           0.0009           65.52m\n",
      "        62           0.0007           65.32m\n",
      "        63           0.0006           65.08m\n",
      "        64           0.0005           64.88m\n",
      "        65           0.0004           64.65m\n",
      "        66           0.0003           64.53m\n",
      "        67           0.0002           64.35m\n",
      "        68           0.0002           64.16m\n",
      "        69           0.0002           63.93m\n",
      "        70           0.0001           63.73m\n",
      "        71           0.0001           63.53m\n",
      "        72           0.0001           63.32m\n",
      "        73           0.0001           63.08m\n",
      "        74           0.0001           62.88m\n",
      "        75           0.0000           62.67m\n",
      "        76           0.0000           62.49m\n",
      "        77           0.0000           62.29m\n",
      "        78           0.0000           62.16m\n",
      "        79           0.0000           62.01m\n",
      "        80           0.0000           61.84m\n",
      "        81           0.0000           61.66m\n",
      "        82           0.0000           61.47m\n",
      "        83           0.0000           61.28m\n",
      "        84           0.0000           61.07m\n",
      "        85           0.0000           60.84m\n",
      "        86           0.0000           60.66m\n",
      "        87           0.0000           60.46m\n",
      "        88           0.0000           60.25m\n",
      "        89           0.0000           60.02m\n",
      "        90           0.0000           59.83m\n",
      "        91           0.0000           59.64m\n",
      "        92           0.0000           59.48m\n",
      "        93           0.0000           59.27m\n",
      "        94           0.0000           59.11m\n",
      "        95           0.0000           58.99m\n",
      "        96           0.0000           58.83m\n",
      "        97           0.0000           58.67m\n",
      "        98           0.0000           58.50m\n",
      "        99           0.0000           58.38m\n",
      "       100           0.0000           58.26m\n",
      "       101           0.0000           58.12m\n",
      "       102           0.0000           57.98m\n",
      "       103           0.0000           57.78m\n",
      "       104           0.0000           57.57m\n",
      "       105           0.0000           57.40m\n",
      "       106           0.0000           57.22m\n",
      "       107           0.0000           57.04m\n",
      "       108           0.0000           56.84m\n",
      "       109           0.0000           56.66m\n",
      "       110           0.0000           56.47m\n",
      "       111           0.0000           56.29m\n",
      "       112           0.0000           56.08m\n",
      "       113           0.0000           55.89m\n",
      "       114           0.0000           55.69m\n",
      "       115           0.0000           55.50m\n",
      "       116           0.0000           55.31m\n",
      "       117           0.0000           55.11m\n",
      "       118           0.0000           54.92m\n",
      "       119           0.0000           54.72m\n",
      "       120           0.0000           54.50m\n",
      "       121           0.0000           54.29m\n",
      "       122           0.0000           54.10m\n",
      "       123           0.0000           53.90m\n",
      "       124           0.0000           53.69m\n",
      "       125           0.0000           53.47m\n",
      "       126           0.0000           53.25m\n",
      "       127           0.0000           53.05m\n",
      "       128           0.0000           52.85m\n",
      "       129           0.0000           52.67m\n",
      "       130           0.0000           52.48m\n",
      "       131           0.0000           52.29m\n",
      "       132           0.0000           52.08m\n",
      "       133           0.0000           51.89m\n",
      "       134           0.0000           51.68m\n",
      "       135           0.0000           51.47m\n",
      "       136           0.0000           51.26m\n",
      "       137           0.0000           51.06m\n",
      "       138           0.0000           50.87m\n",
      "       139           0.0000           50.66m\n",
      "       140           0.0000           50.45m\n",
      "       141           0.0000           50.25m\n",
      "       142           0.0000           50.08m\n",
      "       143           0.0000           49.88m\n",
      "       144           0.0000           49.67m\n",
      "       145           0.0000           49.46m\n",
      "       146           0.0000           49.27m\n",
      "       147           0.0000           49.07m\n",
      "       148           0.0000           48.87m\n",
      "       149           0.0000           48.66m\n",
      "       150           0.0000           48.47m\n",
      "       151           0.0000           48.27m\n",
      "       152           0.0000           48.07m\n",
      "       153           0.0000           47.86m\n",
      "       154           0.0000           47.66m\n",
      "       155           0.0000           47.46m\n",
      "       156           0.0000           47.26m\n",
      "       157           0.0000           47.06m\n",
      "       158           0.0000           46.86m\n",
      "       159           0.0000           46.67m\n",
      "       160           0.0000           46.47m\n",
      "       161           0.0000           46.26m\n",
      "       162           0.0000           46.05m\n",
      "       163           0.0000           45.85m\n",
      "       164           0.0000           45.66m\n",
      "       165           0.0000           45.47m\n",
      "       166           0.0000           45.26m\n",
      "       167           0.0000           45.04m\n",
      "       168           0.0000           44.84m\n",
      "       169           0.0000           44.66m\n",
      "       170           0.0000           44.47m\n",
      "       171           0.0000           44.28m\n",
      "       172           0.0000           44.08m\n",
      "       173           0.0000           43.89m\n",
      "       174           0.0000           43.68m\n",
      "       175           0.0000           43.49m\n",
      "       176           0.0000           43.27m\n",
      "       177           0.0000           43.05m\n",
      "       178           0.0000           42.84m\n",
      "       179           0.0000           42.62m\n",
      "       180           0.0000           42.41m\n",
      "       181           0.0000           42.19m\n",
      "       182           0.0000           41.96m\n",
      "       183           0.0000           41.73m\n",
      "       184           0.0000           41.52m\n",
      "       185           0.0000           41.29m\n",
      "       186           0.0000           41.07m\n",
      "       187           0.0000           40.83m\n",
      "       188           0.0000           40.61m\n",
      "       189           0.0000           40.38m\n",
      "       190           0.0000           40.15m\n",
      "       191           0.0000           39.93m\n",
      "       192           0.0000           39.70m\n",
      "       193           0.0000           39.48m\n",
      "       194           0.0000           39.25m\n",
      "       195           0.0000           39.02m\n",
      "       196           0.0000           38.79m\n",
      "       197           0.0000           38.55m\n",
      "       198           0.0000           38.33m\n",
      "       199           0.0000           38.08m\n",
      "       200           0.0000           37.82m\n",
      "       201           0.0000           37.55m\n",
      "       202           0.0000           37.28m\n",
      "       203           0.0000           37.01m\n",
      "       204           0.0000           36.73m\n",
      "       205           0.0000           36.45m\n",
      "       206           0.0000           36.16m\n",
      "       207           0.0000           35.86m\n",
      "       208           0.0000           35.57m\n",
      "       209           0.0000           35.27m\n",
      "       210           0.0000           34.97m\n",
      "       211           0.0000           34.67m\n",
      "       212           0.0000           34.36m\n",
      "       213           0.0000           34.07m\n",
      "       214           0.0000           33.76m\n",
      "       215           0.0000           33.45m\n",
      "       216           0.0000           33.14m\n",
      "       217           0.0000           32.83m\n",
      "       218           0.0000           32.51m\n",
      "       219           0.0000           32.20m\n",
      "       220           0.0000           31.88m\n",
      "       221           0.0000           31.58m\n",
      "       222           0.0000           31.26m\n",
      "       223           0.0000           30.95m\n",
      "       224           0.0000           30.64m\n",
      "       225           0.0000           30.33m\n",
      "       226           0.0000           30.02m\n",
      "       227           0.0000           29.72m\n",
      "       228           0.0000           29.42m\n",
      "       229           0.0000           29.12m\n",
      "       230           0.0000           28.82m\n",
      "       231           0.0000           28.53m\n",
      "       232           0.0000           28.24m\n",
      "       233           0.0000           27.95m\n",
      "       234           0.0000           27.66m\n",
      "       235           0.0000           27.38m\n",
      "       236           0.0000           27.10m\n",
      "       237           0.0000           26.82m\n",
      "       238           0.0000           26.54m\n",
      "       239           0.0000           26.27m\n",
      "       240           0.0000           26.00m\n",
      "       241           0.0000           25.73m\n",
      "       242           0.0000           25.46m\n",
      "       243           0.0000           25.20m\n",
      "       244           0.0000           24.93m\n",
      "       245           0.0000           24.67m\n",
      "       246           0.0000           24.41m\n",
      "       247           0.0000           24.16m\n",
      "       248           0.0000           23.90m\n",
      "       249           0.0000           23.65m\n",
      "       250           0.0000           23.40m\n",
      "       251           0.0000           23.15m\n",
      "       252           0.0000           22.90m\n",
      "       253           0.0000           22.66m\n",
      "       254           0.0000           22.42m\n",
      "       255           0.0000           22.18m\n",
      "       256           0.0000           21.94m\n",
      "       257           0.0000           21.70m\n",
      "       258           0.0000           21.47m\n",
      "       259           0.0000           21.23m\n",
      "       260           0.0000           21.00m\n",
      "       261           0.0000           20.77m\n",
      "       262           0.0000           20.54m\n",
      "       263           0.0000           20.32m\n",
      "       264           0.0000           20.09m\n",
      "       265           0.0000           19.87m\n",
      "       266           0.0000           19.65m\n",
      "       267           0.0000           19.43m\n",
      "       268           0.0000           19.21m\n",
      "       269           0.0000           18.99m\n",
      "       270           0.0000           18.78m\n",
      "       271           0.0000           18.57m\n",
      "       272           0.0000           18.35m\n",
      "       273           0.0000           18.14m\n",
      "       274           0.0000           17.94m\n",
      "       275           0.0000           17.73m\n",
      "       276           0.0000           17.52m\n",
      "       277           0.0000           17.32m\n",
      "       278           0.0000           17.12m\n",
      "       279           0.0000           16.92m\n",
      "       280           0.0000           16.72m\n",
      "       281           0.0000           16.52m\n",
      "       282           0.0000           16.32m\n",
      "       283           0.0000           16.13m\n",
      "       284           0.0000           15.93m\n",
      "       285           0.0000           15.74m\n",
      "       286           0.0000           15.55m\n",
      "       287           0.0000           15.36m\n",
      "       288           0.0000           15.17m\n",
      "       289           0.0000           14.98m\n",
      "       290           0.0000           14.80m\n",
      "       291           0.0000           14.61m\n",
      "       292           0.0000           14.43m\n",
      "       293           0.0000           14.25m\n",
      "       294           0.0000           14.06m\n",
      "       295           0.0000           13.88m\n",
      "       296           0.0000           13.71m\n",
      "       297           0.0000           13.53m\n",
      "       298           0.0000           13.35m\n",
      "       299           0.0000           13.18m\n",
      "       300           0.0000           13.00m\n",
      "       301           0.0000           12.83m\n",
      "       302           0.0000           12.66m\n",
      "       303           0.0000           12.49m\n",
      "       304           0.0000           12.32m\n",
      "       305           0.0000           12.15m\n",
      "       306           0.0000           11.98m\n",
      "       307           0.0000           11.82m\n",
      "       308           0.0000           11.65m\n",
      "       309           0.0000           11.49m\n",
      "       310           0.0000           11.33m\n",
      "       311           0.0000           11.16m\n",
      "       312           0.0000           11.00m\n",
      "       313           0.0000           10.84m\n",
      "       314           0.0000           10.69m\n",
      "       315           0.0000           10.53m\n",
      "       316           0.0000           10.37m\n",
      "       317           0.0000           10.22m\n",
      "       318           0.0000           10.06m\n",
      "       319           0.0000            9.91m\n",
      "       320           0.0000            9.75m\n",
      "       321           0.0000            9.60m\n",
      "       322           0.0000            9.45m\n",
      "       323           0.0000            9.30m\n",
      "       324           0.0000            9.15m\n",
      "       325           0.0000            9.00m\n",
      "       326           0.0000            8.86m\n",
      "       327           0.0000            8.71m\n",
      "       328           0.0000            8.56m\n",
      "       329           0.0000            8.42m\n",
      "       330           0.0000            8.28m\n",
      "       331           0.0000            8.13m\n",
      "       332           0.0000            7.99m\n",
      "       333           0.0000            7.85m\n",
      "       334           0.0000            7.71m\n",
      "       335           0.0000            7.57m\n",
      "       336           0.0000            7.43m\n",
      "       337           0.0000            7.29m\n",
      "       338           0.0000            7.16m\n",
      "       339           0.0000            7.02m\n",
      "       340           0.0000            6.89m\n",
      "       341           0.0000            6.75m\n",
      "       342           0.0000            6.62m\n",
      "       343           0.0000            6.48m\n",
      "       344           0.0000            6.35m\n",
      "       345           0.0000            6.22m\n",
      "       346           0.0000            6.09m\n",
      "       347           0.0000            5.96m\n",
      "       348           0.0000            5.83m\n",
      "       349           0.0000            5.70m\n",
      "       350           0.0000            5.57m\n",
      "       351           0.0000            5.45m\n",
      "       352           0.0000            5.32m\n",
      "       353           0.0000            5.20m\n",
      "       354           0.0000            5.07m\n",
      "       355           0.0000            4.95m\n",
      "       356           0.0000            4.82m\n",
      "       357           0.0000            4.70m\n",
      "       358           0.0000            4.58m\n",
      "       359           0.0000            4.46m\n",
      "       360           0.0000            4.34m\n",
      "       361           0.0000            4.22m\n",
      "       362           0.0000            4.10m\n",
      "       363           0.0000            3.98m\n",
      "       364           0.0000            3.86m\n",
      "       365           0.0000            3.74m\n",
      "       366           0.0000            3.63m\n",
      "       367           0.0000            3.51m\n",
      "       368           0.0000            3.39m\n",
      "       369           0.0000            3.28m\n",
      "       370           0.0000            3.16m\n",
      "       371           0.0000            3.05m\n",
      "       372           0.0000            2.94m\n",
      "       373           0.0000            2.83m\n",
      "       374           0.0000            2.71m\n",
      "       375           0.0000            2.60m\n",
      "       376           0.0000            2.49m\n",
      "       377           0.0000            2.38m\n",
      "       378           0.0000            2.27m\n",
      "       379           0.0000            2.16m\n",
      "       380           0.0000            2.05m\n",
      "       381           0.0000            1.95m\n",
      "       382           0.0000            1.84m\n",
      "       383           0.0000            1.73m\n",
      "       384           0.0000            1.63m\n",
      "       385           0.0000            1.52m\n",
      "       386           0.0000            1.42m\n",
      "       387           0.0000            1.31m\n",
      "       388           0.0000            1.21m\n",
      "       389           0.0000            1.10m\n",
      "       390           0.0000            1.00m\n",
      "       391           0.0000           53.90s\n",
      "       392           0.0000           47.79s\n",
      "       393           0.0000           41.71s\n",
      "       394           0.0000           35.66s\n",
      "       395           0.0000           29.64s\n",
      "       396           0.0000           23.66s\n",
      "       397           0.0000           17.70s\n",
      "       398           0.0000           11.77s\n",
      "       399           0.0000            5.87s\n",
      "       400           0.0000            0.00s\n",
      "Test MSE for Random Forest Model: 83.5206\n",
      "Test R2 for Random Forest Model: 0.7515\n"
     ]
    }
   ],
   "source": [
    "y_pred = reg_xgb.fit(X_train,y_train).predict(X_test)\n",
    "r = r2_score(y_test,y_pred)\n",
    "mse = mean_squared_error(y_test, y_pred)\n",
    "print(\"Test MSE for Random Forest Model: {:.4f}\".format(mse))\n",
    "print(\"Test R2 for Random Forest Model: {:.4f}\".format(r))     "
   ]
  },
  {
   "cell_type": "code",
   "execution_count": 24,
   "metadata": {
    "colab": {
     "base_uri": "https://localhost:8080/"
    },
    "id": "l9OLFJe9HFf5",
    "outputId": "097312b1-dcec-49da-c2c8-19714afdb510"
   },
   "outputs": [
    {
     "name": "stdout",
     "output_type": "stream",
     "text": [
      "Test MSE for XGBoost Model: 83.5206\n",
      "Test R2 for XGBoost Model: 0.7515\n"
     ]
    }
   ],
   "source": [
    "print(\"Test MSE for XGBoost Model: {:.4f}\".format(mse))\n",
    "print(\"Test R2 for XGBoost Model: {:.4f}\".format(r)) "
   ]
  },
  {
   "cell_type": "markdown",
   "metadata": {
    "id": "CEe0DznxG0LA"
   },
   "source": [
    "Due to the long runtime of XGBoost, we were't able to perform grid search. However, the results out of this model are pretty promising with a 83 MSE and 0.75 R2 score. "
   ]
  },
  {
   "cell_type": "markdown",
   "metadata": {
    "id": "0J7bGgEaWytP"
   },
   "source": [
    "### Random Forest Regressor"
   ]
  },
  {
   "cell_type": "code",
   "execution_count": 7,
   "metadata": {
    "id": "u_qdwl7DrDqF"
   },
   "outputs": [],
   "source": [
    "X_train=X_train.select_dtypes(include=np.number)\n",
    "X_test=X_test.select_dtypes(include=np.number)"
   ]
  },
  {
   "cell_type": "code",
   "execution_count": 10,
   "metadata": {
    "id": "MoCOjo25ReXn"
   },
   "outputs": [],
   "source": [
    "from sklearn.ensemble import RandomForestRegressor\n",
    "#building a random forest regressor\n",
    "regressor_rf = RandomForestRegressor(verbose=3,n_jobs=-1)\n",
    "\n",
    "#Create a parameter grid for grid search\n",
    "param_grids = { \n",
    "    'n_estimators': [10,50,200],    \n",
    "    'max_depth' : [None,5,10]    \n",
    "}\n",
    "\n",
    "#Getting the best hyperparameter\n",
    "reg_rf = GridSearchCV(estimator=regressor_rf, param_grid=param_grids, cv=5, scoring='neg_mean_squared_error',\n",
    "                    verbose=10,\n",
    "                    return_train_score=True,\n",
    "                    n_jobs=-1\n",
    "                   )"
   ]
  },
  {
   "cell_type": "code",
   "execution_count": 11,
   "metadata": {
    "colab": {
     "base_uri": "https://localhost:8080/"
    },
    "id": "RCaI3CJQTOb3",
    "outputId": "ee321420-f674-43d5-f5f7-3cee03b23cc0"
   },
   "outputs": [
    {
     "name": "stdout",
     "output_type": "stream",
     "text": [
      "Fitting 5 folds for each of 9 candidates, totalling 45 fits\n",
      "[CV 1/5; 1/9] START max_depth=None, n_estimators=10.............................\n"
     ]
    },
    {
     "name": "stderr",
     "output_type": "stream",
     "text": [
      "[Parallel(n_jobs=-1)]: Using backend LokyBackend with 2 concurrent workers.\n",
      "[Parallel(n_jobs=-1)]: Done  10 out of  10 | elapsed:   40.2s finished\n",
      "[Parallel(n_jobs=2)]: Using backend ThreadingBackend with 2 concurrent workers.\n",
      "[Parallel(n_jobs=2)]: Done  10 out of  10 | elapsed:    0.2s finished\n",
      "[Parallel(n_jobs=2)]: Using backend ThreadingBackend with 2 concurrent workers.\n",
      "[Parallel(n_jobs=2)]: Done  10 out of  10 | elapsed:    0.9s finished\n",
      "[Parallel(n_jobs=-1)]: Using backend LokyBackend with 2 concurrent workers.\n"
     ]
    },
    {
     "name": "stdout",
     "output_type": "stream",
     "text": [
      "[CV 1/5; 1/9] END max_depth=None, n_estimators=10;, score=(train=-9.823, test=-53.466) total time=  40.7s\n",
      "[CV 2/5; 1/9] START max_depth=None, n_estimators=10.............................\n"
     ]
    },
    {
     "name": "stderr",
     "output_type": "stream",
     "text": [
      "[Parallel(n_jobs=-1)]: Done  10 out of  10 | elapsed:   36.7s finished\n",
      "[Parallel(n_jobs=2)]: Using backend ThreadingBackend with 2 concurrent workers.\n",
      "[Parallel(n_jobs=2)]: Done  10 out of  10 | elapsed:    0.2s finished\n",
      "[Parallel(n_jobs=2)]: Using backend ThreadingBackend with 2 concurrent workers.\n",
      "[Parallel(n_jobs=2)]: Done  10 out of  10 | elapsed:    0.9s finished\n",
      "[Parallel(n_jobs=-1)]: Using backend LokyBackend with 2 concurrent workers.\n"
     ]
    },
    {
     "name": "stdout",
     "output_type": "stream",
     "text": [
      "[CV 2/5; 1/9] END max_depth=None, n_estimators=10;, score=(train=-9.874, test=-53.274) total time=  37.1s\n",
      "[CV 3/5; 1/9] START max_depth=None, n_estimators=10.............................\n"
     ]
    },
    {
     "name": "stderr",
     "output_type": "stream",
     "text": [
      "[Parallel(n_jobs=-1)]: Done  10 out of  10 | elapsed:   41.4s finished\n",
      "[Parallel(n_jobs=2)]: Using backend ThreadingBackend with 2 concurrent workers.\n",
      "[Parallel(n_jobs=2)]: Done  10 out of  10 | elapsed:    0.2s finished\n",
      "[Parallel(n_jobs=2)]: Using backend ThreadingBackend with 2 concurrent workers.\n",
      "[Parallel(n_jobs=2)]: Done  10 out of  10 | elapsed:    0.9s finished\n",
      "[Parallel(n_jobs=-1)]: Using backend LokyBackend with 2 concurrent workers.\n"
     ]
    },
    {
     "name": "stdout",
     "output_type": "stream",
     "text": [
      "[CV 3/5; 1/9] END max_depth=None, n_estimators=10;, score=(train=-9.771, test=-53.855) total time=  41.8s\n",
      "[CV 4/5; 1/9] START max_depth=None, n_estimators=10.............................\n"
     ]
    },
    {
     "name": "stderr",
     "output_type": "stream",
     "text": [
      "[Parallel(n_jobs=-1)]: Done  10 out of  10 | elapsed:   36.8s finished\n",
      "[Parallel(n_jobs=2)]: Using backend ThreadingBackend with 2 concurrent workers.\n",
      "[Parallel(n_jobs=2)]: Done  10 out of  10 | elapsed:    0.2s finished\n",
      "[Parallel(n_jobs=2)]: Using backend ThreadingBackend with 2 concurrent workers.\n",
      "[Parallel(n_jobs=2)]: Done  10 out of  10 | elapsed:    0.9s finished\n",
      "[Parallel(n_jobs=-1)]: Using backend LokyBackend with 2 concurrent workers.\n"
     ]
    },
    {
     "name": "stdout",
     "output_type": "stream",
     "text": [
      "[CV 4/5; 1/9] END max_depth=None, n_estimators=10;, score=(train=-9.912, test=-53.835) total time=  37.3s\n",
      "[CV 5/5; 1/9] START max_depth=None, n_estimators=10.............................\n"
     ]
    },
    {
     "name": "stderr",
     "output_type": "stream",
     "text": [
      "[Parallel(n_jobs=-1)]: Done  10 out of  10 | elapsed:   36.8s finished\n",
      "[Parallel(n_jobs=2)]: Using backend ThreadingBackend with 2 concurrent workers.\n",
      "[Parallel(n_jobs=2)]: Done  10 out of  10 | elapsed:    0.2s finished\n",
      "[Parallel(n_jobs=2)]: Using backend ThreadingBackend with 2 concurrent workers.\n",
      "[Parallel(n_jobs=2)]: Done  10 out of  10 | elapsed:    0.9s finished\n",
      "[Parallel(n_jobs=-1)]: Using backend LokyBackend with 2 concurrent workers.\n"
     ]
    },
    {
     "name": "stdout",
     "output_type": "stream",
     "text": [
      "[CV 5/5; 1/9] END max_depth=None, n_estimators=10;, score=(train=-9.835, test=-53.868) total time=  37.2s\n",
      "[CV 1/5; 2/9] START max_depth=None, n_estimators=50.............................\n"
     ]
    },
    {
     "name": "stderr",
     "output_type": "stream",
     "text": [
      "[Parallel(n_jobs=-1)]: Done  28 tasks      | elapsed:  1.7min\n",
      "[Parallel(n_jobs=-1)]: Done  50 out of  50 | elapsed:  3.1min finished\n",
      "[Parallel(n_jobs=2)]: Using backend ThreadingBackend with 2 concurrent workers.\n",
      "[Parallel(n_jobs=2)]: Done  28 tasks      | elapsed:    0.7s\n",
      "[Parallel(n_jobs=2)]: Done  50 out of  50 | elapsed:    1.2s finished\n",
      "[Parallel(n_jobs=2)]: Using backend ThreadingBackend with 2 concurrent workers.\n",
      "[Parallel(n_jobs=2)]: Done  28 tasks      | elapsed:    2.4s\n",
      "[Parallel(n_jobs=2)]: Done  50 out of  50 | elapsed:    4.3s finished\n",
      "[Parallel(n_jobs=-1)]: Using backend LokyBackend with 2 concurrent workers.\n"
     ]
    },
    {
     "name": "stdout",
     "output_type": "stream",
     "text": [
      "[CV 1/5; 2/9] END max_depth=None, n_estimators=50;, score=(train=-7.115, test=-48.601) total time= 3.2min\n",
      "[CV 2/5; 2/9] START max_depth=None, n_estimators=50.............................\n"
     ]
    },
    {
     "name": "stderr",
     "output_type": "stream",
     "text": [
      "[Parallel(n_jobs=-1)]: Done  28 tasks      | elapsed:  1.7min\n",
      "[Parallel(n_jobs=-1)]: Done  50 out of  50 | elapsed:  3.1min finished\n",
      "[Parallel(n_jobs=2)]: Using backend ThreadingBackend with 2 concurrent workers.\n",
      "[Parallel(n_jobs=2)]: Done  28 tasks      | elapsed:    0.7s\n",
      "[Parallel(n_jobs=2)]: Done  50 out of  50 | elapsed:    1.2s finished\n",
      "[Parallel(n_jobs=2)]: Using backend ThreadingBackend with 2 concurrent workers.\n",
      "[Parallel(n_jobs=2)]: Done  28 tasks      | elapsed:    2.5s\n",
      "[Parallel(n_jobs=2)]: Done  50 out of  50 | elapsed:    4.5s finished\n",
      "[Parallel(n_jobs=-1)]: Using backend LokyBackend with 2 concurrent workers.\n"
     ]
    },
    {
     "name": "stdout",
     "output_type": "stream",
     "text": [
      "[CV 2/5; 2/9] END max_depth=None, n_estimators=50;, score=(train=-7.162, test=-48.879) total time= 3.1min\n",
      "[CV 3/5; 2/9] START max_depth=None, n_estimators=50.............................\n"
     ]
    },
    {
     "name": "stderr",
     "output_type": "stream",
     "text": [
      "[Parallel(n_jobs=-1)]: Done  28 tasks      | elapsed:  1.7min\n",
      "[Parallel(n_jobs=-1)]: Done  50 out of  50 | elapsed:  3.1min finished\n",
      "[Parallel(n_jobs=2)]: Using backend ThreadingBackend with 2 concurrent workers.\n",
      "[Parallel(n_jobs=2)]: Done  28 tasks      | elapsed:    0.6s\n",
      "[Parallel(n_jobs=2)]: Done  50 out of  50 | elapsed:    1.3s finished\n",
      "[Parallel(n_jobs=2)]: Using backend ThreadingBackend with 2 concurrent workers.\n",
      "[Parallel(n_jobs=2)]: Done  28 tasks      | elapsed:    2.3s\n",
      "[Parallel(n_jobs=2)]: Done  50 out of  50 | elapsed:    4.2s finished\n",
      "[Parallel(n_jobs=-1)]: Using backend LokyBackend with 2 concurrent workers.\n"
     ]
    },
    {
     "name": "stdout",
     "output_type": "stream",
     "text": [
      "[CV 3/5; 2/9] END max_depth=None, n_estimators=50;, score=(train=-7.109, test=-48.818) total time= 3.1min\n",
      "[CV 4/5; 2/9] START max_depth=None, n_estimators=50.............................\n"
     ]
    },
    {
     "name": "stderr",
     "output_type": "stream",
     "text": [
      "[Parallel(n_jobs=-1)]: Done  28 tasks      | elapsed:  1.7min\n",
      "[Parallel(n_jobs=-1)]: Done  50 out of  50 | elapsed:  3.1min finished\n",
      "[Parallel(n_jobs=2)]: Using backend ThreadingBackend with 2 concurrent workers.\n",
      "[Parallel(n_jobs=2)]: Done  28 tasks      | elapsed:    0.7s\n",
      "[Parallel(n_jobs=2)]: Done  50 out of  50 | elapsed:    1.2s finished\n",
      "[Parallel(n_jobs=2)]: Using backend ThreadingBackend with 2 concurrent workers.\n",
      "[Parallel(n_jobs=2)]: Done  28 tasks      | elapsed:    2.3s\n",
      "[Parallel(n_jobs=2)]: Done  50 out of  50 | elapsed:    4.2s finished\n",
      "[Parallel(n_jobs=-1)]: Using backend LokyBackend with 2 concurrent workers.\n"
     ]
    },
    {
     "name": "stdout",
     "output_type": "stream",
     "text": [
      "[CV 4/5; 2/9] END max_depth=None, n_estimators=50;, score=(train=-7.170, test=-49.227) total time= 3.1min\n",
      "[CV 5/5; 2/9] START max_depth=None, n_estimators=50.............................\n"
     ]
    },
    {
     "name": "stderr",
     "output_type": "stream",
     "text": [
      "[Parallel(n_jobs=-1)]: Done  28 tasks      | elapsed:  1.7min\n",
      "[Parallel(n_jobs=-1)]: Done  50 out of  50 | elapsed:  3.1min finished\n",
      "[Parallel(n_jobs=2)]: Using backend ThreadingBackend with 2 concurrent workers.\n",
      "[Parallel(n_jobs=2)]: Done  28 tasks      | elapsed:    0.7s\n",
      "[Parallel(n_jobs=2)]: Done  50 out of  50 | elapsed:    1.2s finished\n",
      "[Parallel(n_jobs=2)]: Using backend ThreadingBackend with 2 concurrent workers.\n",
      "[Parallel(n_jobs=2)]: Done  28 tasks      | elapsed:    2.4s\n",
      "[Parallel(n_jobs=2)]: Done  50 out of  50 | elapsed:    4.4s finished\n",
      "[Parallel(n_jobs=-1)]: Using backend LokyBackend with 2 concurrent workers.\n"
     ]
    },
    {
     "name": "stdout",
     "output_type": "stream",
     "text": [
      "[CV 5/5; 2/9] END max_depth=None, n_estimators=50;, score=(train=-7.104, test=-48.810) total time= 3.1min\n",
      "[CV 1/5; 3/9] START max_depth=None, n_estimators=200............................\n"
     ]
    },
    {
     "name": "stderr",
     "output_type": "stream",
     "text": [
      "[Parallel(n_jobs=-1)]: Done  28 tasks      | elapsed:  1.7min\n",
      "[Parallel(n_jobs=-1)]: Done 124 tasks      | elapsed:  7.6min\n",
      "[Parallel(n_jobs=-1)]: Done 200 out of 200 | elapsed: 12.2min finished\n",
      "[Parallel(n_jobs=2)]: Using backend ThreadingBackend with 2 concurrent workers.\n",
      "[Parallel(n_jobs=2)]: Done  28 tasks      | elapsed:    0.7s\n",
      "[Parallel(n_jobs=2)]: Done 124 tasks      | elapsed:    2.9s\n",
      "[Parallel(n_jobs=2)]: Done 200 out of 200 | elapsed:    4.6s finished\n",
      "[Parallel(n_jobs=2)]: Using backend ThreadingBackend with 2 concurrent workers.\n",
      "[Parallel(n_jobs=2)]: Done  28 tasks      | elapsed:    2.4s\n",
      "[Parallel(n_jobs=2)]: Done 124 tasks      | elapsed:   10.9s\n",
      "[Parallel(n_jobs=2)]: Done 200 out of 200 | elapsed:   17.4s finished\n"
     ]
    },
    {
     "name": "stdout",
     "output_type": "stream",
     "text": [
      "[CV 1/5; 3/9] END max_depth=None, n_estimators=200;, score=(train=-6.618, test=-47.755) total time=12.3min\n",
      "[CV 2/5; 3/9] START max_depth=None, n_estimators=200............................\n"
     ]
    },
    {
     "name": "stderr",
     "output_type": "stream",
     "text": [
      "[Parallel(n_jobs=-1)]: Using backend LokyBackend with 2 concurrent workers.\n",
      "[Parallel(n_jobs=-1)]: Done  28 tasks      | elapsed:  1.7min\n",
      "[Parallel(n_jobs=-1)]: Done 124 tasks      | elapsed:  7.6min\n",
      "[Parallel(n_jobs=-1)]: Done 200 out of 200 | elapsed: 12.3min finished\n",
      "[Parallel(n_jobs=2)]: Using backend ThreadingBackend with 2 concurrent workers.\n",
      "[Parallel(n_jobs=2)]: Done  28 tasks      | elapsed:    1.1s\n",
      "[Parallel(n_jobs=2)]: Done 124 tasks      | elapsed:    3.7s\n",
      "[Parallel(n_jobs=2)]: Done 200 out of 200 | elapsed:    5.5s finished\n",
      "[Parallel(n_jobs=2)]: Using backend ThreadingBackend with 2 concurrent workers.\n",
      "[Parallel(n_jobs=2)]: Done  28 tasks      | elapsed:    2.4s\n",
      "[Parallel(n_jobs=2)]: Done 124 tasks      | elapsed:   10.8s\n",
      "[Parallel(n_jobs=2)]: Done 200 out of 200 | elapsed:   17.5s finished\n",
      "[Parallel(n_jobs=-1)]: Using backend LokyBackend with 2 concurrent workers.\n"
     ]
    },
    {
     "name": "stdout",
     "output_type": "stream",
     "text": [
      "[CV 2/5; 3/9] END max_depth=None, n_estimators=200;, score=(train=-6.634, test=-47.768) total time=12.3min\n",
      "[CV 3/5; 3/9] START max_depth=None, n_estimators=200............................\n"
     ]
    },
    {
     "name": "stderr",
     "output_type": "stream",
     "text": [
      "[Parallel(n_jobs=-1)]: Done  28 tasks      | elapsed:  1.7min\n",
      "[Parallel(n_jobs=-1)]: Done 124 tasks      | elapsed:  7.6min\n",
      "[Parallel(n_jobs=-1)]: Done 200 out of 200 | elapsed: 12.3min finished\n",
      "[Parallel(n_jobs=2)]: Using backend ThreadingBackend with 2 concurrent workers.\n",
      "[Parallel(n_jobs=2)]: Done  28 tasks      | elapsed:    0.6s\n",
      "[Parallel(n_jobs=2)]: Done 124 tasks      | elapsed:    2.8s\n",
      "[Parallel(n_jobs=2)]: Done 200 out of 200 | elapsed:    4.7s finished\n",
      "[Parallel(n_jobs=2)]: Using backend ThreadingBackend with 2 concurrent workers.\n",
      "[Parallel(n_jobs=2)]: Done  28 tasks      | elapsed:    2.4s\n",
      "[Parallel(n_jobs=2)]: Done 124 tasks      | elapsed:   10.7s\n",
      "[Parallel(n_jobs=2)]: Done 200 out of 200 | elapsed:   17.2s finished\n"
     ]
    },
    {
     "name": "stdout",
     "output_type": "stream",
     "text": [
      "[CV 3/5; 3/9] END max_depth=None, n_estimators=200;, score=(train=-6.589, test=-47.705) total time=12.3min\n",
      "[CV 4/5; 3/9] START max_depth=None, n_estimators=200............................\n"
     ]
    },
    {
     "name": "stderr",
     "output_type": "stream",
     "text": [
      "[Parallel(n_jobs=-1)]: Using backend LokyBackend with 2 concurrent workers.\n",
      "[Parallel(n_jobs=-1)]: Done  28 tasks      | elapsed:  1.7min\n",
      "[Parallel(n_jobs=-1)]: Done 124 tasks      | elapsed:  7.6min\n",
      "[Parallel(n_jobs=-1)]: Done 200 out of 200 | elapsed: 12.1min finished\n",
      "[Parallel(n_jobs=2)]: Using backend ThreadingBackend with 2 concurrent workers.\n",
      "[Parallel(n_jobs=2)]: Done  28 tasks      | elapsed:    0.6s\n",
      "[Parallel(n_jobs=2)]: Done 124 tasks      | elapsed:    2.7s\n",
      "[Parallel(n_jobs=2)]: Done 200 out of 200 | elapsed:    4.5s finished\n",
      "[Parallel(n_jobs=2)]: Using backend ThreadingBackend with 2 concurrent workers.\n",
      "[Parallel(n_jobs=2)]: Done  28 tasks      | elapsed:    2.3s\n",
      "[Parallel(n_jobs=2)]: Done 124 tasks      | elapsed:   10.3s\n",
      "[Parallel(n_jobs=2)]: Done 200 out of 200 | elapsed:   16.7s finished\n",
      "[Parallel(n_jobs=-1)]: Using backend LokyBackend with 2 concurrent workers.\n"
     ]
    },
    {
     "name": "stdout",
     "output_type": "stream",
     "text": [
      "[CV 4/5; 3/9] END max_depth=None, n_estimators=200;, score=(train=-6.625, test=-48.221) total time=12.2min\n",
      "[CV 5/5; 3/9] START max_depth=None, n_estimators=200............................\n"
     ]
    },
    {
     "name": "stderr",
     "output_type": "stream",
     "text": [
      "[Parallel(n_jobs=-1)]: Done  28 tasks      | elapsed:  1.7min\n",
      "[Parallel(n_jobs=-1)]: Done 124 tasks      | elapsed:  7.5min\n",
      "[Parallel(n_jobs=-1)]: Done 200 out of 200 | elapsed: 12.1min finished\n",
      "[Parallel(n_jobs=2)]: Using backend ThreadingBackend with 2 concurrent workers.\n",
      "[Parallel(n_jobs=2)]: Done  28 tasks      | elapsed:    0.6s\n",
      "[Parallel(n_jobs=2)]: Done 124 tasks      | elapsed:    2.8s\n",
      "[Parallel(n_jobs=2)]: Done 200 out of 200 | elapsed:    4.5s finished\n",
      "[Parallel(n_jobs=2)]: Using backend ThreadingBackend with 2 concurrent workers.\n",
      "[Parallel(n_jobs=2)]: Done  28 tasks      | elapsed:    2.3s\n",
      "[Parallel(n_jobs=2)]: Done 124 tasks      | elapsed:   10.3s\n",
      "[Parallel(n_jobs=2)]: Done 200 out of 200 | elapsed:   16.5s finished\n",
      "[Parallel(n_jobs=-1)]: Using backend LokyBackend with 2 concurrent workers.\n"
     ]
    },
    {
     "name": "stdout",
     "output_type": "stream",
     "text": [
      "[CV 5/5; 3/9] END max_depth=None, n_estimators=200;, score=(train=-6.603, test=-47.940) total time=12.2min\n",
      "[CV 1/5; 4/9] START max_depth=5, n_estimators=10................................\n"
     ]
    },
    {
     "name": "stderr",
     "output_type": "stream",
     "text": [
      "[Parallel(n_jobs=-1)]: Done  10 out of  10 | elapsed:    8.7s finished\n",
      "[Parallel(n_jobs=2)]: Using backend ThreadingBackend with 2 concurrent workers.\n",
      "[Parallel(n_jobs=2)]: Done  10 out of  10 | elapsed:    0.0s finished\n",
      "[Parallel(n_jobs=2)]: Using backend ThreadingBackend with 2 concurrent workers.\n",
      "[Parallel(n_jobs=2)]: Done  10 out of  10 | elapsed:    0.1s finished\n",
      "[Parallel(n_jobs=-1)]: Using backend LokyBackend with 2 concurrent workers.\n"
     ]
    },
    {
     "name": "stdout",
     "output_type": "stream",
     "text": [
      "[CV 1/5; 4/9] END max_depth=5, n_estimators=10;, score=(train=-121.027, test=-120.372) total time=   8.9s\n",
      "[CV 2/5; 4/9] START max_depth=5, n_estimators=10................................\n"
     ]
    },
    {
     "name": "stderr",
     "output_type": "stream",
     "text": [
      "[Parallel(n_jobs=-1)]: Done  10 out of  10 | elapsed:    8.7s finished\n",
      "[Parallel(n_jobs=2)]: Using backend ThreadingBackend with 2 concurrent workers.\n",
      "[Parallel(n_jobs=2)]: Done  10 out of  10 | elapsed:    0.0s finished\n",
      "[Parallel(n_jobs=2)]: Using backend ThreadingBackend with 2 concurrent workers.\n",
      "[Parallel(n_jobs=2)]: Done  10 out of  10 | elapsed:    0.1s finished\n",
      "[Parallel(n_jobs=-1)]: Using backend LokyBackend with 2 concurrent workers.\n"
     ]
    },
    {
     "name": "stdout",
     "output_type": "stream",
     "text": [
      "[CV 2/5; 4/9] END max_depth=5, n_estimators=10;, score=(train=-121.629, test=-121.380) total time=   8.9s\n",
      "[CV 3/5; 4/9] START max_depth=5, n_estimators=10................................\n"
     ]
    },
    {
     "name": "stderr",
     "output_type": "stream",
     "text": [
      "[Parallel(n_jobs=-1)]: Done  10 out of  10 | elapsed:    8.7s finished\n",
      "[Parallel(n_jobs=2)]: Using backend ThreadingBackend with 2 concurrent workers.\n",
      "[Parallel(n_jobs=2)]: Done  10 out of  10 | elapsed:    0.0s finished\n",
      "[Parallel(n_jobs=2)]: Using backend ThreadingBackend with 2 concurrent workers.\n",
      "[Parallel(n_jobs=2)]: Done  10 out of  10 | elapsed:    0.1s finished\n",
      "[Parallel(n_jobs=-1)]: Using backend LokyBackend with 2 concurrent workers.\n"
     ]
    },
    {
     "name": "stdout",
     "output_type": "stream",
     "text": [
      "[CV 3/5; 4/9] END max_depth=5, n_estimators=10;, score=(train=-121.444, test=-122.505) total time=   9.0s\n",
      "[CV 4/5; 4/9] START max_depth=5, n_estimators=10................................\n"
     ]
    },
    {
     "name": "stderr",
     "output_type": "stream",
     "text": [
      "[Parallel(n_jobs=-1)]: Done  10 out of  10 | elapsed:    8.7s finished\n",
      "[Parallel(n_jobs=2)]: Using backend ThreadingBackend with 2 concurrent workers.\n",
      "[Parallel(n_jobs=2)]: Done  10 out of  10 | elapsed:    0.0s finished\n",
      "[Parallel(n_jobs=2)]: Using backend ThreadingBackend with 2 concurrent workers.\n",
      "[Parallel(n_jobs=2)]: Done  10 out of  10 | elapsed:    0.1s finished\n",
      "[Parallel(n_jobs=-1)]: Using backend LokyBackend with 2 concurrent workers.\n"
     ]
    },
    {
     "name": "stdout",
     "output_type": "stream",
     "text": [
      "[CV 4/5; 4/9] END max_depth=5, n_estimators=10;, score=(train=-122.259, test=-121.473) total time=   8.9s\n",
      "[CV 5/5; 4/9] START max_depth=5, n_estimators=10................................\n"
     ]
    },
    {
     "name": "stderr",
     "output_type": "stream",
     "text": [
      "[Parallel(n_jobs=-1)]: Done  10 out of  10 | elapsed:    8.7s finished\n",
      "[Parallel(n_jobs=2)]: Using backend ThreadingBackend with 2 concurrent workers.\n",
      "[Parallel(n_jobs=2)]: Done  10 out of  10 | elapsed:    0.0s finished\n",
      "[Parallel(n_jobs=2)]: Using backend ThreadingBackend with 2 concurrent workers.\n",
      "[Parallel(n_jobs=2)]: Done  10 out of  10 | elapsed:    0.1s finished\n",
      "[Parallel(n_jobs=-1)]: Using backend LokyBackend with 2 concurrent workers.\n"
     ]
    },
    {
     "name": "stdout",
     "output_type": "stream",
     "text": [
      "[CV 5/5; 4/9] END max_depth=5, n_estimators=10;, score=(train=-121.784, test=-123.094) total time=   8.8s\n",
      "[CV 1/5; 5/9] START max_depth=5, n_estimators=50................................\n"
     ]
    },
    {
     "name": "stderr",
     "output_type": "stream",
     "text": [
      "[Parallel(n_jobs=-1)]: Done  28 tasks      | elapsed:   25.5s\n",
      "[Parallel(n_jobs=-1)]: Done  50 out of  50 | elapsed:   44.6s finished\n",
      "[Parallel(n_jobs=2)]: Using backend ThreadingBackend with 2 concurrent workers.\n",
      "[Parallel(n_jobs=2)]: Done  28 tasks      | elapsed:    0.1s\n",
      "[Parallel(n_jobs=2)]: Done  50 out of  50 | elapsed:    0.1s finished\n",
      "[Parallel(n_jobs=2)]: Using backend ThreadingBackend with 2 concurrent workers.\n",
      "[Parallel(n_jobs=2)]: Done  28 tasks      | elapsed:    0.2s\n",
      "[Parallel(n_jobs=2)]: Done  50 out of  50 | elapsed:    0.4s finished\n"
     ]
    },
    {
     "name": "stdout",
     "output_type": "stream",
     "text": [
      "[CV 1/5; 5/9] END max_depth=5, n_estimators=50;, score=(train=-121.969, test=-121.282) total time=  45.0s\n",
      "[CV 2/5; 5/9] START max_depth=5, n_estimators=50................................\n"
     ]
    },
    {
     "name": "stderr",
     "output_type": "stream",
     "text": [
      "[Parallel(n_jobs=-1)]: Using backend LokyBackend with 2 concurrent workers.\n",
      "[Parallel(n_jobs=-1)]: Done  28 tasks      | elapsed:   24.3s\n",
      "[Parallel(n_jobs=-1)]: Done  50 out of  50 | elapsed:   43.5s finished\n",
      "[Parallel(n_jobs=2)]: Using backend ThreadingBackend with 2 concurrent workers.\n",
      "[Parallel(n_jobs=2)]: Done  28 tasks      | elapsed:    0.1s\n",
      "[Parallel(n_jobs=2)]: Done  50 out of  50 | elapsed:    0.1s finished\n",
      "[Parallel(n_jobs=2)]: Using backend ThreadingBackend with 2 concurrent workers.\n",
      "[Parallel(n_jobs=2)]: Done  28 tasks      | elapsed:    0.2s\n",
      "[Parallel(n_jobs=2)]: Done  50 out of  50 | elapsed:    0.4s finished\n"
     ]
    },
    {
     "name": "stdout",
     "output_type": "stream",
     "text": [
      "[CV 2/5; 5/9] END max_depth=5, n_estimators=50;, score=(train=-121.713, test=-121.483) total time=  43.9s\n",
      "[CV 3/5; 5/9] START max_depth=5, n_estimators=50................................\n"
     ]
    },
    {
     "name": "stderr",
     "output_type": "stream",
     "text": [
      "[Parallel(n_jobs=-1)]: Using backend LokyBackend with 2 concurrent workers.\n",
      "[Parallel(n_jobs=-1)]: Done  28 tasks      | elapsed:   24.4s\n",
      "[Parallel(n_jobs=-1)]: Done  50 out of  50 | elapsed:   43.4s finished\n",
      "[Parallel(n_jobs=2)]: Using backend ThreadingBackend with 2 concurrent workers.\n",
      "[Parallel(n_jobs=2)]: Done  28 tasks      | elapsed:    0.1s\n",
      "[Parallel(n_jobs=2)]: Done  50 out of  50 | elapsed:    0.1s finished\n",
      "[Parallel(n_jobs=2)]: Using backend ThreadingBackend with 2 concurrent workers.\n",
      "[Parallel(n_jobs=2)]: Done  28 tasks      | elapsed:    0.2s\n",
      "[Parallel(n_jobs=2)]: Done  50 out of  50 | elapsed:    0.4s finished\n"
     ]
    },
    {
     "name": "stdout",
     "output_type": "stream",
     "text": [
      "[CV 3/5; 5/9] END max_depth=5, n_estimators=50;, score=(train=-121.326, test=-122.375) total time=  43.8s\n",
      "[CV 4/5; 5/9] START max_depth=5, n_estimators=50................................\n"
     ]
    },
    {
     "name": "stderr",
     "output_type": "stream",
     "text": [
      "[Parallel(n_jobs=-1)]: Using backend LokyBackend with 2 concurrent workers.\n",
      "[Parallel(n_jobs=-1)]: Done  28 tasks      | elapsed:   24.4s\n",
      "[Parallel(n_jobs=-1)]: Done  50 out of  50 | elapsed:   43.6s finished\n",
      "[Parallel(n_jobs=2)]: Using backend ThreadingBackend with 2 concurrent workers.\n",
      "[Parallel(n_jobs=2)]: Done  28 tasks      | elapsed:    0.1s\n",
      "[Parallel(n_jobs=2)]: Done  50 out of  50 | elapsed:    0.1s finished\n",
      "[Parallel(n_jobs=2)]: Using backend ThreadingBackend with 2 concurrent workers.\n",
      "[Parallel(n_jobs=2)]: Done  28 tasks      | elapsed:    0.3s\n",
      "[Parallel(n_jobs=2)]: Done  50 out of  50 | elapsed:    0.4s finished\n"
     ]
    },
    {
     "name": "stdout",
     "output_type": "stream",
     "text": [
      "[CV 4/5; 5/9] END max_depth=5, n_estimators=50;, score=(train=-121.772, test=-120.989) total time=  44.0s\n",
      "[CV 5/5; 5/9] START max_depth=5, n_estimators=50................................\n"
     ]
    },
    {
     "name": "stderr",
     "output_type": "stream",
     "text": [
      "[Parallel(n_jobs=-1)]: Using backend LokyBackend with 2 concurrent workers.\n",
      "[Parallel(n_jobs=-1)]: Done  28 tasks      | elapsed:   24.2s\n",
      "[Parallel(n_jobs=-1)]: Done  50 out of  50 | elapsed:   43.3s finished\n",
      "[Parallel(n_jobs=2)]: Using backend ThreadingBackend with 2 concurrent workers.\n",
      "[Parallel(n_jobs=2)]: Done  28 tasks      | elapsed:    0.1s\n",
      "[Parallel(n_jobs=2)]: Done  50 out of  50 | elapsed:    0.1s finished\n",
      "[Parallel(n_jobs=2)]: Using backend ThreadingBackend with 2 concurrent workers.\n",
      "[Parallel(n_jobs=2)]: Done  28 tasks      | elapsed:    0.2s\n",
      "[Parallel(n_jobs=2)]: Done  50 out of  50 | elapsed:    0.4s finished\n"
     ]
    },
    {
     "name": "stdout",
     "output_type": "stream",
     "text": [
      "[CV 5/5; 5/9] END max_depth=5, n_estimators=50;, score=(train=-121.233, test=-122.602) total time=  43.7s\n",
      "[CV 1/5; 6/9] START max_depth=5, n_estimators=200...............................\n"
     ]
    },
    {
     "name": "stderr",
     "output_type": "stream",
     "text": [
      "[Parallel(n_jobs=-1)]: Using backend LokyBackend with 2 concurrent workers.\n",
      "[Parallel(n_jobs=-1)]: Done  28 tasks      | elapsed:   24.3s\n",
      "[Parallel(n_jobs=-1)]: Done 124 tasks      | elapsed:  1.8min\n",
      "[Parallel(n_jobs=-1)]: Done 200 out of 200 | elapsed:  2.9min finished\n",
      "[Parallel(n_jobs=2)]: Using backend ThreadingBackend with 2 concurrent workers.\n",
      "[Parallel(n_jobs=2)]: Done  28 tasks      | elapsed:    0.1s\n",
      "[Parallel(n_jobs=2)]: Done 124 tasks      | elapsed:    0.3s\n",
      "[Parallel(n_jobs=2)]: Done 200 out of 200 | elapsed:    0.5s finished\n",
      "[Parallel(n_jobs=2)]: Using backend ThreadingBackend with 2 concurrent workers.\n",
      "[Parallel(n_jobs=2)]: Done  28 tasks      | elapsed:    0.2s\n",
      "[Parallel(n_jobs=2)]: Done 124 tasks      | elapsed:    1.0s\n",
      "[Parallel(n_jobs=2)]: Done 200 out of 200 | elapsed:    1.7s finished\n",
      "[Parallel(n_jobs=-1)]: Using backend LokyBackend with 2 concurrent workers.\n"
     ]
    },
    {
     "name": "stdout",
     "output_type": "stream",
     "text": [
      "[CV 1/5; 6/9] END max_depth=5, n_estimators=200;, score=(train=-121.420, test=-120.740) total time= 2.9min\n",
      "[CV 2/5; 6/9] START max_depth=5, n_estimators=200...............................\n"
     ]
    },
    {
     "name": "stderr",
     "output_type": "stream",
     "text": [
      "[Parallel(n_jobs=-1)]: Done  28 tasks      | elapsed:   24.4s\n",
      "[Parallel(n_jobs=-1)]: Done 124 tasks      | elapsed:  1.8min\n",
      "[Parallel(n_jobs=-1)]: Done 200 out of 200 | elapsed:  2.9min finished\n",
      "[Parallel(n_jobs=2)]: Using backend ThreadingBackend with 2 concurrent workers.\n",
      "[Parallel(n_jobs=2)]: Done  28 tasks      | elapsed:    0.1s\n",
      "[Parallel(n_jobs=2)]: Done 124 tasks      | elapsed:    0.3s\n",
      "[Parallel(n_jobs=2)]: Done 200 out of 200 | elapsed:    0.5s finished\n",
      "[Parallel(n_jobs=2)]: Using backend ThreadingBackend with 2 concurrent workers.\n",
      "[Parallel(n_jobs=2)]: Done  28 tasks      | elapsed:    0.2s\n",
      "[Parallel(n_jobs=2)]: Done 124 tasks      | elapsed:    1.1s\n",
      "[Parallel(n_jobs=2)]: Done 200 out of 200 | elapsed:    1.7s finished\n",
      "[Parallel(n_jobs=-1)]: Using backend LokyBackend with 2 concurrent workers.\n"
     ]
    },
    {
     "name": "stdout",
     "output_type": "stream",
     "text": [
      "[CV 2/5; 6/9] END max_depth=5, n_estimators=200;, score=(train=-121.542, test=-121.321) total time= 2.9min\n",
      "[CV 3/5; 6/9] START max_depth=5, n_estimators=200...............................\n"
     ]
    },
    {
     "name": "stderr",
     "output_type": "stream",
     "text": [
      "[Parallel(n_jobs=-1)]: Done  28 tasks      | elapsed:   24.3s\n",
      "[Parallel(n_jobs=-1)]: Done 124 tasks      | elapsed:  1.8min\n",
      "[Parallel(n_jobs=-1)]: Done 200 out of 200 | elapsed:  2.9min finished\n",
      "[Parallel(n_jobs=2)]: Using backend ThreadingBackend with 2 concurrent workers.\n",
      "[Parallel(n_jobs=2)]: Done  28 tasks      | elapsed:    0.1s\n",
      "[Parallel(n_jobs=2)]: Done 124 tasks      | elapsed:    0.3s\n",
      "[Parallel(n_jobs=2)]: Done 200 out of 200 | elapsed:    0.4s finished\n",
      "[Parallel(n_jobs=2)]: Using backend ThreadingBackend with 2 concurrent workers.\n",
      "[Parallel(n_jobs=2)]: Done  28 tasks      | elapsed:    0.2s\n",
      "[Parallel(n_jobs=2)]: Done 124 tasks      | elapsed:    1.1s\n",
      "[Parallel(n_jobs=2)]: Done 200 out of 200 | elapsed:    1.7s finished\n",
      "[Parallel(n_jobs=-1)]: Using backend LokyBackend with 2 concurrent workers.\n"
     ]
    },
    {
     "name": "stdout",
     "output_type": "stream",
     "text": [
      "[CV 3/5; 6/9] END max_depth=5, n_estimators=200;, score=(train=-121.403, test=-122.420) total time= 2.9min\n",
      "[CV 4/5; 6/9] START max_depth=5, n_estimators=200...............................\n"
     ]
    },
    {
     "name": "stderr",
     "output_type": "stream",
     "text": [
      "[Parallel(n_jobs=-1)]: Done  28 tasks      | elapsed:   24.3s\n",
      "[Parallel(n_jobs=-1)]: Done 124 tasks      | elapsed:  1.8min\n",
      "[Parallel(n_jobs=-1)]: Done 200 out of 200 | elapsed:  3.0min finished\n",
      "[Parallel(n_jobs=2)]: Using backend ThreadingBackend with 2 concurrent workers.\n",
      "[Parallel(n_jobs=2)]: Done  28 tasks      | elapsed:    0.1s\n",
      "[Parallel(n_jobs=2)]: Done 124 tasks      | elapsed:    0.3s\n",
      "[Parallel(n_jobs=2)]: Done 200 out of 200 | elapsed:    0.4s finished\n",
      "[Parallel(n_jobs=2)]: Using backend ThreadingBackend with 2 concurrent workers.\n",
      "[Parallel(n_jobs=2)]: Done  28 tasks      | elapsed:    0.2s\n",
      "[Parallel(n_jobs=2)]: Done 124 tasks      | elapsed:    1.1s\n",
      "[Parallel(n_jobs=2)]: Done 200 out of 200 | elapsed:    1.7s finished\n",
      "[Parallel(n_jobs=-1)]: Using backend LokyBackend with 2 concurrent workers.\n"
     ]
    },
    {
     "name": "stdout",
     "output_type": "stream",
     "text": [
      "[CV 4/5; 6/9] END max_depth=5, n_estimators=200;, score=(train=-122.093, test=-121.314) total time= 3.0min\n",
      "[CV 5/5; 6/9] START max_depth=5, n_estimators=200...............................\n"
     ]
    },
    {
     "name": "stderr",
     "output_type": "stream",
     "text": [
      "[Parallel(n_jobs=-1)]: Done  28 tasks      | elapsed:   24.4s\n",
      "[Parallel(n_jobs=-1)]: Done 124 tasks      | elapsed:  1.8min\n",
      "[Parallel(n_jobs=-1)]: Done 200 out of 200 | elapsed:  2.9min finished\n",
      "[Parallel(n_jobs=2)]: Using backend ThreadingBackend with 2 concurrent workers.\n",
      "[Parallel(n_jobs=2)]: Done  28 tasks      | elapsed:    0.1s\n",
      "[Parallel(n_jobs=2)]: Done 124 tasks      | elapsed:    0.3s\n",
      "[Parallel(n_jobs=2)]: Done 200 out of 200 | elapsed:    0.5s finished\n",
      "[Parallel(n_jobs=2)]: Using backend ThreadingBackend with 2 concurrent workers.\n",
      "[Parallel(n_jobs=2)]: Done  28 tasks      | elapsed:    0.2s\n",
      "[Parallel(n_jobs=2)]: Done 124 tasks      | elapsed:    1.0s\n",
      "[Parallel(n_jobs=2)]: Done 200 out of 200 | elapsed:    1.7s finished\n",
      "[Parallel(n_jobs=-1)]: Using backend LokyBackend with 2 concurrent workers.\n"
     ]
    },
    {
     "name": "stdout",
     "output_type": "stream",
     "text": [
      "[CV 5/5; 6/9] END max_depth=5, n_estimators=200;, score=(train=-121.309, test=-122.611) total time= 3.0min\n",
      "[CV 1/5; 7/9] START max_depth=10, n_estimators=10...............................\n"
     ]
    },
    {
     "name": "stderr",
     "output_type": "stream",
     "text": [
      "[Parallel(n_jobs=-1)]: Done  10 out of  10 | elapsed:   17.3s finished\n",
      "[Parallel(n_jobs=2)]: Using backend ThreadingBackend with 2 concurrent workers.\n",
      "[Parallel(n_jobs=2)]: Done  10 out of  10 | elapsed:    0.0s finished\n",
      "[Parallel(n_jobs=2)]: Using backend ThreadingBackend with 2 concurrent workers.\n",
      "[Parallel(n_jobs=2)]: Done  10 out of  10 | elapsed:    0.2s finished\n"
     ]
    },
    {
     "name": "stdout",
     "output_type": "stream",
     "text": [
      "[CV 1/5; 7/9] END max_depth=10, n_estimators=10;, score=(train=-75.863, test=-78.650) total time=  17.6s\n",
      "[CV 2/5; 7/9] START max_depth=10, n_estimators=10...............................\n"
     ]
    },
    {
     "name": "stderr",
     "output_type": "stream",
     "text": [
      "[Parallel(n_jobs=-1)]: Using backend LokyBackend with 2 concurrent workers.\n",
      "[Parallel(n_jobs=-1)]: Done  10 out of  10 | elapsed:   17.3s finished\n",
      "[Parallel(n_jobs=2)]: Using backend ThreadingBackend with 2 concurrent workers.\n",
      "[Parallel(n_jobs=2)]: Done  10 out of  10 | elapsed:    0.0s finished\n",
      "[Parallel(n_jobs=2)]: Using backend ThreadingBackend with 2 concurrent workers.\n",
      "[Parallel(n_jobs=2)]: Done  10 out of  10 | elapsed:    0.2s finished\n"
     ]
    },
    {
     "name": "stdout",
     "output_type": "stream",
     "text": [
      "[CV 2/5; 7/9] END max_depth=10, n_estimators=10;, score=(train=-75.907, test=-78.594) total time=  17.6s\n",
      "[CV 3/5; 7/9] START max_depth=10, n_estimators=10...............................\n"
     ]
    },
    {
     "name": "stderr",
     "output_type": "stream",
     "text": [
      "[Parallel(n_jobs=-1)]: Using backend LokyBackend with 2 concurrent workers.\n",
      "[Parallel(n_jobs=-1)]: Done  10 out of  10 | elapsed:   17.3s finished\n",
      "[Parallel(n_jobs=2)]: Using backend ThreadingBackend with 2 concurrent workers.\n",
      "[Parallel(n_jobs=2)]: Done  10 out of  10 | elapsed:    0.0s finished\n",
      "[Parallel(n_jobs=2)]: Using backend ThreadingBackend with 2 concurrent workers.\n",
      "[Parallel(n_jobs=2)]: Done  10 out of  10 | elapsed:    0.2s finished\n"
     ]
    },
    {
     "name": "stdout",
     "output_type": "stream",
     "text": [
      "[CV 3/5; 7/9] END max_depth=10, n_estimators=10;, score=(train=-76.080, test=-79.421) total time=  17.5s\n",
      "[CV 4/5; 7/9] START max_depth=10, n_estimators=10...............................\n"
     ]
    },
    {
     "name": "stderr",
     "output_type": "stream",
     "text": [
      "[Parallel(n_jobs=-1)]: Using backend LokyBackend with 2 concurrent workers.\n",
      "[Parallel(n_jobs=-1)]: Done  10 out of  10 | elapsed:   17.3s finished\n",
      "[Parallel(n_jobs=2)]: Using backend ThreadingBackend with 2 concurrent workers.\n",
      "[Parallel(n_jobs=2)]: Done  10 out of  10 | elapsed:    0.0s finished\n",
      "[Parallel(n_jobs=2)]: Using backend ThreadingBackend with 2 concurrent workers.\n",
      "[Parallel(n_jobs=2)]: Done  10 out of  10 | elapsed:    0.2s finished\n"
     ]
    },
    {
     "name": "stdout",
     "output_type": "stream",
     "text": [
      "[CV 4/5; 7/9] END max_depth=10, n_estimators=10;, score=(train=-75.939, test=-79.336) total time=  17.6s\n",
      "[CV 5/5; 7/9] START max_depth=10, n_estimators=10...............................\n"
     ]
    },
    {
     "name": "stderr",
     "output_type": "stream",
     "text": [
      "[Parallel(n_jobs=-1)]: Using backend LokyBackend with 2 concurrent workers.\n",
      "[Parallel(n_jobs=-1)]: Done  10 out of  10 | elapsed:   17.4s finished\n",
      "[Parallel(n_jobs=2)]: Using backend ThreadingBackend with 2 concurrent workers.\n",
      "[Parallel(n_jobs=2)]: Done  10 out of  10 | elapsed:    0.0s finished\n",
      "[Parallel(n_jobs=2)]: Using backend ThreadingBackend with 2 concurrent workers.\n",
      "[Parallel(n_jobs=2)]: Done  10 out of  10 | elapsed:    0.2s finished\n"
     ]
    },
    {
     "name": "stdout",
     "output_type": "stream",
     "text": [
      "[CV 5/5; 7/9] END max_depth=10, n_estimators=10;, score=(train=-75.692, test=-79.086) total time=  17.6s\n",
      "[CV 1/5; 8/9] START max_depth=10, n_estimators=50...............................\n"
     ]
    },
    {
     "name": "stderr",
     "output_type": "stream",
     "text": [
      "[Parallel(n_jobs=-1)]: Using backend LokyBackend with 2 concurrent workers.\n",
      "[Parallel(n_jobs=-1)]: Done  28 tasks      | elapsed:   48.5s\n",
      "[Parallel(n_jobs=-1)]: Done  50 out of  50 | elapsed:  1.4min finished\n",
      "[Parallel(n_jobs=2)]: Using backend ThreadingBackend with 2 concurrent workers.\n",
      "[Parallel(n_jobs=2)]: Done  28 tasks      | elapsed:    0.1s\n",
      "[Parallel(n_jobs=2)]: Done  50 out of  50 | elapsed:    0.2s finished\n",
      "[Parallel(n_jobs=2)]: Using backend ThreadingBackend with 2 concurrent workers.\n",
      "[Parallel(n_jobs=2)]: Done  28 tasks      | elapsed:    0.5s\n",
      "[Parallel(n_jobs=2)]: Done  50 out of  50 | elapsed:    0.9s finished\n",
      "[Parallel(n_jobs=-1)]: Using backend LokyBackend with 2 concurrent workers.\n"
     ]
    },
    {
     "name": "stdout",
     "output_type": "stream",
     "text": [
      "[CV 1/5; 8/9] END max_depth=10, n_estimators=50;, score=(train=-75.393, test=-77.972) total time= 1.4min\n",
      "[CV 2/5; 8/9] START max_depth=10, n_estimators=50...............................\n"
     ]
    },
    {
     "name": "stderr",
     "output_type": "stream",
     "text": [
      "[Parallel(n_jobs=-1)]: Done  28 tasks      | elapsed:   49.4s\n",
      "[Parallel(n_jobs=-1)]: Done  50 out of  50 | elapsed:  1.5min finished\n",
      "[Parallel(n_jobs=2)]: Using backend ThreadingBackend with 2 concurrent workers.\n",
      "[Parallel(n_jobs=2)]: Done  28 tasks      | elapsed:    0.1s\n",
      "[Parallel(n_jobs=2)]: Done  50 out of  50 | elapsed:    0.2s finished\n",
      "[Parallel(n_jobs=2)]: Using backend ThreadingBackend with 2 concurrent workers.\n",
      "[Parallel(n_jobs=2)]: Done  28 tasks      | elapsed:    0.5s\n",
      "[Parallel(n_jobs=2)]: Done  50 out of  50 | elapsed:    0.9s finished\n",
      "[Parallel(n_jobs=-1)]: Using backend LokyBackend with 2 concurrent workers.\n"
     ]
    },
    {
     "name": "stdout",
     "output_type": "stream",
     "text": [
      "[CV 2/5; 8/9] END max_depth=10, n_estimators=50;, score=(train=-75.303, test=-78.102) total time= 1.5min\n",
      "[CV 3/5; 8/9] START max_depth=10, n_estimators=50...............................\n"
     ]
    },
    {
     "name": "stderr",
     "output_type": "stream",
     "text": [
      "[Parallel(n_jobs=-1)]: Done  28 tasks      | elapsed:   48.1s\n",
      "[Parallel(n_jobs=-1)]: Done  50 out of  50 | elapsed:  1.4min finished\n",
      "[Parallel(n_jobs=2)]: Using backend ThreadingBackend with 2 concurrent workers.\n",
      "[Parallel(n_jobs=2)]: Done  28 tasks      | elapsed:    0.1s\n",
      "[Parallel(n_jobs=2)]: Done  50 out of  50 | elapsed:    0.2s finished\n",
      "[Parallel(n_jobs=2)]: Using backend ThreadingBackend with 2 concurrent workers.\n",
      "[Parallel(n_jobs=2)]: Done  28 tasks      | elapsed:    0.5s\n",
      "[Parallel(n_jobs=2)]: Done  50 out of  50 | elapsed:    0.9s finished\n",
      "[Parallel(n_jobs=-1)]: Using backend LokyBackend with 2 concurrent workers.\n"
     ]
    },
    {
     "name": "stdout",
     "output_type": "stream",
     "text": [
      "[CV 3/5; 8/9] END max_depth=10, n_estimators=50;, score=(train=-75.239, test=-78.647) total time= 1.4min\n",
      "[CV 4/5; 8/9] START max_depth=10, n_estimators=50...............................\n"
     ]
    },
    {
     "name": "stderr",
     "output_type": "stream",
     "text": [
      "[Parallel(n_jobs=-1)]: Done  28 tasks      | elapsed:   47.9s\n",
      "[Parallel(n_jobs=-1)]: Done  50 out of  50 | elapsed:  1.4min finished\n",
      "[Parallel(n_jobs=2)]: Using backend ThreadingBackend with 2 concurrent workers.\n",
      "[Parallel(n_jobs=2)]: Done  28 tasks      | elapsed:    0.1s\n",
      "[Parallel(n_jobs=2)]: Done  50 out of  50 | elapsed:    0.2s finished\n",
      "[Parallel(n_jobs=2)]: Using backend ThreadingBackend with 2 concurrent workers.\n",
      "[Parallel(n_jobs=2)]: Done  28 tasks      | elapsed:    0.5s\n",
      "[Parallel(n_jobs=2)]: Done  50 out of  50 | elapsed:    0.9s finished\n",
      "[Parallel(n_jobs=-1)]: Using backend LokyBackend with 2 concurrent workers.\n"
     ]
    },
    {
     "name": "stdout",
     "output_type": "stream",
     "text": [
      "[CV 4/5; 8/9] END max_depth=10, n_estimators=50;, score=(train=-75.495, test=-78.945) total time= 1.4min\n",
      "[CV 5/5; 8/9] START max_depth=10, n_estimators=50...............................\n"
     ]
    },
    {
     "name": "stderr",
     "output_type": "stream",
     "text": [
      "[Parallel(n_jobs=-1)]: Done  28 tasks      | elapsed:   48.4s\n",
      "[Parallel(n_jobs=-1)]: Done  50 out of  50 | elapsed:  1.4min finished\n",
      "[Parallel(n_jobs=2)]: Using backend ThreadingBackend with 2 concurrent workers.\n",
      "[Parallel(n_jobs=2)]: Done  28 tasks      | elapsed:    0.1s\n",
      "[Parallel(n_jobs=2)]: Done  50 out of  50 | elapsed:    0.2s finished\n",
      "[Parallel(n_jobs=2)]: Using backend ThreadingBackend with 2 concurrent workers.\n",
      "[Parallel(n_jobs=2)]: Done  28 tasks      | elapsed:    0.5s\n",
      "[Parallel(n_jobs=2)]: Done  50 out of  50 | elapsed:    0.9s finished\n",
      "[Parallel(n_jobs=-1)]: Using backend LokyBackend with 2 concurrent workers.\n"
     ]
    },
    {
     "name": "stdout",
     "output_type": "stream",
     "text": [
      "[CV 5/5; 8/9] END max_depth=10, n_estimators=50;, score=(train=-75.521, test=-78.985) total time= 1.4min\n",
      "[CV 1/5; 9/9] START max_depth=10, n_estimators=200..............................\n"
     ]
    },
    {
     "name": "stderr",
     "output_type": "stream",
     "text": [
      "[Parallel(n_jobs=-1)]: Done  28 tasks      | elapsed:   47.5s\n",
      "[Parallel(n_jobs=-1)]: Done 124 tasks      | elapsed:  3.6min\n",
      "[Parallel(n_jobs=-1)]: Done 200 out of 200 | elapsed:  5.7min finished\n",
      "[Parallel(n_jobs=2)]: Using backend ThreadingBackend with 2 concurrent workers.\n",
      "[Parallel(n_jobs=2)]: Done  28 tasks      | elapsed:    0.1s\n",
      "[Parallel(n_jobs=2)]: Done 124 tasks      | elapsed:    0.6s\n",
      "[Parallel(n_jobs=2)]: Done 200 out of 200 | elapsed:    0.9s finished\n",
      "[Parallel(n_jobs=2)]: Using backend ThreadingBackend with 2 concurrent workers.\n",
      "[Parallel(n_jobs=2)]: Done  28 tasks      | elapsed:    0.5s\n",
      "[Parallel(n_jobs=2)]: Done 124 tasks      | elapsed:    2.2s\n",
      "[Parallel(n_jobs=2)]: Done 200 out of 200 | elapsed:    3.5s finished\n",
      "[Parallel(n_jobs=-1)]: Using backend LokyBackend with 2 concurrent workers.\n"
     ]
    },
    {
     "name": "stdout",
     "output_type": "stream",
     "text": [
      "[CV 1/5; 9/9] END max_depth=10, n_estimators=200;, score=(train=-75.334, test=-77.880) total time= 5.8min\n",
      "[CV 2/5; 9/9] START max_depth=10, n_estimators=200..............................\n"
     ]
    },
    {
     "name": "stderr",
     "output_type": "stream",
     "text": [
      "[Parallel(n_jobs=-1)]: Done  28 tasks      | elapsed:   48.5s\n",
      "[Parallel(n_jobs=-1)]: Done 124 tasks      | elapsed:  3.6min\n",
      "[Parallel(n_jobs=-1)]: Done 200 out of 200 | elapsed:  5.7min finished\n",
      "[Parallel(n_jobs=2)]: Using backend ThreadingBackend with 2 concurrent workers.\n",
      "[Parallel(n_jobs=2)]: Done  28 tasks      | elapsed:    0.1s\n",
      "[Parallel(n_jobs=2)]: Done 124 tasks      | elapsed:    0.6s\n",
      "[Parallel(n_jobs=2)]: Done 200 out of 200 | elapsed:    0.9s finished\n",
      "[Parallel(n_jobs=2)]: Using backend ThreadingBackend with 2 concurrent workers.\n",
      "[Parallel(n_jobs=2)]: Done  28 tasks      | elapsed:    0.5s\n",
      "[Parallel(n_jobs=2)]: Done 124 tasks      | elapsed:    2.2s\n",
      "[Parallel(n_jobs=2)]: Done 200 out of 200 | elapsed:    3.5s finished\n",
      "[Parallel(n_jobs=-1)]: Using backend LokyBackend with 2 concurrent workers.\n"
     ]
    },
    {
     "name": "stdout",
     "output_type": "stream",
     "text": [
      "[CV 2/5; 9/9] END max_depth=10, n_estimators=200;, score=(train=-75.286, test=-78.046) total time= 5.7min\n",
      "[CV 3/5; 9/9] START max_depth=10, n_estimators=200..............................\n"
     ]
    },
    {
     "name": "stderr",
     "output_type": "stream",
     "text": [
      "[Parallel(n_jobs=-1)]: Done  28 tasks      | elapsed:   48.7s\n",
      "[Parallel(n_jobs=-1)]: Done 124 tasks      | elapsed:  3.5min\n",
      "[Parallel(n_jobs=-1)]: Done 200 out of 200 | elapsed:  5.7min finished\n",
      "[Parallel(n_jobs=2)]: Using backend ThreadingBackend with 2 concurrent workers.\n",
      "[Parallel(n_jobs=2)]: Done  28 tasks      | elapsed:    0.1s\n",
      "[Parallel(n_jobs=2)]: Done 124 tasks      | elapsed:    0.6s\n",
      "[Parallel(n_jobs=2)]: Done 200 out of 200 | elapsed:    0.9s finished\n",
      "[Parallel(n_jobs=2)]: Using backend ThreadingBackend with 2 concurrent workers.\n",
      "[Parallel(n_jobs=2)]: Done  28 tasks      | elapsed:    0.5s\n",
      "[Parallel(n_jobs=2)]: Done 124 tasks      | elapsed:    2.2s\n",
      "[Parallel(n_jobs=2)]: Done 200 out of 200 | elapsed:    3.5s finished\n",
      "[Parallel(n_jobs=-1)]: Using backend LokyBackend with 2 concurrent workers.\n"
     ]
    },
    {
     "name": "stdout",
     "output_type": "stream",
     "text": [
      "[CV 3/5; 9/9] END max_depth=10, n_estimators=200;, score=(train=-75.271, test=-78.612) total time= 5.7min\n",
      "[CV 4/5; 9/9] START max_depth=10, n_estimators=200..............................\n"
     ]
    },
    {
     "name": "stderr",
     "output_type": "stream",
     "text": [
      "[Parallel(n_jobs=-1)]: Done  28 tasks      | elapsed:   47.9s\n",
      "[Parallel(n_jobs=-1)]: Done 124 tasks      | elapsed:  3.5min\n",
      "[Parallel(n_jobs=-1)]: Done 200 out of 200 | elapsed:  5.7min finished\n",
      "[Parallel(n_jobs=2)]: Using backend ThreadingBackend with 2 concurrent workers.\n",
      "[Parallel(n_jobs=2)]: Done  28 tasks      | elapsed:    0.1s\n",
      "[Parallel(n_jobs=2)]: Done 124 tasks      | elapsed:    0.6s\n",
      "[Parallel(n_jobs=2)]: Done 200 out of 200 | elapsed:    0.9s finished\n",
      "[Parallel(n_jobs=2)]: Using backend ThreadingBackend with 2 concurrent workers.\n",
      "[Parallel(n_jobs=2)]: Done  28 tasks      | elapsed:    0.5s\n",
      "[Parallel(n_jobs=2)]: Done 124 tasks      | elapsed:    2.2s\n",
      "[Parallel(n_jobs=2)]: Done 200 out of 200 | elapsed:    3.5s finished\n",
      "[Parallel(n_jobs=-1)]: Using backend LokyBackend with 2 concurrent workers.\n"
     ]
    },
    {
     "name": "stdout",
     "output_type": "stream",
     "text": [
      "[CV 4/5; 9/9] END max_depth=10, n_estimators=200;, score=(train=-75.467, test=-78.816) total time= 5.7min\n",
      "[CV 5/5; 9/9] START max_depth=10, n_estimators=200..............................\n"
     ]
    },
    {
     "name": "stderr",
     "output_type": "stream",
     "text": [
      "[Parallel(n_jobs=-1)]: Done  28 tasks      | elapsed:   47.9s\n",
      "[Parallel(n_jobs=-1)]: Done 124 tasks      | elapsed:  3.5min\n",
      "[Parallel(n_jobs=-1)]: Done 200 out of 200 | elapsed:  5.7min finished\n",
      "[Parallel(n_jobs=2)]: Using backend ThreadingBackend with 2 concurrent workers.\n",
      "[Parallel(n_jobs=2)]: Done  28 tasks      | elapsed:    0.1s\n",
      "[Parallel(n_jobs=2)]: Done 124 tasks      | elapsed:    0.6s\n",
      "[Parallel(n_jobs=2)]: Done 200 out of 200 | elapsed:    0.9s finished\n",
      "[Parallel(n_jobs=2)]: Using backend ThreadingBackend with 2 concurrent workers.\n",
      "[Parallel(n_jobs=2)]: Done  28 tasks      | elapsed:    0.5s\n",
      "[Parallel(n_jobs=2)]: Done 124 tasks      | elapsed:    2.2s\n",
      "[Parallel(n_jobs=2)]: Done 200 out of 200 | elapsed:    3.6s finished\n",
      "[Parallel(n_jobs=-1)]: Using backend ThreadingBackend with 2 concurrent workers.\n"
     ]
    },
    {
     "name": "stdout",
     "output_type": "stream",
     "text": [
      "[CV 5/5; 9/9] END max_depth=10, n_estimators=200;, score=(train=-75.314, test=-78.682) total time= 5.7min\n",
      "building tree 1 of 200\n",
      "building tree 2 of 200\n",
      "building tree 3 of 200\n",
      "building tree 4 of 200\n",
      "building tree 5 of 200\n",
      "building tree 6 of 200\n",
      "building tree 7 of 200\n",
      "building tree 8 of 200\n",
      "building tree 9 of 200\n",
      "building tree 10 of 200\n",
      "building tree 11 of 200building tree 12 of 200\n",
      "\n",
      "building tree 13 of 200\n",
      "building tree 14 of 200\n",
      "building tree 15 of 200\n",
      "building tree 16 of 200\n",
      "building tree 17 of 200\n",
      "building tree 18 of 200\n",
      "building tree 19 of 200\n",
      "building tree 20 of 200\n",
      "building tree 21 of 200\n",
      "building tree 22 of 200\n",
      "building tree 23 of 200\n",
      "building tree 24 of 200\n",
      "building tree 25 of 200\n",
      "building tree 26 of 200\n",
      "building tree 27 of 200\n",
      "building tree 28 of 200\n",
      "building tree 29 of 200\n",
      "building tree 30 of 200\n"
     ]
    },
    {
     "name": "stderr",
     "output_type": "stream",
     "text": [
      "[Parallel(n_jobs=-1)]: Done  28 tasks      | elapsed:  2.1min\n"
     ]
    },
    {
     "name": "stdout",
     "output_type": "stream",
     "text": [
      "building tree 31 of 200building tree 32 of 200\n",
      "\n",
      "building tree 33 of 200\n",
      "building tree 34 of 200\n",
      "building tree 35 of 200\n",
      "building tree 36 of 200\n",
      "building tree 37 of 200\n",
      "building tree 38 of 200\n",
      "building tree 39 of 200\n",
      "building tree 40 of 200\n",
      "building tree 41 of 200\n",
      "building tree 42 of 200\n",
      "building tree 43 of 200\n",
      "building tree 44 of 200\n",
      "building tree 45 of 200\n",
      "building tree 46 of 200\n",
      "building tree 47 of 200\n",
      "building tree 48 of 200\n",
      "building tree 49 of 200\n",
      "building tree 50 of 200\n",
      "building tree 51 of 200\n",
      "building tree 52 of 200\n",
      "building tree 53 of 200\n",
      "building tree 54 of 200\n",
      "building tree 55 of 200\n",
      "building tree 56 of 200\n",
      "building tree 57 of 200\n",
      "building tree 58 of 200\n",
      "building tree 59 of 200\n",
      "building tree 60 of 200\n",
      "building tree 61 of 200\n",
      "building tree 62 of 200\n",
      "building tree 63 of 200\n",
      "building tree 64 of 200\n",
      "building tree 65 of 200\n",
      "building tree 66 of 200\n",
      "building tree 67 of 200\n",
      "building tree 68 of 200\n",
      "building tree 69 of 200\n",
      "building tree 70 of 200\n",
      "building tree 71 of 200\n",
      "building tree 72 of 200\n",
      "building tree 73 of 200\n",
      "building tree 74 of 200\n",
      "building tree 75 of 200\n",
      "building tree 76 of 200\n",
      "building tree 77 of 200\n",
      "building tree 78 of 200\n",
      "building tree 79 of 200\n",
      "building tree 80 of 200\n",
      "building tree 81 of 200\n",
      "building tree 82 of 200\n",
      "building tree 83 of 200\n",
      "building tree 84 of 200\n",
      "building tree 85 of 200\n",
      "building tree 86 of 200\n",
      "building tree 87 of 200\n",
      "building tree 88 of 200\n",
      "building tree 89 of 200\n",
      "building tree 90 of 200\n",
      "building tree 91 of 200\n",
      "building tree 92 of 200\n",
      "building tree 93 of 200\n",
      "building tree 94 of 200\n",
      "building tree 95 of 200\n",
      "building tree 96 of 200\n",
      "building tree 97 of 200\n",
      "building tree 98 of 200\n",
      "building tree 99 of 200\n",
      "building tree 100 of 200\n",
      "building tree 101 of 200\n",
      "building tree 102 of 200\n",
      "building tree 103 of 200\n",
      "building tree 104 of 200\n",
      "building tree 105 of 200\n",
      "building tree 106 of 200\n",
      "building tree 107 of 200\n",
      "building tree 108 of 200\n",
      "building tree 109 of 200\n",
      "building tree 110 of 200\n",
      "building tree 111 of 200\n",
      "building tree 112 of 200\n",
      "building tree 113 of 200\n",
      "building tree 114 of 200\n",
      "building tree 115 of 200\n",
      "building tree 116 of 200\n",
      "building tree 117 of 200\n",
      "building tree 118 of 200\n",
      "building tree 119 of 200\n",
      "building tree 120 of 200\n",
      "building tree 121 of 200\n",
      "building tree 122 of 200\n",
      "building tree 123 of 200\n",
      "building tree 124 of 200\n",
      "building tree 125 of 200\n",
      "building tree 126 of 200\n"
     ]
    },
    {
     "name": "stderr",
     "output_type": "stream",
     "text": [
      "[Parallel(n_jobs=-1)]: Done 124 tasks      | elapsed:  9.2min\n"
     ]
    },
    {
     "name": "stdout",
     "output_type": "stream",
     "text": [
      "building tree 127 of 200\n",
      "building tree 128 of 200\n",
      "building tree 129 of 200\n",
      "building tree 130 of 200\n",
      "building tree 131 of 200\n",
      "building tree 132 of 200\n",
      "building tree 133 of 200\n",
      "building tree 134 of 200\n",
      "building tree 135 of 200\n",
      "building tree 136 of 200\n",
      "building tree 137 of 200\n",
      "building tree 138 of 200\n",
      "building tree 139 of 200\n",
      "building tree 140 of 200\n",
      "building tree 141 of 200\n",
      "building tree 142 of 200\n",
      "building tree 143 of 200\n",
      "building tree 144 of 200\n",
      "building tree 145 of 200\n",
      "building tree 146 of 200\n",
      "building tree 147 of 200\n",
      "building tree 148 of 200\n",
      "building tree 149 of 200\n",
      "building tree 150 of 200\n",
      "building tree 151 of 200\n",
      "building tree 152 of 200\n",
      "building tree 153 of 200\n",
      "building tree 154 of 200\n",
      "building tree 155 of 200\n",
      "building tree 156 of 200\n",
      "building tree 157 of 200\n",
      "building tree 158 of 200\n",
      "building tree 159 of 200\n",
      "building tree 160 of 200\n",
      "building tree 161 of 200\n",
      "building tree 162 of 200\n",
      "building tree 163 of 200\n",
      "building tree 164 of 200\n",
      "building tree 165 of 200\n",
      "building tree 166 of 200\n",
      "building tree 167 of 200\n",
      "building tree 168 of 200\n",
      "building tree 169 of 200\n",
      "building tree 170 of 200\n",
      "building tree 171 of 200\n",
      "building tree 172 of 200\n",
      "building tree 173 of 200\n",
      "building tree 174 of 200\n",
      "building tree 175 of 200\n",
      "building tree 176 of 200\n",
      "building tree 177 of 200\n",
      "building tree 178 of 200\n",
      "building tree 179 of 200\n",
      "building tree 180 of 200\n",
      "building tree 181 of 200\n",
      "building tree 182 of 200\n",
      "building tree 183 of 200\n",
      "building tree 184 of 200\n",
      "building tree 185 of 200\n",
      "building tree 186 of 200\n",
      "building tree 187 of 200\n",
      "building tree 188 of 200\n",
      "building tree 189 of 200\n",
      "building tree 190 of 200\n",
      "building tree 191 of 200\n",
      "building tree 192 of 200\n",
      "building tree 193 of 200\n",
      "building tree 194 of 200\n",
      "building tree 195 of 200\n",
      "building tree 196 of 200\n",
      "building tree 197 of 200\n",
      "building tree 198 of 200\n",
      "building tree 199 of 200\n",
      "building tree 200 of 200\n"
     ]
    },
    {
     "name": "stderr",
     "output_type": "stream",
     "text": [
      "[Parallel(n_jobs=-1)]: Done 200 out of 200 | elapsed: 14.9min finished\n"
     ]
    },
    {
     "data": {
      "text/plain": [
       "GridSearchCV(cv=5, estimator=RandomForestRegressor(n_jobs=-1, verbose=3),\n",
       "             n_jobs=1,\n",
       "             param_grid={'max_depth': [None, 5, 10],\n",
       "                         'n_estimators': [10, 50, 200]},\n",
       "             return_train_score=True, scoring='neg_mean_squared_error',\n",
       "             verbose=10)"
      ]
     },
     "execution_count": 11,
     "metadata": {},
     "output_type": "execute_result"
    }
   ],
   "source": [
    "reg_rf.fit(X_train,y_train)"
   ]
  },
  {
   "cell_type": "code",
   "execution_count": 12,
   "metadata": {
    "colab": {
     "base_uri": "https://localhost:8080/"
    },
    "id": "Bgkn1hwJcoxT",
    "outputId": "3891c8e7-d64d-4349-bcdf-3cfa6a7c090d"
   },
   "outputs": [
    {
     "name": "stderr",
     "output_type": "stream",
     "text": [
      "[Parallel(n_jobs=-1)]: Using backend ThreadingBackend with 2 concurrent workers.\n"
     ]
    },
    {
     "name": "stdout",
     "output_type": "stream",
     "text": [
      "building tree 1 of 200building tree 2 of 200\n",
      "\n",
      "building tree 3 of 200\n",
      "building tree 4 of 200\n",
      "building tree 5 of 200\n",
      "building tree 6 of 200\n",
      "building tree 7 of 200\n",
      "building tree 8 of 200\n",
      "building tree 9 of 200\n",
      "building tree 10 of 200\n",
      "building tree 11 of 200\n",
      "building tree 12 of 200\n",
      "building tree 13 of 200\n",
      "building tree 14 of 200\n",
      "building tree 15 of 200\n",
      "building tree 16 of 200\n",
      "building tree 17 of 200\n",
      "building tree 18 of 200\n",
      "building tree 19 of 200\n",
      "building tree 20 of 200\n",
      "building tree 21 of 200\n",
      "building tree 22 of 200\n",
      "building tree 23 of 200\n",
      "building tree 24 of 200\n",
      "building tree 25 of 200\n",
      "building tree 26 of 200\n",
      "building tree 27 of 200\n",
      "building tree 28 of 200\n",
      "building tree 29 of 200\n"
     ]
    },
    {
     "name": "stderr",
     "output_type": "stream",
     "text": [
      "[Parallel(n_jobs=-1)]: Done  28 tasks      | elapsed:  2.1min\n"
     ]
    },
    {
     "name": "stdout",
     "output_type": "stream",
     "text": [
      "building tree 30 of 200\n",
      "building tree 31 of 200\n",
      "building tree 32 of 200\n",
      "building tree 33 of 200\n",
      "building tree 34 of 200\n",
      "building tree 35 of 200\n",
      "building tree 36 of 200\n",
      "building tree 37 of 200\n",
      "building tree 38 of 200\n",
      "building tree 39 of 200\n",
      "building tree 40 of 200\n",
      "building tree 41 of 200\n",
      "building tree 42 of 200\n",
      "building tree 43 of 200\n",
      "building tree 44 of 200\n",
      "building tree 45 of 200\n",
      "building tree 46 of 200\n",
      "building tree 47 of 200\n",
      "building tree 48 of 200\n",
      "building tree 49 of 200\n",
      "building tree 50 of 200\n",
      "building tree 51 of 200\n",
      "building tree 52 of 200\n",
      "building tree 53 of 200\n",
      "building tree 54 of 200\n",
      "building tree 55 of 200\n",
      "building tree 56 of 200\n",
      "building tree 57 of 200\n",
      "building tree 58 of 200\n",
      "building tree 59 of 200\n",
      "building tree 60 of 200\n",
      "building tree 61 of 200\n",
      "building tree 62 of 200\n",
      "building tree 63 of 200\n",
      "building tree 64 of 200\n",
      "building tree 65 of 200\n",
      "building tree 66 of 200\n",
      "building tree 67 of 200\n",
      "building tree 68 of 200\n",
      "building tree 69 of 200\n",
      "building tree 70 of 200\n",
      "building tree 71 of 200\n",
      "building tree 72 of 200\n",
      "building tree 73 of 200\n",
      "building tree 74 of 200\n",
      "building tree 75 of 200\n",
      "building tree 76 of 200\n",
      "building tree 77 of 200\n",
      "building tree 78 of 200\n",
      "building tree 79 of 200\n",
      "building tree 80 of 200\n",
      "building tree 81 of 200\n",
      "building tree 82 of 200\n",
      "building tree 83 of 200\n",
      "building tree 84 of 200\n",
      "building tree 85 of 200\n",
      "building tree 86 of 200\n",
      "building tree 87 of 200\n",
      "building tree 88 of 200\n",
      "building tree 89 of 200\n",
      "building tree 90 of 200\n",
      "building tree 91 of 200\n",
      "building tree 92 of 200\n",
      "building tree 93 of 200\n",
      "building tree 94 of 200\n",
      "building tree 95 of 200\n",
      "building tree 96 of 200\n",
      "building tree 97 of 200\n",
      "building tree 98 of 200\n",
      "building tree 99 of 200\n",
      "building tree 100 of 200\n",
      "building tree 101 of 200\n",
      "building tree 102 of 200\n",
      "building tree 103 of 200\n",
      "building tree 104 of 200\n",
      "building tree 105 of 200\n",
      "building tree 106 of 200\n",
      "building tree 107 of 200\n",
      "building tree 108 of 200\n",
      "building tree 109 of 200\n",
      "building tree 110 of 200\n",
      "building tree 111 of 200\n",
      "building tree 112 of 200\n",
      "building tree 113 of 200\n",
      "building tree 114 of 200\n",
      "building tree 115 of 200\n",
      "building tree 116 of 200\n",
      "building tree 117 of 200\n",
      "building tree 118 of 200\n",
      "building tree 119 of 200\n",
      "building tree 120 of 200\n",
      "building tree 121 of 200\n",
      "building tree 122 of 200\n",
      "building tree 123 of 200\n",
      "building tree 124 of 200\n",
      "building tree 125 of 200\n"
     ]
    },
    {
     "name": "stderr",
     "output_type": "stream",
     "text": [
      "[Parallel(n_jobs=-1)]: Done 124 tasks      | elapsed:  9.2min\n"
     ]
    },
    {
     "name": "stdout",
     "output_type": "stream",
     "text": [
      "building tree 126 of 200\n",
      "building tree 127 of 200\n",
      "building tree 128 of 200\n",
      "building tree 129 of 200\n",
      "building tree 130 of 200\n",
      "building tree 131 of 200\n",
      "building tree 132 of 200\n",
      "building tree 133 of 200\n",
      "building tree 134 of 200\n",
      "building tree 135 of 200\n",
      "building tree 136 of 200\n",
      "building tree 137 of 200\n",
      "building tree 138 of 200\n",
      "building tree 139 of 200\n",
      "building tree 140 of 200\n",
      "building tree 141 of 200\n",
      "building tree 142 of 200\n",
      "building tree 143 of 200\n",
      "building tree 144 of 200\n",
      "building tree 145 of 200\n",
      "building tree 146 of 200\n",
      "building tree 147 of 200\n",
      "building tree 148 of 200\n",
      "building tree 149 of 200\n",
      "building tree 150 of 200\n",
      "building tree 151 of 200\n",
      "building tree 152 of 200\n",
      "building tree 153 of 200\n",
      "building tree 154 of 200\n",
      "building tree 155 of 200\n",
      "building tree 156 of 200\n",
      "building tree 157 of 200\n",
      "building tree 158 of 200\n",
      "building tree 159 of 200\n",
      "building tree 160 of 200\n",
      "building tree 161 of 200\n",
      "building tree 162 of 200\n",
      "building tree 163 of 200\n",
      "building tree 164 of 200\n",
      "building tree 165 of 200\n",
      "building tree 166 of 200\n",
      "building tree 167 of 200\n",
      "building tree 168 of 200\n",
      "building tree 169 of 200\n",
      "building tree 170 of 200\n",
      "building tree 171 of 200\n",
      "building tree 172 of 200\n",
      "building tree 173 of 200\n",
      "building tree 174 of 200\n",
      "building tree 175 of 200\n",
      "building tree 176 of 200\n",
      "building tree 177 of 200\n",
      "building tree 178 of 200\n",
      "building tree 179 of 200\n",
      "building tree 180 of 200\n",
      "building tree 181 of 200\n",
      "building tree 182 of 200\n",
      "building tree 183 of 200\n",
      "building tree 184 of 200\n",
      "building tree 185 of 200\n",
      "building tree 186 of 200\n",
      "building tree 187 of 200\n",
      "building tree 188 of 200\n",
      "building tree 189 of 200\n",
      "building tree 190 of 200\n",
      "building tree 191 of 200\n",
      "building tree 192 of 200\n",
      "building tree 193 of 200\n",
      "building tree 194 of 200\n",
      "building tree 195 of 200\n",
      "building tree 196 of 200\n",
      "building tree 197 of 200\n",
      "building tree 198 of 200\n",
      "building tree 199 of 200\n",
      "building tree 200 of 200\n"
     ]
    },
    {
     "name": "stderr",
     "output_type": "stream",
     "text": [
      "[Parallel(n_jobs=-1)]: Done 200 out of 200 | elapsed: 14.8min finished\n",
      "[Parallel(n_jobs=2)]: Using backend ThreadingBackend with 2 concurrent workers.\n",
      "[Parallel(n_jobs=2)]: Done  28 tasks      | elapsed:    1.5s\n",
      "[Parallel(n_jobs=2)]: Done 124 tasks      | elapsed:    6.8s\n",
      "[Parallel(n_jobs=2)]: Done 200 out of 200 | elapsed:   11.0s finished\n"
     ]
    }
   ],
   "source": [
    "y_pred = reg_rf.best_estimator_.fit(X_train,y_train).predict(X_test)"
   ]
  },
  {
   "cell_type": "code",
   "execution_count": 13,
   "metadata": {
    "colab": {
     "base_uri": "https://localhost:8080/"
    },
    "id": "PxPZ_uvPdHXW",
    "outputId": "b5894712-33c4-48fe-f546-57e1cf56ddba"
   },
   "outputs": [
    {
     "name": "stdout",
     "output_type": "stream",
     "text": [
      "Test MSE for Random Forest Model: 45.5446\n",
      "Test R2 for Random Forest Model: 0.8645\n"
     ]
    }
   ],
   "source": [
    "# Getting score for model performance on test sets\n",
    "from sklearn.metrics import r2_score\n",
    "r = r2_score(y_test,y_pred)\n",
    "from sklearn.metrics import mean_squared_error\n",
    "mse  = mean_squared_error(y_test,y_pred)\n",
    "print(\"Test MSE for Random Forest Model: {:.4f}\".format(mse))\n",
    "print(\"Test R2 for Random Forest Model: {:.4f}\".format(r))"
   ]
  },
  {
   "cell_type": "code",
   "execution_count": 16,
   "metadata": {
    "colab": {
     "base_uri": "https://localhost:8080/",
     "height": 350
    },
    "id": "wlq5Pr1fJi9f",
    "outputId": "347376b9-1712-4cd9-c88e-ff9195a7e979"
   },
   "outputs": [
    {
     "data": {
      "image/png": "[encoded data removed]",
      "text/plain": [
       "<Figure size 576x360 with 1 Axes>"
      ]
     },
     "metadata": {
      "needs_background": "light"
     },
     "output_type": "display_data"
    }
   ],
   "source": [
    "train_score=reg_rf.cv_results_['mean_train_score']\n",
    "test_score=reg_rf.cv_results_['mean_test_score']\n",
    "plt.figure(figsize=(8,5))\n",
    "plt.plot(np.arange(9),-train_score,label='train')\n",
    "plt.plot(np.arange(9),-test_score,label='test')\n",
    "plt.legend()\n",
    "plt.xticks(ticks=np.arange(9),\n",
    "           labels=['10/None','50/None','200/None','10/5','50/5','200/5','10/10','50/10','200/10'])\n",
    "plt.title('Best RandomForest Regressor by GridSearchCV: K=5')\n",
    "plt.xlabel('parameters')\n",
    "plt.ylabel('MSE')\n",
    "plt.show()"
   ]
  },
  {
   "cell_type": "code",
   "execution_count": 17,
   "metadata": {
    "colab": {
     "base_uri": "https://localhost:8080/"
    },
    "id": "ueH9nSl3dgEo",
    "outputId": "96a8ddb6-065c-41e7-c419-635e8d6db40b"
   },
   "outputs": [
    {
     "data": {
      "text/plain": [
       "{'max_depth': None, 'n_estimators': 200}"
      ]
     },
     "execution_count": 17,
     "metadata": {},
     "output_type": "execute_result"
    }
   ],
   "source": [
    "reg_rf.best_params_"
   ]
  },
  {
   "cell_type": "markdown",
   "metadata": {
    "id": "Xpl3MdapgZV_"
   },
   "source": [
    "As we can see from the previous cells, we are able to achieve a best MSE performance of **45.54** and a best R2 score of **0.8645** when the hyperparameters of Random Forest are set as (max_depth = None, n_estimators = 200). "
   ]
  },
  {
   "cell_type": "markdown",
   "metadata": {
    "id": "rtrggvdBpRm6"
   },
   "source": [
    "# Ethics & Privacy"
   ]
  },
  {
   "cell_type": "markdown",
   "metadata": {
    "id": "y9SVTcXgpRm6"
   },
   "source": [
    "There are no privacy issues during our collection of data. Our datasets used in this project are from the kaggle website and the author collected these data from spotify web Api. Our data contains only generalized statistics about artists and their track’s popularity, genre, etc. None of these values have identifiable information that can be traced back to individual Spotify users. Since the datasets were collected from the official spotify web api with over 600 thousands tracks and more than one million artists, we assumed that potential bias in the data collection is kept to a minimum. \n",
    "\n",
    "We stored the dataset in a private github repository that can be only accessed by the instructional team and our team members to ensure that our data is secured. \n",
    "\n",
    "During our EDA and data cleaning, we will make sure that we retain most of the original datasets to keep the data bias to a minimum. We will also make visualizations and analysis for the datasets so that we can discover interesting trends and spot any underlying bias within the dataset and address them accordingly. \n",
    "\n",
    "Our model utilizes different features of a song such as duration, danceability, etc to evaluate its popularity. We have checked the variables in the datasets and we have not found any data that appeared to be discriminatory. \n",
    "\n",
    "One ethical concern that this project may have is that artists may use our model to predict what features are important to the popularity of a song and then focus on satisfying these features when making new songs. This may result in less music produced in less popular genres. We plan to address this issue by setting our project private after the class so that people won’t have access to it."
   ]
  },
  {
   "cell_type": "markdown",
   "metadata": {
    "id": "oj2MgFPmpRm6"
   },
   "source": [
    "# Team Expectations "
   ]
  },
  {
   "cell_type": "markdown",
   "metadata": {
    "id": "Aih4Y0t_pRm7"
   },
   "source": [
    "* We will keep an open line of communication via text messages and email.\n",
    "* We will have group meetings to discuss the progress of the project.\n",
    "* We promise to finish our respective parts on time.\n",
    "* We will respect each other.\n",
    "* We will reach out to each other for help if needed\n",
    "* We will be open to constructive criticism without being defensive or negative."
   ]
  },
  {
   "cell_type": "markdown",
   "metadata": {
    "id": "6SgoP0v7pRm7"
   },
   "source": [
    "# Project Timeline Proposal"
   ]
  },
  {
   "cell_type": "markdown",
   "metadata": {
    "id": "vhK9vCH6pRm7"
   },
   "source": [
    "**Important deadlines:**\n",
    "* Final Project June 8\n",
    "\n",
    "\n",
    "| Meeting Date  | Meeting Time| Completed Before Meeting  | Discuss at Meeting |\n",
    "|---|---|---|---|\n",
    "| 4/19  |  4 PM |  N/A  | Brainstorm topics/questions/dataset (all) | \n",
    "| 5/3  |  4 PM |  Project Proposal | Discuss Wrangling and possible analytical approaches; Assign group members to lead each specific part | \n",
    "| 5/10  | 4 PM | Finish data cleaning/processing; Finish feature transformation such as OneHotEncoding, etc. | Review/Edit wrangling/EDA; Discuss Analysis Plan; Discuss possible approach to join the datasets; filter out unnecessary features; Create baseline model; Create plausible data visualizations   |\n",
    "| 5/17  | 4 PM  | Finish EDA and analysis plan | Discuss/edit project code; Identify most important features; Create more advanced models; Cross validate and model selection; Evaluate our models; Improve our models; Complete project\n",
    "   |\n",
    "| 5/23  | 4 PM  | Finish the coding part of the project | Discuss/edit full project; Find any inconsistencies; Correct any errors  |\n",
    "| 5/30  | 4 PM  |Finish the whole project| Turn in Final Project |"
   ]
  },
  {
   "cell_type": "markdown",
   "metadata": {
    "id": "0xy2HWrSpRm7"
   },
   "source": [
    "# Footnotes\n",
    "<a name=\"reference_1\"></a>1.[^](#ref_1): Picard, Madeleine Visualized: Can we Quantify the Most Popular Music? *DISPLAYR Blog*. https://www.displayr.com/most-popular-music/<br> \n",
    "\n",
    "<a name=\"reference_2\"></a>2.[^](#ref_2): Peker, Philip (25 Jun 2021) Predicting Popularity on Spotify — When Data Needs Culture More than Culture Needs Data. *Towards Data Science*. https://towardsdatascience.com/predicting-popularity-on-spotify-when-data-needs-culture-more-than-culture-needs-data-2ed3661f75f1<br> \n",
    "\n",
    "<a name=\"reference_3\"></a>3.[^](#ref_3): Larkin, Taylor (October 24, 2018). Understanding Song Popularity with Automated Machine Learning. *DataRobot* https://www.datarobot.com/blog/understanding-song-popularity-with-automated-machine-learning/ <br>\n",
    "\n",
    "<a name=\"data_ref\"></a>4.[^](#data): Kaggle https://www.kaggle.com/datasets/yamaerenay/spotify-dataset-19212020-600k-tracks<br>"
   ]
  },
  {
   "cell_type": "code",
   "execution_count": null,
   "metadata": {
    "id": "Hs-XrKAspRm7"
   },
   "outputs": [],
   "source": []
  }
 ],
 "metadata": {
  "accelerator": "GPU",
  "colab": {
   "collapsed_sections": [
    "KcNSc1XrpRmk",
    "YhNsa9PppRm0",
    "svvGcPV9pRm2",
    "DmXNruBupRm4"
   ],
   "name": "group043_eda-checkpoint.ipynb",
   "provenance": []
  },
  "kernelspec": {
   "display_name": "Python 3",
   "language": "python",
   "name": "python3"
  },
  "language_info": {
   "codemirror_mode": {
    "name": "ipython",
    "version": 3
   },
   "file_extension": ".py",
   "mimetype": "text/x-python",
   "name": "python",
   "nbconvert_exporter": "python",
   "pygments_lexer": "ipython3",
   "version": "3.8.5"
  }
 },
 "nbformat": 4,
 "nbformat_minor": 1
}
